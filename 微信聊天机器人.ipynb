{
 "cells": [
  {
   "cell_type": "code",
   "execution_count": null,
   "metadata": {},
   "outputs": [
    {
     "name": "stdout",
     "output_type": "stream",
     "text": [
      "List Trainer: [####################] 100%\n",
      ">刚\n",
      "嗳，渡边君，真喜欢我?\n"
     ]
    }
   ],
   "source": [
    "from chatterbot import ChatBot\n",
    "from chatterbot.trainers import ListTrainer\n",
    "my_bot = ChatBot(\"Training demo\")\n",
    "my_bot.set_trainer(ListTrainer)\n",
    "# 训练集\n",
    "my_bot.train([\n",
    "    \"嗳，渡边君，真喜欢我?\",\n",
    "    \"那还用说?\",\n",
    "    \"那么，可依得我两件事?\",\n",
    "    \"三件也依得\",\n",
    "])\n",
    "while True:\n",
    "    print(my_bot.get_response(input(\">\")))\n"
   ]
  },
  {
   "cell_type": "code",
   "execution_count": 3,
   "metadata": {},
   "outputs": [
    {
     "name": "stderr",
     "output_type": "stream",
     "text": [
      "Please press confirm on your phone.\n",
      "Loading the contact, this may take a little while.\n",
      "Login successfully as Oriel\n",
      "Start auto replying.\n",
      "LOG OUT!\n"
     ]
    },
    {
     "name": "stdout",
     "output_type": "stream",
     "text": [
      "[]\n"
     ]
    }
   ],
   "source": [
    "#coding=utf8\n",
    "import requests\n",
    "import itchat\n",
    "import time\n",
    "\n",
    "KEY = '0ff388485fe5481bbd89f5c0bb7d8765'\n",
    "\n",
    "def get_response(msg):\n",
    "    # 这里我们就像在“3. 实现最简单的与图灵机器人的交互”中做的一样\n",
    "    # 构造了要发送给服务器的数据\n",
    "    apiUrl = 'http://www.tuling123.com/openapi/api'\n",
    "    data = {\n",
    "        'key'    : KEY.encode(encoding='UTF-8',errors='strict'),\n",
    "        'info'   : msg.encode(encoding='UTF-8',errors='strict'),\n",
    "        'userid' : 'wechat-robot'.encode(encoding='UTF-8',errors='strict'),\n",
    "    }\n",
    "    try:\n",
    "        r = requests.post(apiUrl, data=data)\n",
    "        backtext = r.json()\n",
    "        # 字典的get方法在字典没有'text'值的时候会返回None而不会抛出异常\n",
    "        return backtext.get('text')\n",
    "    # 为了防止服务器没有正常响应导致程序异常退出，这里用try-except捕获了异常\n",
    "    # 如果服务器没能正常交互（返回非json或无法连接），那么就会进入下面的return\n",
    "    except:\n",
    "        # 将会返回一个None\n",
    "        return\n",
    "\n",
    "# 这里是我们在“1. 实现微信消息的获取”中已经用到过的同样的注册方法\n",
    "@itchat.msg_register(itchat.content.TEXT)\n",
    "def tuling_reply(msg):\n",
    "    friendInfo = itchat.search_friends(userName=msg['FromUserName'])\n",
    "    myInfo = itchat.search_friends(userName=msg['ToUserName'])\n",
    "    print(\"%s   %s: %s\" % (time.strftime('%Y-%m-%d %H:%M:%S',time.localtime()), friendInfo['NickName'], msg['Content']))\n",
    "    # 为了保证在图灵Key出现问题的时候仍旧可以回复，这里设置一个默认回复\n",
    "    defaultReply = 'I received: ' + msg['Text']\n",
    "    # 如果图灵Key出现问题，那么reply将会是None\n",
    "#     inputText = input(\">\")\n",
    "#     if inputText and inputText is not '':\n",
    "#         reply = inputText\n",
    "#     else:\n",
    "    reply = get_response(msg['Text'])\n",
    "    # a or b的意思是，如果a有内容，那么返回a，否则返回b\n",
    "    # 有内容一般就是指非空或者非None，你可以用`if a: print('True')`来测试\n",
    "    print(\"%s   %s: %s\" % (time.strftime('%Y-%m-%d %H:%M:%S',time.localtime()),myInfo['NickName'], reply or defaultReply))\n",
    "#     or是判断机制，如果replay存在的话则回复replay，如果replay不存在的话则回复后面的默认的数据。\n",
    "    return reply or defaultReply\n",
    "\n",
    "\n",
    "def getFriend():\n",
    "    aaa = itchat.get_friends()\n",
    "    print(aaa)\n",
    "\n",
    "# 为了让实验过程更加方便（修改程序不用多次扫码），我们使用热启动\n",
    "itchat.auto_login(hotReload=True)\n",
    "itchat.run()\n",
    "aaa = itchat.get_friends()\n",
    "print(aaa)\n",
    "# getFriend()\n"
   ]
  },
  {
   "cell_type": "code",
   "execution_count": null,
   "metadata": {},
   "outputs": [],
   "source": []
  }
 ],
 "metadata": {
  "kernelspec": {
   "display_name": "Python 3",
   "language": "python",
   "name": "python3"
  },
  "language_info": {
   "codemirror_mode": {
    "name": "ipython",
    "version": 3
   },
   "file_extension": ".py",
   "mimetype": "text/x-python",
   "name": "python",
   "nbconvert_exporter": "python",
   "pygments_lexer": "ipython3",
   "version": "3.7.0"
  }
 },
 "nbformat": 4,
 "nbformat_minor": 2
}
