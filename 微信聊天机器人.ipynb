{
 "cells": [
  {
   "cell_type": "code",
   "execution_count": null,
   "metadata": {},
   "outputs": [
    {
     "name": "stdout",
     "output_type": "stream",
     "text": [
      "List Trainer: [####################] 100%\n",
      ">刚\n",
      "嗳，渡边君，真喜欢我?\n"
     ]
    }
   ],
   "source": [
    "from chatterbot import ChatBot\n",
    "from chatterbot.trainers import ListTrainer\n",
    "my_bot = ChatBot(\"Training demo\")\n",
    "my_bot.set_trainer(ListTrainer)\n",
    "# 训练集\n",
    "my_bot.train([\n",
    "    \"嗳，渡边君，真喜欢我?\",\n",
    "    \"那还用说?\",\n",
    "    \"那么，可依得我两件事?\",\n",
    "    \"三件也依得\",\n",
    "])\n",
    "while True:\n",
    "    print(my_bot.get_response(input(\">\")))\n"
   ]
  },
  {
   "cell_type": "code",
   "execution_count": 1,
   "metadata": {},
   "outputs": [
    {
     "name": "stdout",
     "output_type": "stream",
     "text": [
      "█\r"
     ]
    },
    {
     "name": "stderr",
     "output_type": "stream",
     "text": [
      "Getting uuid of QR code.\n",
      "Downloading QR code.\n",
      "Please scan the QR code to log in.\n",
      "Please press confirm on your phone.\n",
      "Loading the contact, this may take a little while.\n",
      "Login successfully as Seven\n",
      "Start auto replying.\n"
     ]
    },
    {
     "name": "stdout",
     "output_type": "stream",
     "text": [
      "2018-12-27 17:35:22   Oriel: 第三次。\n",
      ">huifu .\n",
      "2018-12-27 17:35:27   Seven: huifu .\n"
     ]
    },
    {
     "name": "stderr",
     "output_type": "stream",
     "text": [
      "Traceback (most recent call last):\n",
      "  File \"d:\\soft\\python3\\lib\\site-packages\\urllib3\\connectionpool.py\", line 600, in urlopen\n",
      "    chunked=chunked)\n",
      "  File \"d:\\soft\\python3\\lib\\site-packages\\urllib3\\connectionpool.py\", line 384, in _make_request\n",
      "    six.raise_from(e, None)\n",
      "  File \"<string>\", line 2, in raise_from\n",
      "  File \"d:\\soft\\python3\\lib\\site-packages\\urllib3\\connectionpool.py\", line 380, in _make_request\n",
      "    httplib_response = conn.getresponse()\n",
      "  File \"d:\\soft\\python3\\lib\\http\\client.py\", line 1321, in getresponse\n",
      "    response.begin()\n",
      "  File \"d:\\soft\\python3\\lib\\http\\client.py\", line 296, in begin\n",
      "    version, status, reason = self._read_status()\n",
      "  File \"d:\\soft\\python3\\lib\\http\\client.py\", line 265, in _read_status\n",
      "    raise RemoteDisconnected(\"Remote end closed connection without\"\n",
      "http.client.RemoteDisconnected: Remote end closed connection without response\n",
      "\n",
      "During handling of the above exception, another exception occurred:\n",
      "\n",
      "Traceback (most recent call last):\n",
      "  File \"d:\\soft\\python3\\lib\\site-packages\\requests\\adapters.py\", line 449, in send\n",
      "    timeout=timeout\n",
      "  File \"d:\\soft\\python3\\lib\\site-packages\\urllib3\\connectionpool.py\", line 638, in urlopen\n",
      "    _stacktrace=sys.exc_info()[2])\n",
      "  File \"d:\\soft\\python3\\lib\\site-packages\\urllib3\\util\\retry.py\", line 398, in increment\n",
      "    raise MaxRetryError(_pool, url, error or ResponseError(cause))\n",
      "urllib3.exceptions.MaxRetryError: HTTPSConnectionPool(host='wx2.qq.com', port=443): Max retries exceeded with url: /cgi-bin/mmwebwx-bin/webwxsync?sid=yUzMjtOHDEg4BBry&skey=@crypt_9a12af8b_f0ed489770e381f90374e5bd149cb423&pass_ticket=GDsiVcgO09PvWTWg75RNKtkk16Pc5Gxfq6WkAFNQMpg%3D (Caused by ProxyError('Cannot connect to proxy.', RemoteDisconnected('Remote end closed connection without response')))\n",
      "\n",
      "During handling of the above exception, another exception occurred:\n",
      "\n",
      "Traceback (most recent call last):\n",
      "  File \"d:\\soft\\python3\\lib\\site-packages\\itchat\\components\\login.py\", line 253, in maintain_loop\n",
      "    msgList, contactList = self.get_msg()\n",
      "  File \"d:\\soft\\python3\\lib\\site-packages\\itchat\\components\\login.py\", line 334, in get_msg\n",
      "    r = self.s.post(url, data=json.dumps(data), headers=headers, timeout=config.TIMEOUT)\n",
      "  File \"d:\\soft\\python3\\lib\\site-packages\\requests\\sessions.py\", line 572, in post\n",
      "    return self.request('POST', url, data=data, json=json, **kwargs)\n",
      "  File \"d:\\soft\\python3\\lib\\site-packages\\requests\\sessions.py\", line 524, in request\n",
      "    resp = self.send(prep, **send_kwargs)\n",
      "  File \"d:\\soft\\python3\\lib\\site-packages\\requests\\sessions.py\", line 637, in send\n",
      "    r = adapter.send(request, **kwargs)\n",
      "  File \"d:\\soft\\python3\\lib\\site-packages\\requests\\adapters.py\", line 510, in send\n",
      "    raise ProxyError(e, request=request)\n",
      "requests.exceptions.ProxyError: HTTPSConnectionPool(host='wx2.qq.com', port=443): Max retries exceeded with url: /cgi-bin/mmwebwx-bin/webwxsync?sid=yUzMjtOHDEg4BBry&skey=@crypt_9a12af8b_f0ed489770e381f90374e5bd149cb423&pass_ticket=GDsiVcgO09PvWTWg75RNKtkk16Pc5Gxfq6WkAFNQMpg%3D (Caused by ProxyError('Cannot connect to proxy.', RemoteDisconnected('Remote end closed connection without response')))\n",
      "\n"
     ]
    },
    {
     "name": "stdout",
     "output_type": "stream",
     "text": [
      "2018-12-27 17:36:17   Oriel: 哈哈哈哈\n",
      ">\n",
      "11111111111111111111111 {'key': b'0ff388485fe5481bbd89f5c0bb7d8765', 'info': b'\\xe5\\x93\\x88\\xe5\\x93\\x88\\xe5\\x93\\x88\\xe5\\x93\\x88', 'userid': b'wechat-robot'}\n",
      "<Response [200]> {'code': 100000, 'text': '笑得下巴都要掉了'}\n",
      "2018-12-27 17:36:25   Seven: 笑得下巴都要掉了\n",
      "2018-12-27 17:36:33   Oriel: 继续呢。\n",
      ">接着来。\n",
      "2018-12-27 17:36:47   Seven: 接着来。\n",
      "2018-12-27 17:37:00   Oriel: 沙发沙发\n",
      ">\n",
      "11111111111111111111111 {'key': b'0ff388485fe5481bbd89f5c0bb7d8765', 'info': b'\\xe6\\xb2\\x99\\xe5\\x8f\\x91\\xe6\\xb2\\x99\\xe5\\x8f\\x91', 'userid': b'wechat-robot'}\n",
      "<Response [200]> {'code': 100000, 'text': '谢捧场哟么么哒'}\n",
      "2018-12-27 17:37:03   Seven: 谢捧场哟么么哒\n",
      "2018-12-27 17:37:09   Oriel: laile .\n",
      ">士大夫十分\n",
      "2018-12-27 17:37:12   Seven: 士大夫十分\n",
      "2018-12-27 17:37:19   Oriel: 哈哈哈哈哈哈哈。\n",
      ">\n",
      "11111111111111111111111 {'key': b'0ff388485fe5481bbd89f5c0bb7d8765', 'info': b'\\xe5\\x93\\x88\\xe5\\x93\\x88\\xe5\\x93\\x88\\xe5\\x93\\x88\\xe5\\x93\\x88\\xe5\\x93\\x88\\xe5\\x93\\x88\\xe3\\x80\\x82', 'userid': b'wechat-robot'}\n",
      "<Response [200]> {'code': 100000, 'text': '听到你的笑声，我的心情也变好了'}\n",
      "2018-12-27 17:37:21   Seven: 听到你的笑声，我的心情也变好了\n"
     ]
    },
    {
     "name": "stderr",
     "output_type": "stream",
     "text": [
      "LOG OUT!\n"
     ]
    }
   ],
   "source": [
    "#coding=utf8\n",
    "import requests\n",
    "import itchat\n",
    "import time\n",
    "\n",
    "KEY = '0ff388485fe5481bbd89f5c0bb7d8765'\n",
    "\n",
    "def get_response(msg):\n",
    "    # 这里我们就像在“3. 实现最简单的与图灵机器人的交互”中做的一样\n",
    "    # 构造了要发送给服务器的数据\n",
    "    apiUrl = 'http://www.tuling123.com/openapi/api'\n",
    "    data = {\n",
    "        'key'    : KEY.encode(encoding='UTF-8',errors='strict'),\n",
    "        'info'   : msg.encode(encoding='UTF-8',errors='strict'),\n",
    "        'userid' : 'wechat-robot'.encode(encoding='UTF-8',errors='strict'),\n",
    "    }\n",
    "    try:\n",
    "        r = requests.post(apiUrl, data=data)\n",
    "        backtext = r.json()\n",
    "        # 字典的get方法在字典没有'text'值的时候会返回None而不会抛出异常\n",
    "        return backtext.get('text')\n",
    "    # 为了防止服务器没有正常响应导致程序异常退出，这里用try-except捕获了异常\n",
    "    # 如果服务器没能正常交互（返回非json或无法连接），那么就会进入下面的return\n",
    "    except:\n",
    "        # 将会返回一个None\n",
    "        return\n",
    "\n",
    "# 这里是我们在“1. 实现微信消息的获取”中已经用到过的同样的注册方法\n",
    "@itchat.msg_register(itchat.content.TEXT)\n",
    "def tuling_reply(msg):\n",
    "    friendInfo = itchat.search_friends(userName=msg['FromUserName'])\n",
    "    myInfo = itchat.search_friends(userName=msg['ToUserName'])\n",
    "    print(\"%s   %s: %s\" % (time.strftime('%Y-%m-%d %H:%M:%S',time.localtime()), friendInfo['NickName'], msg['Content']))\n",
    "    # 为了保证在图灵Key出现问题的时候仍旧可以回复，这里设置一个默认回复\n",
    "    defaultReply = 'I received: ' + msg['Text']\n",
    "    # 如果图灵Key出现问题，那么reply将会是None\n",
    "    inputText = input(\">\")\n",
    "    if inputText and inputText is not '':\n",
    "        reply = inputText\n",
    "    else:\n",
    "        reply = get_response(msg['Text'])\n",
    "    # a or b的意思是，如果a有内容，那么返回a，否则返回b\n",
    "    # 有内容一般就是指非空或者非None，你可以用`if a: print('True')`来测试\n",
    "    print(\"%s   %s: %s\" % (time.strftime('%Y-%m-%d %H:%M:%S',time.localtime()), myInfo['NickName'], reply or defaultReply))\n",
    "    return reply or defaultReply\n",
    "\n",
    "\n",
    "\n",
    "# 为了让实验过程更加方便（修改程序不用多次扫码），我们使用热启动\n",
    "itchat.auto_login()\n",
    "itchat.run()\n",
    "\n"
   ]
  },
  {
   "cell_type": "code",
   "execution_count": null,
   "metadata": {},
   "outputs": [],
   "source": []
  }
 ],
 "metadata": {
  "kernelspec": {
   "display_name": "Python 3",
   "language": "python",
   "name": "python3"
  },
  "language_info": {
   "codemirror_mode": {
    "name": "ipython",
    "version": 3
   },
   "file_extension": ".py",
   "mimetype": "text/x-python",
   "name": "python",
   "nbconvert_exporter": "python",
   "pygments_lexer": "ipython3",
   "version": "3.7.0"
  }
 },
 "nbformat": 4,
 "nbformat_minor": 2
}
