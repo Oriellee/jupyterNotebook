{
 "cells": [
  {
   "cell_type": "code",
   "execution_count": 1,
   "metadata": {},
   "outputs": [],
   "source": [
    "import requests\n",
    "import json\n",
    "url='http://127.0.0.1:5555/'\n",
    "MJ_TOKEN=''\n",
    "headers = {\"MJ-TOKEN\":MJ_TOKEN}"
   ]
  },
  {
   "cell_type": "code",
   "execution_count": null,
   "metadata": {},
   "outputs": [],
   "source": [
    "title=\"任务列表\"\n",
    "\n",
    "r1 = requests.get(url+\"service/inspection/task_list\")\n",
    "print(str(r1._content, encoding=\"utf-8\"))  "
   ]
  },
  {
   "cell_type": "code",
   "execution_count": 9,
   "metadata": {},
   "outputs": [
    {
     "name": "stdout",
     "output_type": "stream",
     "text": [
      "{\"data\": [{\"id\": 1, \"name\": \"系统管理员\", \"use_authorize\": \"3,4,5,6,8,9,10,11,12,13,14,16,17,19\", \"data_authorize\": null, \"data_create_authorize\": null, \"creator\": \"admin\", \"create_time\": \"2018-10-22 18:30:42\", \"update_time\": \"2018-10-24 17:33:11\"}, {\"id\": 2, \"name\": \"操作员\", \"use_authorize\": \"9\", \"data_authorize\": null, \"data_create_authorize\": null, \"creator\": \"admin\", \"create_time\": \"2018-10-22 18:33:19\", \"update_time\": \"2018-10-23 19:57:07\"}, {\"id\": 4, \"name\": \"test2\", \"use_authorize\": \"4\", \"data_authorize\": null, \"data_create_authorize\": null, \"creator\": \"admin\", \"create_time\": \"2018-11-02 07:00:49\", \"update_time\": \"2018-11-02 07:00:49\"}], \"role_names\": [\"系统管理员\", \"操作员\", \"test2\"]}\n"
     ]
    }
   ],
   "source": [
    "title=\"角色列表\"\n",
    "\n",
    "r1 = requests.get(url+\"service/systemmanage/queryroleinfo\",headers=headers)\n",
    "print(str(r1._content, encoding=\"utf-8\"))  "
   ]
  },
  {
   "cell_type": "code",
   "execution_count": 4,
   "metadata": {},
   "outputs": [
    {
     "name": "stdout",
     "output_type": "stream",
     "text": [
      "{\"data\": [{\"point_name\": \"任务点1\", \"status\": 1, \"addr\": \"猪肉交易市场地下车库，电瓶三轮车充电位置。\", \"lng\": 120.328055, \"lat\": 31.617465, \"img\": \"inspected.png\"}, {\"point_name\": \"任务点2\", \"status\": 1, \"addr\": \"B区入口下方地下车库，BA区连接处，固定车牌号苏B-AQ777旁，防火门侧反光镜位置\", \"lng\": 120.328742, \"lat\": 31.616101, \"img\": \"inspected.png\"}, {\"point_name\": \"任务点3\", \"status\": 1, \"addr\": \"C区调味品市场地下车库，CD连接处，排风机房C-2对面，固定车牌号苏B-9B779旁，防火门侧反光镜位置。\", \"lng\": 120.327785, \"lat\": 31.616305, \"img\": \"inspected.png\"}, {\"point_name\": \"任务点4\", \"status\": 1, \"addr\": \"D区市场地下车库，DE连接处，D区40-77标牌对面，固定车牌号苏B-YC259旁防火门侧。\", \"lng\": 120.327888, \"lat\": 31.616647, \"img\": \"inspected.png\"}, {\"status\": 2, \"device_no\": \"7193110294879 \", \"device_name\": \"设备1\", \"msisdn\": \"13888271792\", \"task_name\": \"任务1\", \"task_begin_time\": \"2018-11-07 16:00:00\", \"task_end_time\": \"2018-11-07 20:00:00\", \"user_name\": \"test1\", \"lng\": 120.3284201921, \"lat\": 31.6189424228, \"img\": \"now.png\"}, {\"point_name\": \"任务点5\", \"status\": 0, \"addr\": \"D区市场地下车库，DE连接处，D区40-77标牌对面，固定车牌号苏B-YC259旁防火门侧。\", \"lng\": 120.327336, \"lat\": 31.615428, \"img\": \"noinspected.png\"}, {\"point_name\": \"任务点6\", \"status\": 0, \"addr\": \"D区市场地下车库，DE连接处，D区40-77标牌对面，固定车牌号苏B-YC259旁防火门侧。\", \"lng\": 120.328639, \"lat\": 31.615436, \"img\": \"noinspected.png\"}, {\"point_name\": \"任务点7\", \"status\": 0, \"addr\": \"D区市场地下车库，DE连接处，D区40-77标牌对面，固定车牌号苏B-YC259旁防火门侧。\", \"lng\": 120.327318, \"lat\": 31.615667, \"img\": \"noinspected.png\"}, {\"point_name\": \"任务点8\", \"status\": 0, \"addr\": \"D区市场地下车库，DE连接处，D区40-77标牌对面，固定车牌号苏B-YC259旁防火门侧。\", \"lng\": 120.328023, \"lat\": 31.617208, \"img\": \"noinspected.png\"}, {\"point_name\": \"任务点9\", \"status\": 0, \"addr\": \"D区市场地下车库，DE连接处，D区40-77标牌对面，固定车牌号苏B-YC259旁防火门侧。\", \"lng\": 120.332106, \"lat\": 31.616408, \"img\": \"noinspected.png\"}, {\"point_name\": \"任务点10\", \"status\": 0, \"addr\": \"D区市场地下车库，DE连接处，D区40-77标牌对面，固定车牌号苏B-YC259旁防火门侧。\", \"lng\": 120.332816, \"lat\": 31.618288, \"img\": \"noinspected.png\"}]}\n"
     ]
    }
   ],
   "source": [
    "title=\"实时巡检点列表\"\n",
    "\n",
    "r1 = requests.get(url+\"service/inspection/task_detail/1\")\n",
    "print(str(r1._content, encoding=\"utf-8\"))  "
   ]
  },
  {
   "cell_type": "code",
   "execution_count": 3,
   "metadata": {},
   "outputs": [
    {
     "name": "stdout",
     "output_type": "stream",
     "text": [
      "{\"data\": [{\"id\": 1, \"device_no\": \"7193110294879 \", \"device_name\": \"设备1\", \"msisdn\": \"13888271792\", \"imsi\": \"88972010835783 \", \"imei\": \"460007139715603 \", \"remark\": \"测试\", \"status\": 1, \"creator\": \"admin\", \"create_time\": \"2018-11-07 10:31:00\", \"update_time\": \"2018-11-07 02:49:00\"}, {\"id\": 2, \"device_no\": \"4589720764882 \", \"device_name\": \"设备2\", \"msisdn\": \"13838184947\", \"imsi\": \"51686743461772 \", \"imei\": \"460000882247439 \", \"remark\": \"测试\", \"status\": 1, \"creator\": \"admin\", \"create_time\": \"2018-11-08 10:31:00\", \"update_time\": \"2018-11-08 02:49:00\"}, {\"id\": 3, \"device_no\": \"6107093224133 \", \"device_name\": \"设备3\", \"msisdn\": \"13885727071\", \"imsi\": \"99345845771168 \", \"imei\": \"460009510059569 \", \"remark\": \"测试\", \"status\": 1, \"creator\": \"admin\", \"create_time\": \"2018-11-09 10:31:00\", \"update_time\": \"2018-11-09 02:49:00\"}, {\"id\": 4, \"device_no\": \"1401075105076 \", \"device_name\": \"设备4\", \"msisdn\": \"13819367811\", \"imsi\": \"72603049011244 \", \"imei\": \"460005840119658 \", \"remark\": \"测试\", \"status\": 1, \"creator\": \"admin\", \"create_time\": \"2018-11-10 10:31:00\", \"update_time\": \"2018-11-10 02:49:00\"}, {\"id\": 5, \"device_no\": \"9020635083306 \", \"device_name\": \"设备5\", \"msisdn\": \"13862879851\", \"imsi\": \"74692247200361 \", \"imei\": \"460002770788222 \", \"remark\": \"测试\", \"status\": 1, \"creator\": \"admin\", \"create_time\": \"2018-11-11 10:31:00\", \"update_time\": \"2018-11-11 02:49:00\"}, {\"id\": 6, \"device_no\": \"292758255751 \", \"device_name\": \"设备6\", \"msisdn\": \"13879854564\", \"imsi\": \"88698376929130 \", \"imei\": \"460002249089994 \", \"remark\": \"测试\", \"status\": 1, \"creator\": \"admin\", \"create_time\": \"2018-11-12 10:31:00\", \"update_time\": \"2018-11-12 02:49:00\"}, {\"id\": 7, \"device_no\": \"7271722881033 \", \"device_name\": \"设备7\", \"msisdn\": \"13867939938\", \"imsi\": \"61232141211814 \", \"imei\": \"460002755392971 \", \"remark\": \"测试\", \"status\": 1, \"creator\": \"admin\", \"create_time\": \"2018-11-13 10:31:00\", \"update_time\": \"2018-11-13 02:49:00\"}, {\"id\": 8, \"device_no\": \"5996586971781 \", \"device_name\": \"设备8\", \"msisdn\": \"13813438815\", \"imsi\": \"38960511442305 \", \"imei\": \"460003591934730 \", \"remark\": \"测试\", \"status\": 1, \"creator\": \"admin\", \"create_time\": \"2018-11-14 10:31:00\", \"update_time\": \"2018-11-14 02:49:00\"}, {\"id\": 9, \"device_no\": \"5555430977807 \", \"device_name\": \"设备9\", \"msisdn\": \"13897601663\", \"imsi\": \"80451128871543 \", \"imei\": \"460002832902860 \", \"remark\": \"测试\", \"status\": 1, \"creator\": \"admin\", \"create_time\": \"2018-11-15 10:31:00\", \"update_time\": \"2018-11-15 02:49:00\"}, {\"id\": 10, \"device_no\": \"286114799377 \", \"device_name\": \"设备10\", \"msisdn\": \"13803507948\", \"imsi\": \"9972047435974 \", \"imei\": \"460008957466156 \", \"remark\": \"测试\", \"status\": 1, \"creator\": \"admin\", \"create_time\": \"2018-11-16 10:31:00\", \"update_time\": \"2018-11-16 02:49:00\"}, {\"id\": 11, \"device_no\": \"cs\", \"device_name\": \"ds\", \"msisdn\": \"ds\", \"imsi\": \"ds\", \"imei\": \"ds\", \"remark\": \"ds\", \"status\": 1, \"creator\": \"admin\", \"create_time\": \"2018-11-16 09:26:00\", \"update_time\": \"2018-11-16 09:26:00\"}, {\"id\": 12, \"device_no\": \"2323433\", \"device_name\": \"f\", \"msisdn\": \"13456778889\", \"imsi\": \"3412423432\", \"imei\": \"4213431241\", \"remark\": \"f\", \"status\": 1, \"creator\": \"admin\", \"create_time\": \"2018-11-23 09:45:59\", \"update_time\": \"2018-11-23 09:45:59\"}]}\n"
     ]
    }
   ],
   "source": [
    "title=\"设备列表\"\n",
    "\n",
    "r1 = requests.get(url+\"service/inspection/device_list\")\n",
    "print(str(r1._content, encoding=\"utf-8\"))  "
   ]
  },
  {
   "cell_type": "code",
   "execution_count": 5,
   "metadata": {},
   "outputs": [
    {
     "name": "stdout",
     "output_type": "stream",
     "text": [
      "{\"data\": {\"table_data\": [{\"task_id\": 1, \"task_run_status\": \"成功任务\", \"failed_cause\": \"\", \"task_name\": \"任务1\", \"device_name\": \"设备1\", \"device_id\": 1, \"user_id\": 3, \"user_name\": \"\", \"start_time\": \"2018-11-11 17:56:00\"}, {\"task_id\": 2, \"task_run_status\": \"未成功任务\", \"failed_cause\": \"测试\", \"task_name\": \"任务2\", \"device_name\": \"设备1\", \"device_id\": 1, \"user_id\": 3, \"user_name\": \"\", \"start_time\": \"2018-11-12 17:56:00\"}], \"iscompletion_data\": [{\"name\": \"成功\", \"value\": 1}, {\"name\": \"失败\", \"value\": 1}], \"alarm_type_data\": [{\"name\": \"测试\", \"value\": 1}], \"distribution_data\": {\"names\": [\"2018-11-11 \", \"2018-11-12 \"], \"values\": [1, 1]}}}\n"
     ]
    }
   ],
   "source": [
    "title=\"历史任务详情\"\n",
    "param = {\n",
    "    'end_time': \"2018-11-13 17:38:55\",\n",
    "    'start_time': \"2018-11-10 17:38:55\",\n",
    "    'device_id': 1   \n",
    "}\n",
    "r1 = requests.post(url+\"service/inspection/task_hirstory\",data=json.dumps(param))\n",
    "print(str(r1._content, encoding=\"utf-8\"))  "
   ]
  },
  {
   "cell_type": "code",
   "execution_count": 6,
   "metadata": {},
   "outputs": [
    {
     "name": "stdout",
     "output_type": "stream",
     "text": [
      "TypeError at /service/inspection/add_task\n",
      "'NoneType' object is not subscriptable\n",
      "\n",
      "Request Method: POST\n",
      "Request URL: http://127.0.0.1:5555/service/inspection/add_task\n",
      "Django Version: 2.1.2\n",
      "Python Executable: D:\\soft\\python3\\python.exe\n",
      "Python Version: 3.7.0\n",
      "Python Path: ['D:\\\\mywork\\\\pig\\\\code\\\\webapp', 'D:\\\\soft\\\\python3\\\\python37.zip', 'D:\\\\soft\\\\python3\\\\DLLs', 'D:\\\\soft\\\\python3\\\\lib', 'D:\\\\soft\\\\python3', 'D:\\\\soft\\\\python3\\\\lib\\\\site-packages', 'D:\\\\mywork\\\\pig\\\\code']\n",
      "Server time: Wed, 28 Nov 2018 17:21:06 +0000\n",
      "Installed Applications:\n",
      "['django.contrib.admin',\n",
      " 'django.contrib.auth',\n",
      " 'django.contrib.contenttypes',\n",
      " 'django.contrib.sessions',\n",
      " 'django.contrib.messages',\n",
      " 'django.contrib.staticfiles',\n",
      " 'rest_framework',\n",
      " 'homepage',\n",
      " 'inspection',\n",
      " 'menu',\n",
      " 'systemmanage',\n",
      " 'track',\n",
      " 'user',\n",
      " 'vediomanage']\n",
      "Installed Middleware:\n",
      "['django.middleware.security.SecurityMiddleware',\n",
      " 'django.contrib.sessions.middleware.SessionMiddleware',\n",
      " 'django.middleware.common.CommonMiddleware',\n",
      " 'django.middleware.csrf.CsrfViewMiddleware',\n",
      " 'django.contrib.auth.middleware.AuthenticationMiddleware',\n",
      " 'django.contrib.messages.middleware.MessageMiddleware',\n",
      " 'django.middleware.clickjacking.XFrameOptionsMiddleware']\n",
      "\n",
      "\n",
      "Traceback:\n",
      "\n",
      "File \"D:\\soft\\python3\\lib\\site-packages\\django\\core\\handlers\\exception.py\" in inner\n",
      "  34.             response = get_response(request)\n",
      "\n",
      "File \"D:\\soft\\python3\\lib\\site-packages\\django\\core\\handlers\\base.py\" in _get_response\n",
      "  126.                 response = self.process_exception_by_middleware(e, request)\n",
      "\n",
      "File \"D:\\soft\\python3\\lib\\site-packages\\django\\core\\handlers\\base.py\" in _get_response\n",
      "  124.                 response = wrapped_callback(request, *callback_args, **callback_kwargs)\n",
      "\n",
      "File \"D:\\soft\\python3\\lib\\site-packages\\django\\views\\decorators\\csrf.py\" in wrapped_view\n",
      "  54.         return view_func(*args, **kwargs)\n",
      "\n",
      "File \"D:\\soft\\python3\\lib\\site-packages\\django\\views\\generic\\base.py\" in view\n",
      "  68.             return self.dispatch(request, *args, **kwargs)\n",
      "\n",
      "File \"D:\\soft\\python3\\lib\\site-packages\\rest_framework\\views.py\" in dispatch\n",
      "  495.             response = self.handle_exception(exc)\n",
      "\n",
      "File \"D:\\soft\\python3\\lib\\site-packages\\rest_framework\\views.py\" in handle_exception\n",
      "  455.             self.raise_uncaught_exception(exc)\n",
      "\n",
      "File \"D:\\soft\\python3\\lib\\site-packages\\rest_framework\\views.py\" in dispatch\n",
      "  492.             response = handler(request, *args, **kwargs)\n",
      "\n",
      "File \"D:\\mywork\\pig\\code\\webapp\\inspection\\views.py\" in post\n",
      "  342.         username = user[\"username\"]\n",
      "\n",
      "Exception Type: TypeError at /service/inspection/add_task\n",
      "Exception Value: 'NoneType' object is not subscriptable\n",
      "Request information:\n",
      "USER: AnonymousUser\n",
      "\n",
      "GET: No GET data\n",
      "\n",
      "POST: No POST data\n",
      "\n",
      "FILES: No FILES data\n",
      "\n",
      "COOKIES: No cookie data\n",
      "\n",
      "META:\n",
      "ALLUSERSPROFILE = 'C:\\\\ProgramData'\n",
      "APPDATA = 'C:\\\\Users\\\\oriel\\\\AppData\\\\Roaming'\n",
      "COMMONPROGRAMFILES = 'C:\\\\Program Files\\\\Common Files'\n",
      "COMMONPROGRAMFILES(X86) = 'C:\\\\Program Files (x86)\\\\Common Files'\n",
      "COMMONPROGRAMW6432 = 'C:\\\\Program Files\\\\Common Files'\n",
      "COMPUTERNAME = 'DESKTOP-LHI5J8E'\n",
      "COMSPEC = 'C:\\\\Windows\\\\system32\\\\cmd.exe'\n",
      "CONFIGSETROOT = 'C:\\\\Windows\\\\ConfigSetRoot'\n",
      "CONTENT_LENGTH = '169'\n",
      "CONTENT_TYPE = 'text/plain'\n",
      "DJANGO_SETTINGS_MODULE = 'restapp.settings'\n",
      "DRIVERDATA = 'C:\\\\Windows\\\\System32\\\\Drivers\\\\DriverData'\n",
      "FPS_BROWSER_APP_PROFILE_STRING = 'Internet Explorer'\n",
      "FPS_BROWSER_USER_PROFILE_STRING = 'Default'\n",
      "GATEWAY_INTERFACE = 'CGI/1.1'\n",
      "HOMEDRIVE = 'C:'\n",
      "HOMEPATH = '\\\\Users\\\\oriel'\n",
      "HTTP_ACCEPT = '*/*'\n",
      "HTTP_ACCEPT_ENCODING = 'gzip, deflate'\n",
      "HTTP_HOST = '127.0.0.1:5555'\n",
      "HTTP_MJ_TOKEN = ''\n",
      "HTTP_USER_AGENT = 'python-requests/2.20.0'\n",
      "HTTP_X_LANTERN_VERSION = '4.9.0'\n",
      "LOCALAPPDATA = 'C:\\\\Users\\\\oriel\\\\AppData\\\\Local'\n",
      "LOGONSERVER = '\\\\\\\\DESKTOP-LHI5J8E'\n",
      "NLS_LANG = 'AMERICAN_AMERICA.ZHS16GBK'\n",
      "NUMBER_OF_PROCESSORS = '6'\n",
      "ONEDRIVE = 'C:\\\\Users\\\\oriel\\\\OneDrive'\n",
      "OS = 'Windows_NT'\n",
      "PATH = 'C:\\\\Program Files (x86)\\\\Intel\\\\Intel(R) Management Engine Components\\\\iCLS\\\\;C:\\\\Program Files\\\\Intel\\\\Intel(R) Management Engine Components\\\\iCLS\\\\;C:\\\\Windows\\\\system32;C:\\\\Windows;C:\\\\Windows\\\\System32\\\\Wbem;C:\\\\Windows\\\\System32\\\\WindowsPowerShell\\\\v1.0\\\\;C:\\\\Windows\\\\System32\\\\OpenSSH\\\\;C:\\\\Program Files (x86)\\\\Intel\\\\Intel(R) Management Engine Components\\\\DAL;C:\\\\Program Files\\\\Intel\\\\Intel(R) Management Engine Components\\\\DAL;C:\\\\Program Files (x86)\\\\Intel\\\\Intel(R) Management Engine Components\\\\IPT;C:\\\\Program Files\\\\Intel\\\\Intel(R) Management Engine Components\\\\IPT;D:\\\\soft\\\\Git\\\\cmd;D:\\\\soft\\\\nodejs\\\\;C:\\\\Program Files (x86)\\\\NVIDIA Corporation\\\\PhysX\\\\Common;D:\\\\soft\\\\instantclient_12_1;D:\\\\soft\\\\instantclient_12_1\\\\sdk;C:\\\\Program Files\\\\MySQL\\\\MySQL Server 8.0\\\\bin;D:\\\\soft\\\\python3\\\\Scripts\\\\;D:\\\\soft\\\\python3\\\\;C:\\\\Users\\\\oriel\\\\AppData\\\\Local\\\\Microsoft\\\\WindowsApps;C:\\\\Users\\\\oriel\\\\AppData\\\\Local\\\\GitHubDesktop\\\\bin;C:\\\\Users\\\\oriel\\\\AppData\\\\Roaming\\\\npm;D:\\\\soft\\\\instantclient_12_1;D:\\\\soft\\\\instantclient_12_1\\\\sdk;'\n",
      "PATHEXT = '.COM;.EXE;.BAT;.CMD;.VBS;.VBE;.JS;.JSE;.WSF;.WSH;.MSC'\n",
      "PATH_INFO = '/service/inspection/add_task'\n",
      "PROCESSOR_ARCHITECTURE = 'AMD64'\n",
      "PROCESSOR_IDENTIFIER = 'Intel64 Family 6 Model 158 Stepping 10, GenuineIntel'\n",
      "PROCESSOR_LEVEL = '6'\n",
      "PROCESSOR_REVISION = '9e0a'\n",
      "PROGRAMDATA = 'C:\\\\ProgramData'\n",
      "PROGRAMFILES = 'C:\\\\Program Files'\n",
      "PROGRAMFILES(X86) = 'C:\\\\Program Files (x86)'\n",
      "PROGRAMW6432 = 'C:\\\\Program Files'\n",
      "PROMPT = '$P$G'\n",
      "PSMODULEPATH = 'C:\\\\Program Files\\\\WindowsPowerShell\\\\Modules;C:\\\\Windows\\\\system32\\\\WindowsPowerShell\\\\v1.0\\\\Modules'\n",
      "PUBLIC = 'C:\\\\Users\\\\Public'\n",
      "QUERY_STRING = ''\n",
      "REMOTE_ADDR = '127.0.0.1'\n",
      "REMOTE_HOST = ''\n",
      "REQUEST_METHOD = 'POST'\n",
      "RUN_MAIN = 'true'\n",
      "SCRIPT_NAME = ''\n",
      "SERVER_NAME = 'DESKTOP-LHI5J8E'\n",
      "SERVER_PORT = '5555'\n",
      "SERVER_PROTOCOL = 'HTTP/1.1'\n",
      "SERVER_SOFTWARE = 'WSGIServer/0.2'\n",
      "SESSIONNAME = 'Console'\n",
      "SYSTEMDRIVE = 'C:'\n",
      "SYSTEMROOT = 'C:\\\\Windows'\n",
      "TEMP = 'C:\\\\Users\\\\oriel\\\\AppData\\\\Local\\\\Temp'\n",
      "TMP = 'C:\\\\Users\\\\oriel\\\\AppData\\\\Local\\\\Temp'\n",
      "TNS_ADMIN = 'D:\\\\soft\\\\instantclient_12_1'\n",
      "USERDOMAIN = 'DESKTOP-LHI5J8E'\n",
      "USERDOMAIN_ROAMINGPROFILE = 'DESKTOP-LHI5J8E'\n",
      "USERNAME = 'oriel'\n",
      "USERPROFILE = 'C:\\\\Users\\\\oriel'\n",
      "VCINSTALLDIR = 'C:\\\\Program Files (x86)\\\\Microsoft Visual Studio 14.0\\\\VC\\\\include'\n",
      "VS140COMNTOOLS = 'C:\\\\Program Files (x86)\\\\Microsoft Visual Studio 14.0\\\\Common7\\\\Tools\\\\'\n",
      "WINDIR = 'C:\\\\Windows'\n",
      "wsgi.errors = <_io.TextIOWrapper name='<stderr>' mode='w' encoding='utf-8'>\n",
      "wsgi.file_wrapper = ''\n",
      "wsgi.input = <_io.BufferedReader name=496>\n",
      "wsgi.multiprocess = False\n",
      "wsgi.multithread = True\n",
      "wsgi.run_once = False\n",
      "wsgi.url_scheme = 'http'\n",
      "wsgi.version = '(1, 0)'\n",
      "\n",
      "Settings:\n",
      "Using settings module restapp.settings\n",
      "ABSOLUTE_URL_OVERRIDES = {}\n",
      "ADMINS = []\n",
      "ALLOWED_HOSTS = ['*']\n",
      "APPEND_SLASH = True\n",
      "AUTHENTICATION_BACKENDS = ['django.contrib.auth.backends.ModelBackend']\n",
      "AUTH_PASSWORD_VALIDATORS = '********************'\n",
      "AUTH_USER_MODEL = 'auth.User'\n",
      "BASE_DIR = 'D:\\\\mywork\\\\pig\\\\code\\\\webapp'\n",
      "CACHES = {'default': {'BACKEND': 'django.core.cache.backends.locmem.LocMemCache'}}\n",
      "CACHE_MIDDLEWARE_ALIAS = 'default'\n",
      "CACHE_MIDDLEWARE_KEY_PREFIX = '********************'\n",
      "CACHE_MIDDLEWARE_SECONDS = 600\n",
      "CSRF_COOKIE_AGE = 31449600\n",
      "CSRF_COOKIE_DOMAIN = None\n",
      "CSRF_COOKIE_HTTPONLY = False\n",
      "CSRF_COOKIE_NAME = 'csrftoken'\n",
      "CSRF_COOKIE_PATH = '/'\n",
      "CSRF_COOKIE_SAMESITE = 'Lax'\n",
      "CSRF_COOKIE_SECURE = False\n",
      "CSRF_FAILURE_VIEW = 'django.views.csrf.csrf_failure'\n",
      "CSRF_HEADER_NAME = 'HTTP_X_CSRFTOKEN'\n",
      "CSRF_TRUSTED_ORIGINS = []\n",
      "CSRF_USE_SESSIONS = False\n",
      "DATABASES = {'default': {'ENGINE': 'django.db.backends.mysql', 'NAME': 'seafood_market', 'PORT': '3306', 'USER': 'seafood_market', 'PASSWORD': '********************', 'HOST': '192.168.2.203', 'ATOMIC_REQUESTS': False, 'AUTOCOMMIT': True, 'CONN_MAX_AGE': 0, 'OPTIONS': {}, 'TIME_ZONE': None, 'TEST': {'CHARSET': None, 'COLLATION': None, 'NAME': None, 'MIRROR': None}}}\n",
      "DATABASE_ROUTERS = []\n",
      "DATA_UPLOAD_MAX_MEMORY_SIZE = 2621440\n",
      "DATA_UPLOAD_MAX_NUMBER_FIELDS = 1000\n",
      "DATETIME_FORMAT = 'N j, Y, P'\n",
      "DATETIME_INPUT_FORMATS = ['%Y-%m-%d %H:%M:%S', '%Y-%m-%d %H:%M:%S.%f', '%Y-%m-%d %H:%M', '%Y-%m-%d', '%m/%d/%Y %H:%M:%S', '%m/%d/%Y %H:%M:%S.%f', '%m/%d/%Y %H:%M', '%m/%d/%Y', '%m/%d/%y %H:%M:%S', '%m/%d/%y %H:%M:%S.%f', '%m/%d/%y %H:%M', '%m/%d/%y']\n",
      "DATE_FORMAT = 'N j, Y'\n",
      "DATE_INPUT_FORMATS = ['%Y-%m-%d', '%m/%d/%Y', '%m/%d/%y', '%b %d %Y', '%b %d, %Y', '%d %b %Y', '%d %b, %Y', '%B %d %Y', '%B %d, %Y', '%d %B %Y', '%d %B, %Y']\n",
      "DEBUG = True\n",
      "DEBUG_PROPAGATE_EXCEPTIONS = False\n",
      "DECIMAL_SEPARATOR = '.'\n",
      "DEFAULT_CHARSET = 'utf-8'\n",
      "DEFAULT_CONTENT_TYPE = 'text/html'\n",
      "DEFAULT_EXCEPTION_REPORTER_FILTER = 'django.views.debug.SafeExceptionReporterFilter'\n",
      "DEFAULT_FILE_STORAGE = 'django.core.files.storage.FileSystemStorage'\n",
      "DEFAULT_FROM_EMAIL = 'webmaster@localhost'\n",
      "DEFAULT_INDEX_TABLESPACE = ''\n",
      "DEFAULT_TABLESPACE = ''\n",
      "DISALLOWED_USER_AGENTS = []\n",
      "EMAIL_BACKEND = 'django.core.mail.backends.smtp.EmailBackend'\n",
      "EMAIL_HOST = 'localhost'\n",
      "EMAIL_HOST_PASSWORD = '********************'\n",
      "EMAIL_HOST_USER = ''\n",
      "EMAIL_PORT = 25\n",
      "EMAIL_SSL_CERTFILE = None\n",
      "EMAIL_SSL_KEYFILE = '********************'\n",
      "EMAIL_SUBJECT_PREFIX = '[Django] '\n",
      "EMAIL_TIMEOUT = None\n",
      "EMAIL_USE_LOCALTIME = False\n",
      "EMAIL_USE_SSL = False\n",
      "EMAIL_USE_TLS = False\n",
      "FILE_CHARSET = 'utf-8'\n",
      "FILE_UPLOAD_DIRECTORY_PERMISSIONS = None\n",
      "FILE_UPLOAD_HANDLERS = ['django.core.files.uploadhandler.MemoryFileUploadHandler', 'django.core.files.uploadhandler.TemporaryFileUploadHandler']\n",
      "FILE_UPLOAD_MAX_MEMORY_SIZE = 2621440\n",
      "FILE_UPLOAD_PERMISSIONS = None\n",
      "FILE_UPLOAD_TEMP_DIR = None\n",
      "FIRST_DAY_OF_WEEK = 0\n",
      "FIXTURE_DIRS = []\n",
      "FORCE_SCRIPT_NAME = None\n",
      "FORMAT_MODULE_PATH = None\n",
      "FORM_RENDERER = 'django.forms.renderers.DjangoTemplates'\n",
      "IGNORABLE_404_URLS = []\n",
      "INSTALLED_APPS = ['django.contrib.admin', 'django.contrib.auth', 'django.contrib.contenttypes', 'django.contrib.sessions', 'django.contrib.messages', 'django.contrib.staticfiles', 'rest_framework', 'homepage', 'inspection', 'menu', 'systemmanage', 'track', 'user', 'vediomanage']\n",
      "INTERNAL_IPS = []\n",
      "LANGUAGES = [('af', 'Afrikaans'), ('ar', 'Arabic'), ('ast', 'Asturian'), ('az', 'Azerbaijani'), ('bg', 'Bulgarian'), ('be', 'Belarusian'), ('bn', 'Bengali'), ('br', 'Breton'), ('bs', 'Bosnian'), ('ca', 'Catalan'), ('cs', 'Czech'), ('cy', 'Welsh'), ('da', 'Danish'), ('de', 'German'), ('dsb', 'Lower Sorbian'), ('el', 'Greek'), ('en', 'English'), ('en-au', 'Australian English'), ('en-gb', 'British English'), ('eo', 'Esperanto'), ('es', 'Spanish'), ('es-ar', 'Argentinian Spanish'), ('es-co', 'Colombian Spanish'), ('es-mx', 'Mexican Spanish'), ('es-ni', 'Nicaraguan Spanish'), ('es-ve', 'Venezuelan Spanish'), ('et', 'Estonian'), ('eu', 'Basque'), ('fa', 'Persian'), ('fi', 'Finnish'), ('fr', 'French'), ('fy', 'Frisian'), ('ga', 'Irish'), ('gd', 'Scottish Gaelic'), ('gl', 'Galician'), ('he', 'Hebrew'), ('hi', 'Hindi'), ('hr', 'Croatian'), ('hsb', 'Upper Sorbian'), ('hu', 'Hungarian'), ('ia', 'Interlingua'), ('id', 'Indonesian'), ('io', 'Ido'), ('is', 'Icelandic'), ('it', 'Italian'), ('ja', 'Japanese'), ('ka', 'Georgian'), ('kab', 'Kabyle'), ('kk', 'Kazakh'), ('km', 'Khmer'), ('kn', 'Kannada'), ('ko', 'Korean'), ('lb', 'Luxembourgish'), ('lt', 'Lithuanian'), ('lv', 'Latvian'), ('mk', 'Macedonian'), ('ml', 'Malayalam'), ('mn', 'Mongolian'), ('mr', 'Marathi'), ('my', 'Burmese'), ('nb', 'Norwegian Bokmål'), ('ne', 'Nepali'), ('nl', 'Dutch'), ('nn', 'Norwegian Nynorsk'), ('os', 'Ossetic'), ('pa', 'Punjabi'), ('pl', 'Polish'), ('pt', 'Portuguese'), ('pt-br', 'Brazilian Portuguese'), ('ro', 'Romanian'), ('ru', 'Russian'), ('sk', 'Slovak'), ('sl', 'Slovenian'), ('sq', 'Albanian'), ('sr', 'Serbian'), ('sr-latn', 'Serbian Latin'), ('sv', 'Swedish'), ('sw', 'Swahili'), ('ta', 'Tamil'), ('te', 'Telugu'), ('th', 'Thai'), ('tr', 'Turkish'), ('tt', 'Tatar'), ('udm', 'Udmurt'), ('uk', 'Ukrainian'), ('ur', 'Urdu'), ('vi', 'Vietnamese'), ('zh-hans', 'Simplified Chinese'), ('zh-hant', 'Traditional Chinese')]\n",
      "LANGUAGES_BIDI = ['he', 'ar', 'fa', 'ur']\n",
      "LANGUAGE_CODE = 'en-us'\n",
      "LANGUAGE_COOKIE_AGE = None\n",
      "LANGUAGE_COOKIE_DOMAIN = None\n",
      "LANGUAGE_COOKIE_NAME = 'django_language'\n",
      "LANGUAGE_COOKIE_PATH = '/'\n",
      "LOCALE_PATHS = []\n",
      "LOGGING = {'version': 1, 'disable_existing_loggers': False, 'filters': {'require_debug_false': {'()': 'django.utils.log.RequireDebugFalse'}, 'require_debug_true': {'()': 'django.utils.log.RequireDebugTrue'}}, 'formatters': {'sc.logger.fmt': {'()': 'django.utils.log.ServerFormatter', 'format': '%(asctime)s %(levelname)s %(message)s'}}, 'handlers': {'console': {'level': 'INFO', 'class': 'logging.StreamHandler', 'formatter': 'sc.logger.fmt'}, 'sc.logger.hd': {'level': 'INFO', 'class': 'logging.FileHandler', 'filename': 'D:\\\\mywork\\\\pig\\\\code/log//sc_logger.log', 'formatter': 'sc.logger.fmt'}}, 'loggers': {'sc.logger': {'handlers': ['console', 'sc.logger.hd'], 'level': 'INFO'}, 'django': {'handlers': ['console', 'sc.logger.hd'], 'level': 'INFO'}, 'django.server': {'handlers': ['console', 'sc.logger.hd'], 'level': 'INFO', 'propagate': False}}}\n",
      "LOGGING_CONFIG = 'logging.config.dictConfig'\n",
      "LOGIN_REDIRECT_URL = '/accounts/profile/'\n",
      "LOGIN_URL = '/accounts/login/'\n",
      "LOGOUT_REDIRECT_URL = None\n",
      "MANAGERS = []\n",
      "MEDIA_ROOT = ''\n",
      "MEDIA_URL = ''\n",
      "MESSAGE_STORAGE = 'django.contrib.messages.storage.fallback.FallbackStorage'\n",
      "MIDDLEWARE = ['django.middleware.security.SecurityMiddleware', 'django.contrib.sessions.middleware.SessionMiddleware', 'django.middleware.common.CommonMiddleware', 'django.middleware.csrf.CsrfViewMiddleware', 'django.contrib.auth.middleware.AuthenticationMiddleware', 'django.contrib.messages.middleware.MessageMiddleware', 'django.middleware.clickjacking.XFrameOptionsMiddleware']\n",
      "MIGRATION_MODULES = {}\n",
      "MONTH_DAY_FORMAT = 'F j'\n",
      "NUMBER_GROUPING = 0\n",
      "PASSWORD_HASHERS = '********************'\n",
      "PASSWORD_RESET_TIMEOUT_DAYS = '********************'\n",
      "PREPEND_WWW = False\n",
      "ROOT_URLCONF = 'restapp.urls'\n",
      "SECRET_KEY = '********************'\n",
      "SECURE_BROWSER_XSS_FILTER = False\n",
      "SECURE_CONTENT_TYPE_NOSNIFF = False\n",
      "SECURE_HSTS_INCLUDE_SUBDOMAINS = False\n",
      "SECURE_HSTS_PRELOAD = False\n",
      "SECURE_HSTS_SECONDS = 0\n",
      "SECURE_PROXY_SSL_HEADER = None\n",
      "SECURE_REDIRECT_EXEMPT = []\n",
      "SECURE_SSL_HOST = None\n",
      "SECURE_SSL_REDIRECT = False\n",
      "SERVER_EMAIL = 'root@localhost'\n",
      "SESSION_CACHE_ALIAS = 'default'\n",
      "SESSION_COOKIE_AGE = 1209600\n",
      "SESSION_COOKIE_DOMAIN = None\n",
      "SESSION_COOKIE_HTTPONLY = True\n",
      "SESSION_COOKIE_NAME = 'sessionid'\n",
      "SESSION_COOKIE_PATH = '/'\n",
      "SESSION_COOKIE_SAMESITE = 'Lax'\n",
      "SESSION_COOKIE_SECURE = False\n",
      "SESSION_ENGINE = 'django.contrib.sessions.backends.db'\n",
      "SESSION_EXPIRE_AT_BROWSER_CLOSE = False\n",
      "SESSION_FILE_PATH = None\n",
      "SESSION_SAVE_EVERY_REQUEST = False\n",
      "SESSION_SERIALIZER = 'django.contrib.sessions.serializers.JSONSerializer'\n",
      "SETTINGS_MODULE = 'restapp.settings'\n",
      "SHORT_DATETIME_FORMAT = 'm/d/Y P'\n",
      "SHORT_DATE_FORMAT = 'm/d/Y'\n",
      "SIGNING_BACKEND = 'django.core.signing.TimestampSigner'\n",
      "SILENCED_SYSTEM_CHECKS = []\n",
      "STATICFILES_DIRS = ['D:\\\\mywork\\\\pig\\\\code\\\\webapp\\\\static']\n",
      "STATICFILES_FINDERS = ['django.contrib.staticfiles.finders.FileSystemFinder', 'django.contrib.staticfiles.finders.AppDirectoriesFinder']\n",
      "STATICFILES_STORAGE = 'django.contrib.staticfiles.storage.StaticFilesStorage'\n",
      "STATIC_ROOT = None\n",
      "STATIC_URL = '/static/'\n",
      "TEMPLATES = [{'BACKEND': 'django.template.backends.django.DjangoTemplates', 'DIRS': [], 'APP_DIRS': True, 'OPTIONS': {'context_processors': ['django.template.context_processors.debug', 'django.template.context_processors.request', 'django.contrib.auth.context_processors.auth', 'django.contrib.messages.context_processors.messages']}}]\n",
      "TEST_NON_SERIALIZED_APPS = []\n",
      "TEST_RUNNER = 'django.test.runner.DiscoverRunner'\n",
      "THOUSAND_SEPARATOR = ','\n",
      "TIME_FORMAT = 'P'\n",
      "TIME_INPUT_FORMATS = ['%H:%M:%S', '%H:%M:%S.%f', '%H:%M']\n",
      "TIME_ZONE = 'UTC'\n",
      "USE_I18N = True\n",
      "USE_L10N = True\n",
      "USE_THOUSAND_SEPARATOR = False\n",
      "USE_TZ = False\n",
      "USE_X_FORWARDED_HOST = False\n",
      "USE_X_FORWARDED_PORT = False\n",
      "WSGI_APPLICATION = 'restapp.wsgi.application'\n",
      "X_FRAME_OPTIONS = 'SAMEORIGIN'\n",
      "YEAR_MONTH_FORMAT = 'F Y'\n",
      "\n",
      "\n",
      "You're seeing this error because you have DEBUG = True in your\n",
      "Django settings file. Change that to False, and Django will\n",
      "display a standard page generated by the handler for this status code.\n",
      "\n",
      "\n"
     ]
    }
   ],
   "source": [
    "title=\"添加任务\"\n",
    "param ={\n",
    "        \"task_name\":\"11111111111111111111111\",\n",
    "        \"device_id\":2,\n",
    "        \"task_line_id\":1,\n",
    "        \"time\":[{\"task_begin_time\":\"2017-10-11 11:11:11\",\"task_end_time\":\"2018-10-12 11:11:11\"}]\n",
    "}\n",
    "r1 = requests.post(url+\"service/inspection/add_task\",data=json.dumps(param),headers=headers)\n",
    "print(str(r1._content, encoding=\"utf-8\"))  "
   ]
  },
  {
   "cell_type": "code",
   "execution_count": 7,
   "metadata": {},
   "outputs": [
    {
     "name": "stdout",
     "output_type": "stream",
     "text": [
      "{\"id\": 12}\n"
     ]
    }
   ],
   "source": [
    "title=\"删除任务\"\n",
    "\n",
    "r1 = requests.get(url+\"service/inspection/del_task/12\",headers=headers)\n",
    "print(str(r1._content, encoding=\"utf-8\"))  "
   ]
  },
  {
   "cell_type": "code",
   "execution_count": 8,
   "metadata": {},
   "outputs": [
    {
     "name": "stdout",
     "output_type": "stream",
     "text": [
      "{\"data\": [{\"id\": 1, \"line_name\": \"任务路线1\", \"line_points\": [{\"id\": 1, \"point_name\": \"任务点1\", \"point_type\": \"sva\", \"lat\": 31.617465, \"lng\": 120.328055, \"tag\": \"PRRUB1F-6\", \"creator\": \"admin\", \"addr\": \"猪肉交易市场地下车库，电瓶三轮车充电位置。\", \"create_time\": \"2018-11-05 15:35:00\", \"update_time\": \"2018-11-05 15:35:00\"}, {\"id\": 2, \"point_name\": \"任务点2\", \"point_type\": \"sva\", \"lat\": 31.616101, \"lng\": 120.328742, \"tag\": \"PRRUB1F-4\", \"creator\": \"admin\", \"addr\": \"B区入口下方地下车库，BA区连接处，固定车牌号苏B-AQ777旁，防火门侧反光镜位置\", \"create_time\": \"2018-11-05 15:35:00\", \"update_time\": \"2018-11-05 15:35:00\"}, {\"id\": 3, \"point_name\": \"任务点3\", \"point_type\": \"sva\", \"lat\": 31.616305, \"lng\": 120.327785, \"tag\": \"PRRUB1F-3\", \"creator\": \"admin\", \"addr\": \"C区调味品市场地下车库，CD连接处，排风机房C-2对面，固定车牌号苏B-9B779旁，防火门侧反光镜位置。\", \"create_time\": \"2018-11-05 15:35:00\", \"update_time\": \"2018-11-05 15:35:00\"}, {\"id\": 4, \"point_name\": \"任务点4\", \"point_type\": \"sva\", \"lat\": 31.616647, \"lng\": 120.327888, \"tag\": \"PRRUB1F-5\", \"creator\": \"admin\", \"addr\": \"D区市场地下车库，DE连接处，D区40-77标牌对面，固定车牌号苏B-YC259旁防火门侧。\", \"create_time\": \"2018-11-05 15:35:00\", \"update_time\": \"2018-11-05 15:35:00\"}, {\"id\": 5, \"point_name\": \"任务点5\", \"point_type\": \"sva\", \"lat\": 31.615428, \"lng\": 120.327336, \"tag\": \"PRRUB1F-1\", \"creator\": \"admin\", \"addr\": \"综合楼地下车库电梯间入口，固定车牌号苏B-0F065旁，苏B-GP751对面\", \"create_time\": \"2018-11-05 15:35:00\", \"update_time\": \"2018-11-05 15:35:00\"}, {\"id\": 6, \"point_name\": \"任务点6\", \"point_type\": \"sva\", \"lat\": 31.615436, \"lng\": 120.328639, \"tag\": \"PRRUB1F-2\", \"creator\": \"admin\", \"addr\": \"综合楼办公室1楼地下车库入口 “三轮车禁止停放，二轮车停车区”标牌处。\", \"create_time\": \"2018-11-05 15:35:00\", \"update_time\": \"2018-11-05 15:35:00\"}, {\"id\": 7, \"point_name\": \"任务点7\", \"point_type\": \"app\", \"lat\": 31.615667, \"lng\": 120.327318, \"tag\": \"\", \"creator\": \"admin\", \"addr\": \"G区精品市场，肉类准入备案中心门口\", \"create_time\": \"2018-11-05 15:35:00\", \"update_time\": \"2018-11-05 15:35:00\"}, {\"id\": 8, \"point_name\": \"任务点8\", \"point_type\": \"app\", \"lat\": 31.617208, \"lng\": 120.328023, \"tag\": \"\", \"creator\": \"admin\", \"addr\": \"肉类交易市场南大门\", \"create_time\": \"2018-11-05 15:35:00\", \"update_time\": \"2018-11-05 15:35:00\"}, {\"id\": 9, \"point_name\": \"任务点9\", \"point_type\": \"app\", \"lat\": 31.616408, \"lng\": 120.332106, \"tag\": \"\", \"creator\": \"admin\", \"addr\": \"天鹏智能冷库对面垃圾处理站，海鲜市场西北角坡道处\", \"create_time\": \"2018-11-05 15:35:00\", \"update_time\": \"2018-11-05 15:35:00\"}, {\"id\": 10, \"point_name\": \"任务点10\", \"point_type\": \"app\", \"lat\": 31.618288, \"lng\": 120.332816, \"tag\": \"\", \"creator\": \"admin\", \"addr\": \"天鹏智能冷库16号库到底，市场西北角\", \"create_time\": \"2018-11-05 15:35:00\", \"update_time\": \"2018-11-05 15:35:00\"}], \"creator\": \"admin\", \"create_time\": \"2018-11-05 15:36:00\", \"update_time\": \"2018-11-14 12:15:00\"}, {\"id\": 2, \"line_name\": \"任务路线2\", \"line_points\": [{\"id\": 1, \"point_name\": \"任务点1\", \"point_type\": \"sva\", \"lat\": 31.617465, \"lng\": 120.328055, \"tag\": \"PRRUB1F-6\", \"creator\": \"admin\", \"addr\": \"猪肉交易市场地下车库，电瓶三轮车充电位置。\", \"create_time\": \"2018-11-05 15:35:00\", \"update_time\": \"2018-11-05 15:35:00\"}, {\"id\": 2, \"point_name\": \"任务点2\", \"point_type\": \"sva\", \"lat\": 31.616101, \"lng\": 120.328742, \"tag\": \"PRRUB1F-4\", \"creator\": \"admin\", \"addr\": \"B区入口下方地下车库，BA区连接处，固定车牌号苏B-AQ777旁，防火门侧反光镜位置\", \"create_time\": \"2018-11-05 15:35:00\", \"update_time\": \"2018-11-05 15:35:00\"}, {\"id\": 3, \"point_name\": \"任务点3\", \"point_type\": \"sva\", \"lat\": 31.616305, \"lng\": 120.327785, \"tag\": \"PRRUB1F-3\", \"creator\": \"admin\", \"addr\": \"C区调味品市场地下车库，CD连接处，排风机房C-2对面，固定车牌号苏B-9B779旁，防火门侧反光镜位置。\", \"create_time\": \"2018-11-05 15:35:00\", \"update_time\": \"2018-11-05 15:35:00\"}, {\"id\": 4, \"point_name\": \"任务点4\", \"point_type\": \"sva\", \"lat\": 31.616647, \"lng\": 120.327888, \"tag\": \"PRRUB1F-5\", \"creator\": \"admin\", \"addr\": \"D区市场地下车库，DE连接处，D区40-77标牌对面，固定车牌号苏B-YC259旁防火门侧。\", \"create_time\": \"2018-11-05 15:35:00\", \"update_time\": \"2018-11-05 15:35:00\"}], \"creator\": \"admin\", \"create_time\": \"2018-11-06 15:36:00\", \"update_time\": \"2018-11-15 12:15:00\"}, {\"id\": 3, \"line_name\": \"任务路线3\", \"line_points\": [{\"id\": 1, \"point_name\": \"任务点1\", \"point_type\": \"sva\", \"lat\": 31.617465, \"lng\": 120.328055, \"tag\": \"PRRUB1F-6\", \"creator\": \"admin\", \"addr\": \"猪肉交易市场地下车库，电瓶三轮车充电位置。\", \"create_time\": \"2018-11-05 15:35:00\", \"update_time\": \"2018-11-05 15:35:00\"}, {\"id\": 2, \"point_name\": \"任务点2\", \"point_type\": \"sva\", \"lat\": 31.616101, \"lng\": 120.328742, \"tag\": \"PRRUB1F-4\", \"creator\": \"admin\", \"addr\": \"B区入口下方地下车库，BA区连接处，固定车牌号苏B-AQ777旁，防火门侧反光镜位置\", \"create_time\": \"2018-11-05 15:35:00\", \"update_time\": \"2018-11-05 15:35:00\"}, {\"id\": 3, \"point_name\": \"任务点3\", \"point_type\": \"sva\", \"lat\": 31.616305, \"lng\": 120.327785, \"tag\": \"PRRUB1F-3\", \"creator\": \"admin\", \"addr\": \"C区调味品市场地下车库，CD连接处，排风机房C-2对面，固定车牌号苏B-9B779旁，防火门侧反光镜位置。\", \"create_time\": \"2018-11-05 15:35:00\", \"update_time\": \"2018-11-05 15:35:00\"}, {\"id\": 5, \"point_name\": \"任务点5\", \"point_type\": \"sva\", \"lat\": 31.615428, \"lng\": 120.327336, \"tag\": \"PRRUB1F-1\", \"creator\": \"admin\", \"addr\": \"综合楼地下车库电梯间入口，固定车牌号苏B-0F065旁，苏B-GP751对面\", \"create_time\": \"2018-11-05 15:35:00\", \"update_time\": \"2018-11-05 15:35:00\"}], \"creator\": \"admin\", \"create_time\": \"2018-11-07 15:36:00\", \"update_time\": \"2018-11-16 12:15:00\"}, {\"id\": 4, \"line_name\": \"任务路线4\", \"line_points\": [{\"id\": 1, \"point_name\": \"任务点1\", \"point_type\": \"sva\", \"lat\": 31.617465, \"lng\": 120.328055, \"tag\": \"PRRUB1F-6\", \"creator\": \"admin\", \"addr\": \"猪肉交易市场地下车库，电瓶三轮车充电位置。\", \"create_time\": \"2018-11-05 15:35:00\", \"update_time\": \"2018-11-05 15:35:00\"}, {\"id\": 2, \"point_name\": \"任务点2\", \"point_type\": \"sva\", \"lat\": 31.616101, \"lng\": 120.328742, \"tag\": \"PRRUB1F-4\", \"creator\": \"admin\", \"addr\": \"B区入口下方地下车库，BA区连接处，固定车牌号苏B-AQ777旁，防火门侧反光镜位置\", \"create_time\": \"2018-11-05 15:35:00\", \"update_time\": \"2018-11-05 15:35:00\"}, {\"id\": 3, \"point_name\": \"任务点3\", \"point_type\": \"sva\", \"lat\": 31.616305, \"lng\": 120.327785, \"tag\": \"PRRUB1F-3\", \"creator\": \"admin\", \"addr\": \"C区调味品市场地下车库，CD连接处，排风机房C-2对面，固定车牌号苏B-9B779旁，防火门侧反光镜位置。\", \"create_time\": \"2018-11-05 15:35:00\", \"update_time\": \"2018-11-05 15:35:00\"}, {\"id\": 4, \"point_name\": \"任务点4\", \"point_type\": \"sva\", \"lat\": 31.616647, \"lng\": 120.327888, \"tag\": \"PRRUB1F-5\", \"creator\": \"admin\", \"addr\": \"D区市场地下车库，DE连接处，D区40-77标牌对面，固定车牌号苏B-YC259旁防火门侧。\", \"create_time\": \"2018-11-05 15:35:00\", \"update_time\": \"2018-11-05 15:35:00\"}, {\"id\": 6, \"point_name\": \"任务点6\", \"point_type\": \"sva\", \"lat\": 31.615436, \"lng\": 120.328639, \"tag\": \"PRRUB1F-2\", \"creator\": \"admin\", \"addr\": \"综合楼办公室1楼地下车库入口 “三轮车禁止停放，二轮车停车区”标牌处。\", \"create_time\": \"2018-11-05 15:35:00\", \"update_time\": \"2018-11-05 15:35:00\"}], \"creator\": \"admin\", \"create_time\": \"2018-11-08 15:36:00\", \"update_time\": \"2018-11-17 12:15:00\"}, {\"id\": 5, \"line_name\": \"任务路线5\", \"line_points\": [{\"id\": 1, \"point_name\": \"任务点1\", \"point_type\": \"sva\", \"lat\": 31.617465, \"lng\": 120.328055, \"tag\": \"PRRUB1F-6\", \"creator\": \"admin\", \"addr\": \"猪肉交易市场地下车库，电瓶三轮车充电位置。\", \"create_time\": \"2018-11-05 15:35:00\", \"update_time\": \"2018-11-05 15:35:00\"}, {\"id\": 2, \"point_name\": \"任务点2\", \"point_type\": \"sva\", \"lat\": 31.616101, \"lng\": 120.328742, \"tag\": \"PRRUB1F-4\", \"creator\": \"admin\", \"addr\": \"B区入口下方地下车库，BA区连接处，固定车牌号苏B-AQ777旁，防火门侧反光镜位置\", \"create_time\": \"2018-11-05 15:35:00\", \"update_time\": \"2018-11-05 15:35:00\"}, {\"id\": 5, \"point_name\": \"任务点5\", \"point_type\": \"sva\", \"lat\": 31.615428, \"lng\": 120.327336, \"tag\": \"PRRUB1F-1\", \"creator\": \"admin\", \"addr\": \"综合楼地下车库电梯间入口，固定车牌号苏B-0F065旁，苏B-GP751对面\", \"create_time\": \"2018-11-05 15:35:00\", \"update_time\": \"2018-11-05 15:35:00\"}, {\"id\": 7, \"point_name\": \"任务点7\", \"point_type\": \"app\", \"lat\": 31.615667, \"lng\": 120.327318, \"tag\": \"\", \"creator\": \"admin\", \"addr\": \"G区精品市场，肉类准入备案中心门口\", \"create_time\": \"2018-11-05 15:35:00\", \"update_time\": \"2018-11-05 15:35:00\"}], \"creator\": \"admin\", \"create_time\": \"2018-11-09 15:36:00\", \"update_time\": \"2018-11-18 12:15:00\"}, {\"id\": 6, \"line_name\": \"任务路线6\", \"line_points\": [{\"id\": 1, \"point_name\": \"任务点1\", \"point_type\": \"sva\", \"lat\": 31.617465, \"lng\": 120.328055, \"tag\": \"PRRUB1F-6\", \"creator\": \"admin\", \"addr\": \"猪肉交易市场地下车库，电瓶三轮车充电位置。\", \"create_time\": \"2018-11-05 15:35:00\", \"update_time\": \"2018-11-05 15:35:00\"}, {\"id\": 2, \"point_name\": \"任务点2\", \"point_type\": \"sva\", \"lat\": 31.616101, \"lng\": 120.328742, \"tag\": \"PRRUB1F-4\", \"creator\": \"admin\", \"addr\": \"B区入口下方地下车库，BA区连接处，固定车牌号苏B-AQ777旁，防火门侧反光镜位置\", \"create_time\": \"2018-11-05 15:35:00\", \"update_time\": \"2018-11-05 15:35:00\"}, {\"id\": 3, \"point_name\": \"任务点3\", \"point_type\": \"sva\", \"lat\": 31.616305, \"lng\": 120.327785, \"tag\": \"PRRUB1F-3\", \"creator\": \"admin\", \"addr\": \"C区调味品市场地下车库，CD连接处，排风机房C-2对面，固定车牌号苏B-9B779旁，防火门侧反光镜位置。\", \"create_time\": \"2018-11-05 15:35:00\", \"update_time\": \"2018-11-05 15:35:00\"}, {\"id\": 4, \"point_name\": \"任务点4\", \"point_type\": \"sva\", \"lat\": 31.616647, \"lng\": 120.327888, \"tag\": \"PRRUB1F-5\", \"creator\": \"admin\", \"addr\": \"D区市场地下车库，DE连接处，D区40-77标牌对面，固定车牌号苏B-YC259旁防火门侧。\", \"create_time\": \"2018-11-05 15:35:00\", \"update_time\": \"2018-11-05 15:35:00\"}, {\"id\": 8, \"point_name\": \"任务点8\", \"point_type\": \"app\", \"lat\": 31.617208, \"lng\": 120.328023, \"tag\": \"\", \"creator\": \"admin\", \"addr\": \"肉类交易市场南大门\", \"create_time\": \"2018-11-05 15:35:00\", \"update_time\": \"2018-11-05 15:35:00\"}], \"creator\": \"admin\", \"create_time\": \"2018-11-10 15:36:00\", \"update_time\": \"2018-11-19 12:15:00\"}, {\"id\": 7, \"line_name\": \"任务路线7\", \"line_points\": [{\"id\": 1, \"point_name\": \"任务点1\", \"point_type\": \"sva\", \"lat\": 31.617465, \"lng\": 120.328055, \"tag\": \"PRRUB1F-6\", \"creator\": \"admin\", \"addr\": \"猪肉交易市场地下车库，电瓶三轮车充电位置。\", \"create_time\": \"2018-11-05 15:35:00\", \"update_time\": \"2018-11-05 15:35:00\"}, {\"id\": 2, \"point_name\": \"任务点2\", \"point_type\": \"sva\", \"lat\": 31.616101, \"lng\": 120.328742, \"tag\": \"PRRUB1F-4\", \"creator\": \"admin\", \"addr\": \"B区入口下方地下车库，BA区连接处，固定车牌号苏B-AQ777旁，防火门侧反光镜位置\", \"create_time\": \"2018-11-05 15:35:00\", \"update_time\": \"2018-11-05 15:35:00\"}, {\"id\": 9, \"point_name\": \"任务点9\", \"point_type\": \"app\", \"lat\": 31.616408, \"lng\": 120.332106, \"tag\": \"\", \"creator\": \"admin\", \"addr\": \"天鹏智能冷库对面垃圾处理站，海鲜市场西北角坡道处\", \"create_time\": \"2018-11-05 15:35:00\", \"update_time\": \"2018-11-05 15:35:00\"}], \"creator\": \"admin\", \"create_time\": \"2018-11-11 15:36:00\", \"update_time\": \"2018-11-20 12:15:00\"}, {\"id\": 8, \"line_name\": \"任务路线8\", \"line_points\": [{\"id\": 1, \"point_name\": \"任务点1\", \"point_type\": \"sva\", \"lat\": 31.617465, \"lng\": 120.328055, \"tag\": \"PRRUB1F-6\", \"creator\": \"admin\", \"addr\": \"猪肉交易市场地下车库，电瓶三轮车充电位置。\", \"create_time\": \"2018-11-05 15:35:00\", \"update_time\": \"2018-11-05 15:35:00\"}, {\"id\": 2, \"point_name\": \"任务点2\", \"point_type\": \"sva\", \"lat\": 31.616101, \"lng\": 120.328742, \"tag\": \"PRRUB1F-4\", \"creator\": \"admin\", \"addr\": \"B区入口下方地下车库，BA区连接处，固定车牌号苏B-AQ777旁，防火门侧反光镜位置\", \"create_time\": \"2018-11-05 15:35:00\", \"update_time\": \"2018-11-05 15:35:00\"}, {\"id\": 10, \"point_name\": \"任务点10\", \"point_type\": \"app\", \"lat\": 31.618288, \"lng\": 120.332816, \"tag\": \"\", \"creator\": \"admin\", \"addr\": \"天鹏智能冷库16号库到底，市场西北角\", \"create_time\": \"2018-11-05 15:35:00\", \"update_time\": \"2018-11-05 15:35:00\"}], \"creator\": \"admin\", \"create_time\": \"2018-11-12 15:36:00\", \"update_time\": \"2018-11-21 12:15:00\"}, {\"id\": 9, \"line_name\": \"任务路线9\", \"line_points\": [{\"id\": 1, \"point_name\": \"任务点1\", \"point_type\": \"sva\", \"lat\": 31.617465, \"lng\": 120.328055, \"tag\": \"PRRUB1F-6\", \"creator\": \"admin\", \"addr\": \"猪肉交易市场地下车库，电瓶三轮车充电位置。\", \"create_time\": \"2018-11-05 15:35:00\", \"update_time\": \"2018-11-05 15:35:00\"}, {\"id\": 2, \"point_name\": \"任务点2\", \"point_type\": \"sva\", \"lat\": 31.616101, \"lng\": 120.328742, \"tag\": \"PRRUB1F-4\", \"creator\": \"admin\", \"addr\": \"B区入口下方地下车库，BA区连接处，固定车牌号苏B-AQ777旁，防火门侧反光镜位置\", \"create_time\": \"2018-11-05 15:35:00\", \"update_time\": \"2018-11-05 15:35:00\"}, {\"id\": 11, \"point_name\": \"任务点11\", \"point_type\": \"app\", \"lat\": 31.618315, \"lng\": 120.33039, \"tag\": \"\", \"creator\": \"admin\", \"addr\": \"真正老陆稿荐门卫处\", \"create_time\": \"2018-11-05 15:35:00\", \"update_time\": \"2018-11-05 15:35:00\"}], \"creator\": \"admin\", \"create_time\": \"2018-11-13 15:36:00\", \"update_time\": \"2018-11-22 12:15:00\"}, {\"id\": 12, \"line_name\": \"46363456546\", \"line_points\": [{\"id\": 2, \"point_name\": \"任务点2\", \"point_type\": \"sva\", \"lat\": 31.616101, \"lng\": 120.328742, \"tag\": \"PRRUB1F-4\", \"creator\": \"admin\", \"addr\": \"B区入口下方地下车库，BA区连接处，固定车牌号苏B-AQ777旁，防火门侧反光镜位置\", \"create_time\": \"2018-11-05 15:35:00\", \"update_time\": \"2018-11-05 15:35:00\"}, {\"id\": 1, \"point_name\": \"任务点1\", \"point_type\": \"sva\", \"lat\": 31.617465, \"lng\": 120.328055, \"tag\": \"PRRUB1F-6\", \"creator\": \"admin\", \"addr\": \"猪肉交易市场地下车库，电瓶三轮车充电位置。\", \"create_time\": \"2018-11-05 15:35:00\", \"update_time\": \"2018-11-05 15:35:00\"}, {\"id\": 7, \"point_name\": \"任务点7\", \"point_type\": \"app\", \"lat\": 31.615667, \"lng\": 120.327318, \"tag\": \"\", \"creator\": \"admin\", \"addr\": \"G区精品市场，肉类准入备案中心门口\", \"create_time\": \"2018-11-05 15:35:00\", \"update_time\": \"2018-11-05 15:35:00\"}, {\"id\": 12, \"point_name\": \"任务点12\", \"point_type\": \"app\", \"lat\": 31.61873, \"lng\": 120.329281, \"tag\": \"\", \"creator\": \"admin\", \"addr\": \"肉类屠宰加工中心旁污水处理站（老陆稿荐对面大门进入）\", \"create_time\": \"2018-11-05 15:35:00\", \"update_time\": \"2018-11-05 15:35:00\"}, {\"id\": 4, \"point_name\": \"任务点4\", \"point_type\": \"sva\", \"lat\": 31.616647, \"lng\": 120.327888, \"tag\": \"PRRUB1F-5\", \"creator\": \"admin\", \"addr\": \"D区市场地下车库，DE连接处，D区40-77标牌对面，固定车牌号苏B-YC259旁防火门侧。\", \"create_time\": \"2018-11-05 15:35:00\", \"update_time\": \"2018-11-05 15:35:00\"}], \"creator\": \"admin\", \"create_time\": \"2018-11-23 17:14:32\", \"update_time\": \"2018-11-27 15:05:18\"}, {\"id\": 13, \"line_name\": \"123123\", \"line_points\": [{\"id\": 2, \"point_name\": \"任务点2\", \"point_type\": \"sva\", \"lat\": 31.616101, \"lng\": 120.328742, \"tag\": \"PRRUB1F-4\", \"creator\": \"admin\", \"addr\": \"B区入口下方地下车库，BA区连接处，固定车牌号苏B-AQ777旁，防火门侧反光镜位置\", \"create_time\": \"2018-11-05 15:35:00\", \"update_time\": \"2018-11-05 15:35:00\"}, {\"id\": 1, \"point_name\": \"任务点1\", \"point_type\": \"sva\", \"lat\": 31.617465, \"lng\": 120.328055, \"tag\": \"PRRUB1F-6\", \"creator\": \"admin\", \"addr\": \"猪肉交易市场地下车库，电瓶三轮车充电位置。\", \"create_time\": \"2018-11-05 15:35:00\", \"update_time\": \"2018-11-05 15:35:00\"}, {\"id\": 10, \"point_name\": \"任务点10\", \"point_type\": \"app\", \"lat\": 31.618288, \"lng\": 120.332816, \"tag\": \"\", \"creator\": \"admin\", \"addr\": \"天鹏智能冷库16号库到底，市场西北角\", \"create_time\": \"2018-11-05 15:35:00\", \"update_time\": \"2018-11-05 15:35:00\"}, {\"id\": 17, \"point_name\": \"任务点17\", \"point_type\": \"app\", \"lat\": 31.616212, \"lng\": 120.331598, \"tag\": \"\", \"creator\": \"admin\", \"addr\": \"海鲜市场2楼6号馆旁，公共厕所\", \"create_time\": \"2018-11-05 15:35:00\", \"update_time\": \"2018-11-05 15:35:00\"}], \"creator\": \"admin\", \"create_time\": \"2018-11-27 15:05:58\", \"update_time\": \"2018-11-27 16:08:43\"}, {\"id\": 15, \"line_name\": \"345345\", \"line_points\": [{\"id\": 11, \"point_name\": \"任务点11\", \"point_type\": \"app\", \"lat\": 31.618315, \"lng\": 120.33039, \"tag\": \"\", \"creator\": \"admin\", \"addr\": \"真正老陆稿荐门卫处\", \"create_time\": \"2018-11-05 15:35:00\", \"update_time\": \"2018-11-05 15:35:00\"}, {\"id\": 10, \"point_name\": \"任务点10\", \"point_type\": \"app\", \"lat\": 31.618288, \"lng\": 120.332816, \"tag\": \"\", \"creator\": \"admin\", \"addr\": \"天鹏智能冷库16号库到底，市场西北角\", \"create_time\": \"2018-11-05 15:35:00\", \"update_time\": \"2018-11-05 15:35:00\"}, {\"id\": 1, \"point_name\": \"任务点1\", \"point_type\": \"sva\", \"lat\": 31.617465, \"lng\": 120.328055, \"tag\": \"PRRUB1F-6\", \"creator\": \"admin\", \"addr\": \"猪肉交易市场地下车库，电瓶三轮车充电位置。\", \"create_time\": \"2018-11-05 15:35:00\", \"update_time\": \"2018-11-05 15:35:00\"}, {\"id\": 17, \"point_name\": \"任务点17\", \"point_type\": \"app\", \"lat\": 31.616212, \"lng\": 120.331598, \"tag\": \"\", \"creator\": \"admin\", \"addr\": \"海鲜市场2楼6号馆旁，公共厕所\", \"create_time\": \"2018-11-05 15:35:00\", \"update_time\": \"2018-11-05 15:35:00\"}, {\"id\": 15, \"point_name\": \"任务点15\", \"point_type\": \"app\", \"lat\": 31.616074, \"lng\": 120.330067, \"tag\": \"\", \"creator\": \"admin\", \"addr\": \"海鲜市场1楼客服中心门口\", \"create_time\": \"2018-11-05 15:35:00\", \"update_time\": \"2018-11-05 15:35:00\"}, {\"id\": 9, \"point_name\": \"任务点9\", \"point_type\": \"app\", \"lat\": 31.616408, \"lng\": 120.332106, \"tag\": \"\", \"creator\": \"admin\", \"addr\": \"天鹏智能冷库对面垃圾处理站，海鲜市场西北角坡道处\", \"create_time\": \"2018-11-05 15:35:00\", \"update_time\": \"2018-11-05 15:35:00\"}, {\"id\": 18, \"point_name\": \"任务点18\", \"point_type\": \"app\", \"lat\": 31.615163, \"lng\": 120.331563, \"tag\": \"\", \"creator\": \"admin\", \"addr\": \"富海水族定制鱼缸招牌对面水泵房\", \"create_time\": \"2018-11-05 15:35:00\", \"update_time\": \"2018-11-05 15:35:00\"}, {\"id\": 4, \"point_name\": \"任务点4\", \"point_type\": \"sva\", \"lat\": 31.616647, \"lng\": 120.327888, \"tag\": \"PRRUB1F-5\", \"creator\": \"admin\", \"addr\": \"D区市场地下车库，DE连接处，D区40-77标牌对面，固定车牌号苏B-YC259旁防火门侧。\", \"create_time\": \"2018-11-05 15:35:00\", \"update_time\": \"2018-11-05 15:35:00\"}, {\"id\": 2, \"point_name\": \"任务点2\", \"point_type\": \"sva\", \"lat\": 31.616101, \"lng\": 120.328742, \"tag\": \"PRRUB1F-4\", \"creator\": \"admin\", \"addr\": \"B区入口下方地下车库，BA区连接处，固定车牌号苏B-AQ777旁，防火门侧反光镜位置\", \"create_time\": \"2018-11-05 15:35:00\", \"update_time\": \"2018-11-05 15:35:00\"}], \"creator\": \"admin\", \"create_time\": \"2018-11-27 17:06:44\", \"update_time\": \"2018-11-27 17:07:50\"}]}\n"
     ]
    }
   ],
   "source": [
    "title=\"路线列表\"\n",
    "\n",
    "r1 = requests.get(url+\"service/inspection/route_list\",headers=headers)\n",
    "print(str(r1._content, encoding=\"utf-8\"))  "
   ]
  },
  {
   "cell_type": "code",
   "execution_count": 6,
   "metadata": {},
   "outputs": [
    {
     "name": "stdout",
     "output_type": "stream",
     "text": [
      "{\"data\": [{\"id\": 1, \"point_name\": \"任务点1\", \"point_type\": \"sva\", \"lat\": 39.9745992057, \"lng\": 116.401275987, \"tag\": \"111\", \"creator\": \"1\", \"create_time\": \"2018-11-05 15:35:50\", \"update_time\": \"2018-11-05 15:35:50\"}, {\"id\": 2, \"point_name\": \"任务点2\", \"point_type\": \"sva\", \"lat\": 39.9079586136, \"lng\": 116.4610004425, \"tag\": \"1\", \"creator\": \"1\", \"create_time\": \"2018-11-05 16:16:46\", \"update_time\": \"2018-11-05 16:16:46\"}, {\"id\": 3, \"point_name\": \"任务点3\", \"point_type\": \"sva\", \"lat\": 40.0096695558, \"lng\": 116.3932800293, \"tag\": \"1\", \"creator\": \"1\", \"create_time\": \"2018-11-07 20:23:27\", \"update_time\": \"2018-11-07 20:23:27\"}]}\n"
     ]
    }
   ],
   "source": [
    "title=\"巡逻点列表\"\n",
    "\n",
    "r1 = requests.get(url+\"service/inspection/points_list\",headers=headers)\n",
    "print(str(r1._content, encoding=\"utf-8\"))  "
   ]
  },
  {
   "cell_type": "code",
   "execution_count": 9,
   "metadata": {},
   "outputs": [
    {
     "name": "stdout",
     "output_type": "stream",
     "text": [
      "{\"id\": 8}\n"
     ]
    }
   ],
   "source": [
    "title=\"添加路线\"\n",
    "param = {\n",
    "    \"line_name\":\"dfgdg dfgh\",\n",
    "    \"line_points\":[{\"id\":1},{\"id\":2}]\n",
    "}\n",
    "r1 = requests.post(url+\"service/inspection/add_route\",data=json.dumps(param),headers=headers)\n",
    "print(str(r1._content, encoding=\"utf-8\"))  "
   ]
  },
  {
   "cell_type": "code",
   "execution_count": 10,
   "metadata": {},
   "outputs": [
    {
     "name": "stdout",
     "output_type": "stream",
     "text": [
      "{\"id\": 7}\n"
     ]
    }
   ],
   "source": [
    "title=\"修改路线\"\n",
    "param = {\n",
    "    \"id\":7,\n",
    "    \"line_name\":\"7777777777777\",\n",
    "    \"line_points\":[{\"id\":1},{\"id\":3}]\n",
    "}\n",
    "r1 = requests.post(url+\"service/inspection/modify_route\",data=json.dumps(param),headers=headers)\n",
    "print(str(r1._content, encoding=\"utf-8\"))  "
   ]
  },
  {
   "cell_type": "code",
   "execution_count": 3,
   "metadata": {},
   "outputs": [
    {
     "name": "stdout",
     "output_type": "stream",
     "text": [
      "{\"id\": 2}\n"
     ]
    }
   ],
   "source": [
    "title=\"删除路线\"\n",
    "\n",
    "r1 = requests.get(url+\"service/inspection/del_route/2\",headers=headers)\n",
    "print(str(r1._content, encoding=\"utf-8\"))  "
   ]
  },
  {
   "cell_type": "code",
   "execution_count": 15,
   "metadata": {},
   "outputs": [
    {
     "name": "stdout",
     "output_type": "stream",
     "text": [
      "{\"file_url\": \"127.0.0.1:8000/static/data/任务详情20181114175855.xlsx\"}\n"
     ]
    }
   ],
   "source": [
    "title=\"导出文件\"\n",
    "param = {\n",
    "    'end_time': \"2018-11-13 17:38:55\",\n",
    "    'start_time': \"2018-11-10 17:38:55\",\n",
    "    'device_id': 1   \n",
    "}\n",
    "r1 = requests.post(url+\"service/inspection/task_hirstory_export\",data=json.dumps(param),headers=headers)\n",
    "print(str(r1._content, encoding=\"utf-8\")) "
   ]
  }
 ],
 "metadata": {
  "kernelspec": {
   "display_name": "Python 3",
   "language": "python",
   "name": "python3"
  },
  "language_info": {
   "codemirror_mode": {
    "name": "ipython",
    "version": 3
   },
   "file_extension": ".py",
   "mimetype": "text/x-python",
   "name": "python",
   "nbconvert_exporter": "python",
   "pygments_lexer": "ipython3",
   "version": "3.7.0"
  }
 },
 "nbformat": 4,
 "nbformat_minor": 2
}
