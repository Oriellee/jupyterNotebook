{
 "cells": [
  {
   "cell_type": "code",
   "execution_count": 11,
   "metadata": {},
   "outputs": [],
   "source": [
    "import xlsxwriter\n",
    "  \n",
    "workbook = xlsxwriter.Workbook('C:/Users/oriel/Desktop/demo.xlsx')\n",
    "worksheet = workbook.add_worksheet('demo')\n",
    "  \n",
    "worksheet.set_column('A:A',20)\n",
    "bold = workbook.add_format({'bold':True})\n",
    "  \n",
    "worksheet.write('A1','Hello')\n",
    "worksheet.write('A2','WOrld',bold)\n",
    "worksheet.write('B2',u'你好！',bold)\n",
    "  \n",
    "worksheet.write(2,0,32)\n",
    "worksheet.write(3,0,35.5)\n",
    "worksheet.write(4,0,'=SUM(A3:A4)')\n",
    "  \n",
    "workbook.close()"
   ]
  }
 ],
 "metadata": {
  "kernelspec": {
   "display_name": "Python 3",
   "language": "python",
   "name": "python3"
  },
  "language_info": {
   "codemirror_mode": {
    "name": "ipython",
    "version": 3
   },
   "file_extension": ".py",
   "mimetype": "text/x-python",
   "name": "python",
   "nbconvert_exporter": "python",
   "pygments_lexer": "ipython3",
   "version": "3.7.0"
  }
 },
 "nbformat": 4,
 "nbformat_minor": 2
}
