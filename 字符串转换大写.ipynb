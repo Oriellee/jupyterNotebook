{
 "cells": [
  {
   "cell_type": "code",
   "execution_count": 27,
   "metadata": {},
   "outputs": [],
   "source": [
    "def to_big(str):\n",
    "    list = str.split(\",\")\n",
    "    new = []\n",
    "    txt = \"\"\n",
    "    for i in list:\n",
    "        z = i.upper()\n",
    "        new.append(z)\n",
    "    txt = (\",\").join(new)\n",
    "    return txt\n"
   ]
  },
  {
   "cell_type": "code",
   "execution_count": 32,
   "metadata": {},
   "outputs": [
    {
     "name": "stdout",
     "output_type": "stream",
     "text": [
      "\"ID\",\"USER_ID\",\"PERMISSION_ID\"\n"
     ]
    }
   ],
   "source": [
    "a = '\"id\",\"user_id\",\"permission_id\"'\n",
    "txt = to_big(a)\n",
    "print(txt)\n"
   ]
  }
 ],
 "metadata": {
  "kernelspec": {
   "display_name": "Python 3",
   "language": "python",
   "name": "python3"
  },
  "language_info": {
   "codemirror_mode": {
    "name": "ipython",
    "version": 3
   },
   "file_extension": ".py",
   "mimetype": "text/x-python",
   "name": "python",
   "nbconvert_exporter": "python",
   "pygments_lexer": "ipython3",
   "version": "3.7.0"
  }
 },
 "nbformat": 4,
 "nbformat_minor": 2
}
