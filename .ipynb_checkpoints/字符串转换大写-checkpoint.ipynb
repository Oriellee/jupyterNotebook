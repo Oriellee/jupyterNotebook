{
 "cells": [
  {
   "cell_type": "code",
   "execution_count": 15,
   "metadata": {},
   "outputs": [],
   "source": [
    "def to_big(str):\n",
    "    list = str.split(\",\")\n",
    "    txt = \"\"\n",
    "    for i in list:\n",
    "        z = i.upper()\n",
    "        txt += z+\"\\n\"\n",
    "    return txt\n"
   ]
  },
  {
   "cell_type": "code",
   "execution_count": 16,
   "metadata": {},
   "outputs": [
    {
     "name": "stdout",
     "output_type": "stream",
     "text": [
      "ID\n",
      "USER_NAME\n",
      "PASSWD\n",
      "REAL_NAME\n",
      "MSISDN\n",
      "DEPARTMENT_NAME\n",
      "ORG_ID\n",
      "ROLE_ID\n",
      "CREATOR_ID\n",
      "STATUS\n",
      "REMARK\n",
      "CREATE_TIME\n",
      "UPDATE_TIME\n",
      "\n"
     ]
    }
   ],
   "source": [
    "a = \"ID,USER_NAME,PASSWD,REAL_NAME,MSISDN,department_name,org_id,role_id,creator_id,status,remark,create_time,update_time\"\n",
    "txt = to_big(a)\n",
    "print(txt)\n"
   ]
  }
 ],
 "metadata": {
  "kernelspec": {
   "display_name": "Python 3",
   "language": "python",
   "name": "python3"
  },
  "language_info": {
   "codemirror_mode": {
    "name": "ipython",
    "version": 3
   },
   "file_extension": ".py",
   "mimetype": "text/x-python",
   "name": "python",
   "nbconvert_exporter": "python",
   "pygments_lexer": "ipython3",
   "version": "3.7.0"
  }
 },
 "nbformat": 4,
 "nbformat_minor": 2
}
