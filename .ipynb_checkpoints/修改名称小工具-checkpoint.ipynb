{
 "cells": [
  {
   "cell_type": "code",
   "execution_count": 9,
   "metadata": {},
   "outputs": [],
   "source": [
    "import os, re\n",
    "from xlutils.copy import copy\n",
    "import xlrd\n",
    "import pandas as pd\n",
    "from xlrd import open_workbook\n",
    "import csv\n",
    "\n",
    "# 文件夹内所有文件名称变为大写。\n",
    "def change_file_name_2_big(path):    \n",
    "    for file in os.listdir(path):\n",
    "        Olddir = os.path.join(path,file)#原来文件夹的路径\n",
    "        if os.path.isdir(Olddir):#如果是文件夹，则跳过\n",
    "            continue\n",
    "        filename = os.path.splitext(file)[0].upper()  #文件名\n",
    "        filetype = os.path.splitext(file)[1]  #os.path.splitext(file)[1]   文件扩展名\n",
    "        Newdir = os.path.join(path,filename+filetype) #新的文件路径\n",
    "        os.rename(Olddir,Newdir) #重命名\n",
    "\n",
    "# excel文件第一行所有项变为大写。\n",
    "def excel_line_name_2_big(path):\n",
    "    for file in os.listdir(path):\n",
    "        open_file = os.path.join(path,file)\n",
    "        book = xlrd.open_workbook(open_file)    #复制一个excel\n",
    "        new_book = copy(book)    #复制了一份原来的excel\n",
    "        sheet = book.sheet_by_index(0)\n",
    "        new_sheet = new_book.get_sheet(0)\n",
    "        #获取行列数\n",
    "        first_row = sheet.row_values(0)\n",
    "        for i in range(0,len(first_row)):\n",
    "            newcell=sheet.cell(0,i).value.upper()\n",
    "            new_sheet.write(0,i,newcell)\n",
    "        new_book.save(os.path.join(path,file+\"123\"))\n",
    "        os.remove(os.path.join(path,file))\n",
    "        os.rename(os.path.join(path,file+\"123\"),os.path.join(path,file))\n",
    "     \n",
    "    \n",
    "# csv文件第一行变为大写。\n",
    "def csv_line_name_2_big(path):\n",
    "    for onefile in os.listdir(path):\n",
    "        open_file = os.path.join(path,onefile)\n",
    "        old_csv = csv.reader(open(open_file,'r', encoding='UTF-8'))\n",
    "        lines = [l for l in old_csv]\n",
    "        print(lines)\n",
    "        if len(lines)>0:\n",
    "            for i in range(0,len(lines[0])):\n",
    "                lines[0][i] = lines[0][i].upper()\n",
    "        new_csv = open(os.path.join(path,\"123\"+onefile), 'w')\n",
    "        writer = csv.writer(new_csv)\n",
    "        writer.writerows(lines)\n",
    "        \n",
    "def del_name_123(path):    \n",
    "    for file in os.listdir(path):\n",
    "        Olddir = os.path.join(path,file)#原来文件夹的路径\n",
    "        if os.path.isdir(Olddir):#如果是文件夹，则跳过\n",
    "            continue\n",
    "        filename = os.path.splitext(file)[0][3:]  #文件名\n",
    "        filetype = os.path.splitext(file)[1]  #os.path.splitext(file)[1]   文件扩展名\n",
    "        Newdir = os.path.join(path,filename+filetype) #新的文件路径\n",
    "        os.rename(Olddir,Newdir) #重命名"
   ]
  },
  {
   "cell_type": "code",
   "execution_count": 10,
   "metadata": {},
   "outputs": [
    {
     "name": "stdout",
     "output_type": "stream",
     "text": [
      "[['ID', 'NAME'], []]\n",
      "[['ID', 'GROUP_ID', 'PERMISSION_ID'], []]\n",
      "[['ID', 'NAME', 'CONTENT_TYPE_ID', 'CODENAME'], [], ['1', 'Can add log entry', '1', 'add_logentry'], [], ['2', 'Can change log entry', '1', 'change_logentry'], [], ['3', 'Can delete log entry', '1', 'delete_logentry'], [], ['4', 'Can add permission', '2', 'add_permission'], [], ['5', 'Can change permission', '2', 'change_permission'], [], ['6', 'Can delete permission', '2', 'delete_permission'], [], ['7', 'Can add user', '3', 'add_user'], [], ['8', 'Can change user', '3', 'change_user'], [], ['9', 'Can delete user', '3', 'delete_user'], [], ['10', 'Can add group', '4', 'add_group'], [], ['11', 'Can change group', '4', 'change_group'], [], ['12', 'Can delete group', '4', 'delete_group'], [], ['13', 'Can add content type', '5', 'add_contenttype'], [], ['14', 'Can change content type', '5', 'change_contenttype'], [], ['15', 'Can delete content type', '5', 'delete_contenttype'], [], ['16', 'Can add session', '6', 'add_session'], [], ['17', 'Can change session', '6', 'change_session'], [], ['18', 'Can delete session', '6', 'delete_session'], [], ['19', 'Can add menus', '7', 'add_menus'], [], ['20', 'Can change menus', '7', 'change_menus'], [], ['21', 'Can delete menus', '7', 'delete_menus'], [], ['22', 'Can add user', '8', 'add_user'], [], ['23', 'Can change user', '8', 'change_user'], [], ['24', 'Can delete user', '8', 'delete_user'], []]\n",
      "[['ID', 'PASSWORD', 'LAST_LOGIN', 'IS_SUPERUSER', 'USERNAME', 'FIRST_NAME', 'LAST_NAME', 'EMAIL', 'IS_STAFF', 'IS_ACTIVE', 'DATE_JOINED'], []]\n",
      "[['ID', 'USER_ID', 'GROUP_ID'], []]\n",
      "[['ID', 'USER_ID', 'PERMISSION_ID'], []]\n"
     ]
    },
    {
     "ename": "UnicodeDecodeError",
     "evalue": "'utf-8' codec can't decode byte 0xd7 in position 416: invalid continuation byte",
     "output_type": "error",
     "traceback": [
      "\u001b[1;31m---------------------------------------------------------------------------\u001b[0m",
      "\u001b[1;31mUnicodeDecodeError\u001b[0m                        Traceback (most recent call last)",
      "\u001b[1;32m<ipython-input-10-3c15b032b79d>\u001b[0m in \u001b[0;36m<module>\u001b[1;34m\u001b[0m\n\u001b[0;32m      1\u001b[0m \u001b[0mpath\u001b[0m \u001b[1;33m=\u001b[0m \u001b[1;34mr\"C:\\Users\\oriel\\Desktop\\111\"\u001b[0m\u001b[1;33m\u001b[0m\u001b[0m\n\u001b[0;32m      2\u001b[0m \u001b[1;33m\u001b[0m\u001b[0m\n\u001b[1;32m----> 3\u001b[1;33m \u001b[0mcsv_line_name_2_big\u001b[0m\u001b[1;33m(\u001b[0m\u001b[0mpath\u001b[0m\u001b[1;33m)\u001b[0m\u001b[1;33m\u001b[0m\u001b[0m\n\u001b[0m",
      "\u001b[1;32m<ipython-input-9-c73d43ae8e1e>\u001b[0m in \u001b[0;36mcsv_line_name_2_big\u001b[1;34m(path)\u001b[0m\n\u001b[0;32m     40\u001b[0m         \u001b[0mopen_file\u001b[0m \u001b[1;33m=\u001b[0m \u001b[0mos\u001b[0m\u001b[1;33m.\u001b[0m\u001b[0mpath\u001b[0m\u001b[1;33m.\u001b[0m\u001b[0mjoin\u001b[0m\u001b[1;33m(\u001b[0m\u001b[0mpath\u001b[0m\u001b[1;33m,\u001b[0m\u001b[0monefile\u001b[0m\u001b[1;33m)\u001b[0m\u001b[1;33m\u001b[0m\u001b[0m\n\u001b[0;32m     41\u001b[0m         \u001b[0mold_csv\u001b[0m \u001b[1;33m=\u001b[0m \u001b[0mcsv\u001b[0m\u001b[1;33m.\u001b[0m\u001b[0mreader\u001b[0m\u001b[1;33m(\u001b[0m\u001b[0mopen\u001b[0m\u001b[1;33m(\u001b[0m\u001b[0mopen_file\u001b[0m\u001b[1;33m,\u001b[0m\u001b[1;34m'r'\u001b[0m\u001b[1;33m,\u001b[0m \u001b[0mencoding\u001b[0m\u001b[1;33m=\u001b[0m\u001b[1;34m'UTF-8'\u001b[0m\u001b[1;33m)\u001b[0m\u001b[1;33m)\u001b[0m\u001b[1;33m\u001b[0m\u001b[0m\n\u001b[1;32m---> 42\u001b[1;33m         \u001b[0mlines\u001b[0m \u001b[1;33m=\u001b[0m \u001b[1;33m[\u001b[0m\u001b[0ml\u001b[0m \u001b[1;32mfor\u001b[0m \u001b[0ml\u001b[0m \u001b[1;32min\u001b[0m \u001b[0mold_csv\u001b[0m\u001b[1;33m]\u001b[0m\u001b[1;33m\u001b[0m\u001b[0m\n\u001b[0m\u001b[0;32m     43\u001b[0m         \u001b[0mprint\u001b[0m\u001b[1;33m(\u001b[0m\u001b[0mlines\u001b[0m\u001b[1;33m)\u001b[0m\u001b[1;33m\u001b[0m\u001b[0m\n\u001b[0;32m     44\u001b[0m         \u001b[1;32mif\u001b[0m \u001b[0mlen\u001b[0m\u001b[1;33m(\u001b[0m\u001b[0mlines\u001b[0m\u001b[1;33m)\u001b[0m\u001b[1;33m>\u001b[0m\u001b[1;36m0\u001b[0m\u001b[1;33m:\u001b[0m\u001b[1;33m\u001b[0m\u001b[0m\n",
      "\u001b[1;32m<ipython-input-9-c73d43ae8e1e>\u001b[0m in \u001b[0;36m<listcomp>\u001b[1;34m(.0)\u001b[0m\n\u001b[0;32m     40\u001b[0m         \u001b[0mopen_file\u001b[0m \u001b[1;33m=\u001b[0m \u001b[0mos\u001b[0m\u001b[1;33m.\u001b[0m\u001b[0mpath\u001b[0m\u001b[1;33m.\u001b[0m\u001b[0mjoin\u001b[0m\u001b[1;33m(\u001b[0m\u001b[0mpath\u001b[0m\u001b[1;33m,\u001b[0m\u001b[0monefile\u001b[0m\u001b[1;33m)\u001b[0m\u001b[1;33m\u001b[0m\u001b[0m\n\u001b[0;32m     41\u001b[0m         \u001b[0mold_csv\u001b[0m \u001b[1;33m=\u001b[0m \u001b[0mcsv\u001b[0m\u001b[1;33m.\u001b[0m\u001b[0mreader\u001b[0m\u001b[1;33m(\u001b[0m\u001b[0mopen\u001b[0m\u001b[1;33m(\u001b[0m\u001b[0mopen_file\u001b[0m\u001b[1;33m,\u001b[0m\u001b[1;34m'r'\u001b[0m\u001b[1;33m,\u001b[0m \u001b[0mencoding\u001b[0m\u001b[1;33m=\u001b[0m\u001b[1;34m'UTF-8'\u001b[0m\u001b[1;33m)\u001b[0m\u001b[1;33m)\u001b[0m\u001b[1;33m\u001b[0m\u001b[0m\n\u001b[1;32m---> 42\u001b[1;33m         \u001b[0mlines\u001b[0m \u001b[1;33m=\u001b[0m \u001b[1;33m[\u001b[0m\u001b[0ml\u001b[0m \u001b[1;32mfor\u001b[0m \u001b[0ml\u001b[0m \u001b[1;32min\u001b[0m \u001b[0mold_csv\u001b[0m\u001b[1;33m]\u001b[0m\u001b[1;33m\u001b[0m\u001b[0m\n\u001b[0m\u001b[0;32m     43\u001b[0m         \u001b[0mprint\u001b[0m\u001b[1;33m(\u001b[0m\u001b[0mlines\u001b[0m\u001b[1;33m)\u001b[0m\u001b[1;33m\u001b[0m\u001b[0m\n\u001b[0;32m     44\u001b[0m         \u001b[1;32mif\u001b[0m \u001b[0mlen\u001b[0m\u001b[1;33m(\u001b[0m\u001b[0mlines\u001b[0m\u001b[1;33m)\u001b[0m\u001b[1;33m>\u001b[0m\u001b[1;36m0\u001b[0m\u001b[1;33m:\u001b[0m\u001b[1;33m\u001b[0m\u001b[0m\n",
      "\u001b[1;32md:\\soft\\python3\\lib\\codecs.py\u001b[0m in \u001b[0;36mdecode\u001b[1;34m(self, input, final)\u001b[0m\n\u001b[0;32m    320\u001b[0m         \u001b[1;31m# decode input (taking the buffer into account)\u001b[0m\u001b[1;33m\u001b[0m\u001b[1;33m\u001b[0m\u001b[0m\n\u001b[0;32m    321\u001b[0m         \u001b[0mdata\u001b[0m \u001b[1;33m=\u001b[0m \u001b[0mself\u001b[0m\u001b[1;33m.\u001b[0m\u001b[0mbuffer\u001b[0m \u001b[1;33m+\u001b[0m \u001b[0minput\u001b[0m\u001b[1;33m\u001b[0m\u001b[0m\n\u001b[1;32m--> 322\u001b[1;33m         \u001b[1;33m(\u001b[0m\u001b[0mresult\u001b[0m\u001b[1;33m,\u001b[0m \u001b[0mconsumed\u001b[0m\u001b[1;33m)\u001b[0m \u001b[1;33m=\u001b[0m \u001b[0mself\u001b[0m\u001b[1;33m.\u001b[0m\u001b[0m_buffer_decode\u001b[0m\u001b[1;33m(\u001b[0m\u001b[0mdata\u001b[0m\u001b[1;33m,\u001b[0m \u001b[0mself\u001b[0m\u001b[1;33m.\u001b[0m\u001b[0merrors\u001b[0m\u001b[1;33m,\u001b[0m \u001b[0mfinal\u001b[0m\u001b[1;33m)\u001b[0m\u001b[1;33m\u001b[0m\u001b[0m\n\u001b[0m\u001b[0;32m    323\u001b[0m         \u001b[1;31m# keep undecoded input until the next call\u001b[0m\u001b[1;33m\u001b[0m\u001b[1;33m\u001b[0m\u001b[0m\n\u001b[0;32m    324\u001b[0m         \u001b[0mself\u001b[0m\u001b[1;33m.\u001b[0m\u001b[0mbuffer\u001b[0m \u001b[1;33m=\u001b[0m \u001b[0mdata\u001b[0m\u001b[1;33m[\u001b[0m\u001b[0mconsumed\u001b[0m\u001b[1;33m:\u001b[0m\u001b[1;33m]\u001b[0m\u001b[1;33m\u001b[0m\u001b[0m\n",
      "\u001b[1;31mUnicodeDecodeError\u001b[0m: 'utf-8' codec can't decode byte 0xd7 in position 416: invalid continuation byte"
     ]
    }
   ],
   "source": [
    "path = r\"C:\\Users\\oriel\\Desktop\\111\"\n",
    "\n",
    "csv_line_name_2_big(path)"
   ]
  },
  {
   "cell_type": "code",
   "execution_count": 3,
   "metadata": {},
   "outputs": [],
   "source": [
    "path = r\"C:\\Users\\oriel\\Desktop\\111\"\n",
    "\n",
    "del_name_123(path)"
   ]
  },
  {
   "cell_type": "code",
   "execution_count": 122,
   "metadata": {},
   "outputs": [],
   "source": [
    "path = r\"C:\\Users\\oriel\\Desktop\\111\"\n",
    "\n",
    "change_file_name_2_big(path)"
   ]
  },
  {
   "cell_type": "code",
   "execution_count": 124,
   "metadata": {},
   "outputs": [
    {
     "ename": "NameError",
     "evalue": "name 'excel_line_name_2_big' is not defined",
     "output_type": "error",
     "traceback": [
      "\u001b[1;31m---------------------------------------------------------------------------\u001b[0m",
      "\u001b[1;31mNameError\u001b[0m                                 Traceback (most recent call last)",
      "\u001b[1;32m<ipython-input-124-5696c8669e3e>\u001b[0m in \u001b[0;36m<module>\u001b[1;34m\u001b[0m\n\u001b[0;32m      1\u001b[0m \u001b[0mpath\u001b[0m \u001b[1;33m=\u001b[0m \u001b[1;34mr\"C:\\Users\\oriel\\Desktop\\111\"\u001b[0m\u001b[1;33m\u001b[0m\u001b[0m\n\u001b[0;32m      2\u001b[0m \u001b[1;33m\u001b[0m\u001b[0m\n\u001b[1;32m----> 3\u001b[1;33m \u001b[0mexcel_line_name_2_big\u001b[0m\u001b[1;33m(\u001b[0m\u001b[0mpath\u001b[0m\u001b[1;33m)\u001b[0m\u001b[1;33m\u001b[0m\u001b[0m\n\u001b[0m",
      "\u001b[1;31mNameError\u001b[0m: name 'excel_line_name_2_big' is not defined"
     ]
    }
   ],
   "source": [
    "path = r\"C:\\Users\\oriel\\Desktop\\111\"\n",
    "\n",
    "excel_line_name_2_big(path)"
   ]
  }
 ],
 "metadata": {
  "kernelspec": {
   "display_name": "Python 3",
   "language": "python",
   "name": "python3"
  },
  "language_info": {
   "codemirror_mode": {
    "name": "ipython",
    "version": 3
   },
   "file_extension": ".py",
   "mimetype": "text/x-python",
   "name": "python",
   "nbconvert_exporter": "python",
   "pygments_lexer": "ipython3",
   "version": "3.7.0"
  }
 },
 "nbformat": 4,
 "nbformat_minor": 2
}
