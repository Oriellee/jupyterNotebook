{
 "cells": [
  {
   "cell_type": "code",
   "execution_count": 11,
   "metadata": {},
   "outputs": [],
   "source": [
    "# 表格转化为json。\n",
    "import pandas as pd\n",
    "from pandas import DataFrame as DataFrame\n",
    "from xlrd import open_workbook\n",
    "import numpy as np\n",
    "import re\n",
    "import json\n",
    "\n",
    "def excel_2_json(excel_file,sheet_list=[]):\n",
    "    if sheet_list==[]:\n",
    "        sheet_list=open_workbook(excel_file).sheet_names()\n",
    "    rettxt = \"\"\n",
    "    for sheet in sheet_list:\n",
    "        df = pd.read_excel(excel_file,sheet)\n",
    "        rettxt += df.to_json(orient='records',force_ascii=False)\n",
    "    return rettxt\n",
    "# 表格转化为echart。\n",
    "def excel_2_echart(excel_file,sheet_name,echart_conf):\n",
    "    df = pd.read_excel(excel_file,sheet_name)\n",
    "    tmp = {}\n",
    "    for k,v in echart_conf.items():\n",
    "        tmp[k] = [str(x) for x in df[v]]  \n",
    "    return tmp,json.dumps(tmp,ensure_ascii=False)\n",
    "# 剪切板转化为echart。\n",
    "import win32clipboard as w\n",
    "import win32con\n",
    "from io import StringIO\n",
    "\n",
    "def get_clipboard_text():\n",
    "    w.OpenClipboard()\n",
    "    d = w.GetClipboardData(win32con.CF_TEXT)\n",
    "    w.CloseClipboard()\n",
    "    return(d).decode('GBK')\n",
    "\n",
    "def clipboard_2_echart(echart_conf=None):\n",
    "    cp_text = get_clipboard_text()\n",
    "    cp_text = cp_text.replace(\"\\t\",\",\")\n",
    "    df = pd.read_csv(StringIO(cp_text), skipinitialspace=True)\n",
    "    tmp = {}\n",
    "    if echart_conf!=None:\n",
    "        for k,v in echart_conf.items():\n",
    "            tmp[k] = [str(x) for x in df[v]]\n",
    "    else:\n",
    "        for col in df.columns:\n",
    "            tmp[col] = [str(x) for x in df[col]]\n",
    "    return tmp,json.dumps(tmp,ensure_ascii=False)"
   ]
  },
  {
   "cell_type": "code",
   "execution_count": 12,
   "metadata": {},
   "outputs": [
    {
     "name": "stdout",
     "output_type": "stream",
     "text": [
      "[{\"溯源查询量\":425},{\"溯源查询量\":147},{\"溯源查询量\":678},{\"溯源查询量\":542},{\"溯源查询量\":984},{\"溯源查询量\":940},{\"溯源查询量\":211},{\"溯源查询量\":482},{\"溯源查询量\":441},{\"溯源查询量\":417},{\"溯源查询量\":553},{\"溯源查询量\":575},{\"溯源查询量\":785},{\"溯源查询量\":972},{\"溯源查询量\":175},{\"溯源查询量\":387},{\"溯源查询量\":129},{\"溯源查询量\":811},{\"溯源查询量\":213},{\"溯源查询量\":951},{\"溯源查询量\":411},{\"溯源查询量\":183},{\"溯源查询量\":549},{\"溯源查询量\":680},{\"溯源查询量\":638},{\"溯源查询量\":208},{\"溯源查询量\":911},{\"溯源查询量\":847},{\"溯源查询量\":889},{\"溯源查询量\":678},{\"溯源查询量\":976}]\n"
     ]
    }
   ],
   "source": [
    "excel_file = r\"c:\\Users\\Oriel\\Desktop\\智慧农业UI设计.xlsx\"\n",
    "sheet_list=\"Sheet10\".split(\",\")\n",
    "j = excel_2_json(excel_file,sheet_list=sheet_list)\n",
    "print(j)"
   ]
  },
  {
   "cell_type": "code",
   "execution_count": null,
   "metadata": {},
   "outputs": [],
   "source": []
  },
  {
   "cell_type": "code",
   "execution_count": 15,
   "metadata": {},
   "outputs": [
    {
     "data": {
      "text/plain": [
       "'{\"data\": [\"12\", \"5317\", \"4044\", \"1851\", \"7949\", \"6388\", \"7047\", \"6932\", \"9371\", \"4854\", \"1134\", \"4353\", \"8273\", \"7379\", \"4792\", \"4070\", \"6495\"], \"name\": [\"农残超标\", \"溯源码重复\", \"使用未审核投入物\", \"溯源码重复\", \"溯源码重复\", \"溯源码重复\", \"农残超标\", \"农残超标\", \"农残超标\", \"农残超标\", \"使用未审核投入物\", \"使用未审核投入物\", \"使用未审核投入物\", \"使用未审核投入物\", \"溯源码重复\", \"使用未审核投入物\", \"使用未审核投入物\"]}'"
      ]
     },
     "execution_count": 15,
     "metadata": {},
     "output_type": "execute_result"
    }
   ],
   "source": [
    "excel_file =  r\"c:\\Users\\Oriel\\Desktop\\智慧农业UI设计.xlsx\"\n",
    "sheet_name=\"j_不达标企业\"\n",
    "echart_conf = {\"name\":\"不达标原因\",\"data\":\"面积（亩）\"}\n",
    "obj,json_str = excel_2_echart(excel_file,sheet_name,echart_conf)\n",
    "json_str"
   ]
  },
  {
   "cell_type": "code",
   "execution_count": null,
   "metadata": {},
   "outputs": [],
   "source": []
  },
  {
   "cell_type": "code",
   "execution_count": 16,
   "metadata": {},
   "outputs": [
    {
     "data": {
      "text/plain": [
       "'{\"json_str\": []}'"
      ]
     },
     "execution_count": 16,
     "metadata": {},
     "output_type": "execute_result"
    }
   ],
   "source": [
    "obj,json_str = clipboard_2_echart()\n",
    "json_str"
   ]
  },
  {
   "cell_type": "code",
   "execution_count": null,
   "metadata": {},
   "outputs": [],
   "source": []
  }
 ],
 "metadata": {
  "kernelspec": {
   "display_name": "Python 3",
   "language": "python",
   "name": "python3"
  },
  "language_info": {
   "codemirror_mode": {
    "name": "ipython",
    "version": 3
   },
   "file_extension": ".py",
   "mimetype": "text/x-python",
   "name": "python",
   "nbconvert_exporter": "python",
   "pygments_lexer": "ipython3",
   "version": "3.5.0"
  }
 },
 "nbformat": 4,
 "nbformat_minor": 2
}
