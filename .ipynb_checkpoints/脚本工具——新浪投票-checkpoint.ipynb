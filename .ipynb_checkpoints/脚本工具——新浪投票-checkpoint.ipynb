{
 "cells": [
  {
   "cell_type": "code",
   "execution_count": 1,
   "metadata": {},
   "outputs": [],
   "source": [
    "from selenium import webdriver\n",
    "import time\n",
    "\n",
    "def vote(url,btn,text):\n",
    "    global browser\n",
    "    browser = webdriver.Chrome('C:\\Program Files (x86)\\Google\\Chrome\\Application\\chromedriver')\n",
    "    browser.get(url)\n",
    "    while True:\n",
    "        loop(btn,text)\n",
    "        time.sleep(1)\n",
    "        browser.refresh()\n",
    "        time.sleep(2)\n",
    "    return 'success'\n",
    "\n",
    "def loop(btn,text):\n",
    "    for i in range(1,15):\n",
    "        browser.find_element_by_css_selector(btn).click()\n",
    "        vote_num = browser.find_element_by_css_selector(text).text"
   ]
  },
  {
   "cell_type": "code",
   "execution_count": null,
   "metadata": {},
   "outputs": [],
   "source": [
    "btn_ele = r'body > div.container > div:nth-child(2) > div.smallVideo-container > ul > li:nth-child(5) > div > div.smallVideo-voteBtn-div'\n",
    "text_ele = r'body > div.container > div:nth-child(2) > div.smallVideo-container > ul > li:nth-child(5) > div > div.smallVideo-voteBtn-div > b'\n",
    "url = r\"http://tech.sina.cn/event/sina20/?from=groupmessage\"\n",
    "aaa = vote(url,btn_ele,text_ele)\n",
    "print(aaa)"
   ]
  },
  {
   "cell_type": "code",
   "execution_count": null,
   "metadata": {},
   "outputs": [],
   "source": [
    "body > div.container > div:nth-child(2) > div.smallVideo-container > ul > li:nth-child(5) > div > div.smallVideo-voteBtn-div"
   ]
  }
 ],
 "metadata": {
  "kernelspec": {
   "display_name": "Python 3",
   "language": "python",
   "name": "python3"
  },
  "language_info": {
   "codemirror_mode": {
    "name": "ipython",
    "version": 3
   },
   "file_extension": ".py",
   "mimetype": "text/x-python",
   "name": "python",
   "nbconvert_exporter": "python",
   "pygments_lexer": "ipython3",
   "version": "3.7.0"
  }
 },
 "nbformat": 4,
 "nbformat_minor": 2
}
