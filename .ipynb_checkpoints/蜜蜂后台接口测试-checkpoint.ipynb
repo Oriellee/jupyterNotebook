{
 "cells": [
  {
   "cell_type": "code",
   "execution_count": 6,
   "metadata": {},
   "outputs": [],
   "source": [
    "import requests\n",
    "import json\n",
    "url='http://127.0.0.1:1000/'\n",
    "sc_token='b754c9e41f08fa305adfc296c0ba118e'"
   ]
  },
  {
   "cell_type": "code",
   "execution_count": 7,
   "metadata": {},
   "outputs": [
    {
     "name": "stdout",
     "output_type": "stream",
     "text": [
      "\n",
      "<!DOCTYPE html>\n",
      "<html lang=\"en\">\n",
      "<head>\n",
      "  <meta http-equiv=\"content-type\" content=\"text/html; charset=utf-8\">\n",
      "  <title>Page not found at //service/backgroud/feedback_list</title>\n",
      "  <meta name=\"robots\" content=\"NONE,NOARCHIVE\">\n",
      "  <style type=\"text/css\">\n",
      "    html * { padding:0; margin:0; }\n",
      "    body * { padding:10px 20px; }\n",
      "    body * * { padding:0; }\n",
      "    body { font:small sans-serif; background:#eee; }\n",
      "    body>div { border-bottom:1px solid #ddd; }\n",
      "    h1 { font-weight:normal; margin-bottom:.4em; }\n",
      "    h1 span { font-size:60%; color:#666; font-weight:normal; }\n",
      "    table { border:none; border-collapse: collapse; width:100%; }\n",
      "    td, th { vertical-align:top; padding:2px 3px; }\n",
      "    th { width:12em; text-align:right; color:#666; padding-right:.5em; }\n",
      "    #info { background:#f6f6f6; }\n",
      "    #info ol { margin: 0.5em 4em; }\n",
      "    #info ol li { font-family: monospace; }\n",
      "    #summary { background: #ffc; }\n",
      "    #explanation { background:#eee; border-bottom: 0px none; }\n",
      "  </style>\n",
      "</head>\n",
      "<body>\n",
      "  <div id=\"summary\">\n",
      "    <h1>Page not found <span>(404)</span></h1>\n",
      "    <table class=\"meta\">\n",
      "      <tr>\n",
      "        <th>Request Method:</th>\n",
      "        <td>POST</td>\n",
      "      </tr>\n",
      "      <tr>\n",
      "        <th>Request URL:</th>\n",
      "        <td>http://127.0.0.1:1000//service/backgroud/feedback_list</td>\n",
      "      </tr>\n",
      "      \n",
      "    </table>\n",
      "  </div>\n",
      "  <div id=\"info\">\n",
      "    \n",
      "      <p>\n",
      "      Using the URLconf defined in <code>restapp.urls</code>,\n",
      "      Django tried these URL patterns, in this order:\n",
      "      </p>\n",
      "      <ol>\n",
      "        \n",
      "          <li>\n",
      "            \n",
      "                ^admin/\n",
      "                \n",
      "            \n",
      "          </li>\n",
      "        \n",
      "          <li>\n",
      "            \n",
      "                ^service/business/\n",
      "                \n",
      "            \n",
      "          </li>\n",
      "        \n",
      "          <li>\n",
      "            \n",
      "                ^service/menu/\n",
      "                \n",
      "            \n",
      "          </li>\n",
      "        \n",
      "          <li>\n",
      "            \n",
      "                ^service/tour/\n",
      "                \n",
      "            \n",
      "          </li>\n",
      "        \n",
      "          <li>\n",
      "            \n",
      "                ^service/user/\n",
      "                \n",
      "            \n",
      "          </li>\n",
      "        \n",
      "      </ol>\n",
      "      <p>\n",
      "        \n",
      "        The current path, <code>/service/backgroud/feedback_list</code>, didn't match any of these.\n",
      "      </p>\n",
      "    \n",
      "  </div>\n",
      "\n",
      "  <div id=\"explanation\">\n",
      "    <p>\n",
      "      You're seeing this error because you have <code>DEBUG = True</code> in\n",
      "      your Django settings file. Change that to <code>False</code>, and Django\n",
      "      will display a standard 404 page.\n",
      "    </p>\n",
      "  </div>\n",
      "</body>\n",
      "</html>\n",
      "\n"
     ]
    }
   ],
   "source": [
    "title=\"反馈列表\"\n",
    "\n",
    "param = {\"per_page\":10,\"page\":1}\n",
    "r1 = requests.post(url+\"service/backgroud/feedback_list\",data=json.dumps(param))\n",
    "print(str(r1._content, encoding=\"utf-8\"))    "
   ]
  },
  {
   "cell_type": "code",
   "execution_count": 8,
   "metadata": {},
   "outputs": [
    {
     "name": "stdout",
     "output_type": "stream",
     "text": [
      "\n",
      "<!DOCTYPE html>\n",
      "<html lang=\"en\">\n",
      "<head>\n",
      "  <meta http-equiv=\"content-type\" content=\"text/html; charset=utf-8\">\n",
      "  <title>Page not found at /service/backgroud/feedback_remark</title>\n",
      "  <meta name=\"robots\" content=\"NONE,NOARCHIVE\">\n",
      "  <style type=\"text/css\">\n",
      "    html * { padding:0; margin:0; }\n",
      "    body * { padding:10px 20px; }\n",
      "    body * * { padding:0; }\n",
      "    body { font:small sans-serif; background:#eee; }\n",
      "    body>div { border-bottom:1px solid #ddd; }\n",
      "    h1 { font-weight:normal; margin-bottom:.4em; }\n",
      "    h1 span { font-size:60%; color:#666; font-weight:normal; }\n",
      "    table { border:none; border-collapse: collapse; width:100%; }\n",
      "    td, th { vertical-align:top; padding:2px 3px; }\n",
      "    th { width:12em; text-align:right; color:#666; padding-right:.5em; }\n",
      "    #info { background:#f6f6f6; }\n",
      "    #info ol { margin: 0.5em 4em; }\n",
      "    #info ol li { font-family: monospace; }\n",
      "    #summary { background: #ffc; }\n",
      "    #explanation { background:#eee; border-bottom: 0px none; }\n",
      "  </style>\n",
      "</head>\n",
      "<body>\n",
      "  <div id=\"summary\">\n",
      "    <h1>Page not found <span>(404)</span></h1>\n",
      "    <table class=\"meta\">\n",
      "      <tr>\n",
      "        <th>Request Method:</th>\n",
      "        <td>POST</td>\n",
      "      </tr>\n",
      "      <tr>\n",
      "        <th>Request URL:</th>\n",
      "        <td>http://127.0.0.1:1000/service/backgroud/feedback_remark</td>\n",
      "      </tr>\n",
      "      \n",
      "    </table>\n",
      "  </div>\n",
      "  <div id=\"info\">\n",
      "    \n",
      "      <p>\n",
      "      Using the URLconf defined in <code>restapp.urls</code>,\n",
      "      Django tried these URL patterns, in this order:\n",
      "      </p>\n",
      "      <ol>\n",
      "        \n",
      "          <li>\n",
      "            \n",
      "                ^admin/\n",
      "                \n",
      "            \n",
      "          </li>\n",
      "        \n",
      "          <li>\n",
      "            \n",
      "                ^service/business/\n",
      "                \n",
      "            \n",
      "          </li>\n",
      "        \n",
      "          <li>\n",
      "            \n",
      "                ^service/menu/\n",
      "                \n",
      "            \n",
      "          </li>\n",
      "        \n",
      "          <li>\n",
      "            \n",
      "                ^service/tour/\n",
      "                \n",
      "            \n",
      "          </li>\n",
      "        \n",
      "          <li>\n",
      "            \n",
      "                ^service/user/\n",
      "                \n",
      "            \n",
      "          </li>\n",
      "        \n",
      "      </ol>\n",
      "      <p>\n",
      "        \n",
      "        The current path, <code>service/backgroud/feedback_remark</code>, didn't match any of these.\n",
      "      </p>\n",
      "    \n",
      "  </div>\n",
      "\n",
      "  <div id=\"explanation\">\n",
      "    <p>\n",
      "      You're seeing this error because you have <code>DEBUG = True</code> in\n",
      "      your Django settings file. Change that to <code>False</code>, and Django\n",
      "      will display a standard 404 page.\n",
      "    </p>\n",
      "  </div>\n",
      "</body>\n",
      "</html>\n",
      "\n"
     ]
    }
   ],
   "source": [
    "title=\"反馈备注\"\n",
    "\n",
    "param = {\"id\":\"1\",\"remark\":\"备注内容\",}\n",
    "r1 = requests.post(url+\"service/backgroud/feedback_remark\",data=json.dumps(param))\n",
    "print(str(r1._content, encoding=\"utf-8\"))    "
   ]
  },
  {
   "cell_type": "code",
   "execution_count": 4,
   "metadata": {},
   "outputs": [
    {
     "name": "stdout",
     "output_type": "stream",
     "text": [
      "{\"status\": 1}\n"
     ]
    }
   ],
   "source": [
    "title=\"结束反馈\"\n",
    "\n",
    "r1 = requests.get(url+\"service/backgroud/end_feedback/61\")\n",
    "print(str(r1._content, encoding=\"utf-8\"))  "
   ]
  },
  {
   "cell_type": "code",
   "execution_count": 3,
   "metadata": {},
   "outputs": [
    {
     "name": "stdout",
     "output_type": "stream",
     "text": [
      "{\"list\": [{\"username\": \"test\", \"telephone\": null, \"approval_status\": \"未认证\", \"laseter_remark\": \"\", \"user_id\": 1, \"lastest_feedback\": \"test\", \"create_time\": \"2018-06-25 16:53:55\"}, {\"username\": \"17621199487\", \"telephone\": \"17621199487\", \"approval_status\": \"未认证\", \"laseter_remark\": \"\", \"user_id\": 6, \"lastest_feedback\": \"\", \"create_time\": \"2018-06-29 12:42:48\"}, {\"username\": \"13581549297\", \"telephone\": \"13581549297\", \"approval_status\": \"未认证\", \"laseter_remark\": \"\", \"user_id\": 9, \"lastest_feedback\": \"\", \"create_time\": \"2018-06-29 15:33:19\"}]}\n"
     ]
    }
   ],
   "source": [
    "title=\"用户列表\"\n",
    "\n",
    "r1 = requests.get(url+\"service/backgroud/customer_list\")\n",
    "print(str(r1._content, encoding=\"utf-8\"))  "
   ]
  },
  {
   "cell_type": "code",
   "execution_count": 25,
   "metadata": {},
   "outputs": [
    {
     "name": "stdout",
     "output_type": "stream",
     "text": [
      "{\"status\": \"1\"}\n"
     ]
    }
   ],
   "source": [
    "title=\"添加反馈\"\n",
    "param = {\"content\":\"产品不错\",\"user_id\":\"1\"}\n",
    "headers = {\"sc-token\":sc_token}\n",
    "r1 = requests.post(url+\"service/backgroud/add_feedback\",data=json.dumps(param),headers=headers)\n",
    "print(str(r1._content, encoding=\"utf-8\"))    "
   ]
  },
  {
   "cell_type": "code",
   "execution_count": 5,
   "metadata": {},
   "outputs": [
    {
     "name": "stdout",
     "output_type": "stream",
     "text": [
      "[{\"remark_list\": [], \"id\": 2, \"content\": \"test\", \"create_time\": \"2018-06-26 11:22:15\"}, {\"remark_list\": [], \"id\": 3, \"content\": \"test\", \"create_time\": \"2018-06-26 11:23:00\"}, {\"remark_list\": [], \"id\": 4, \"content\": \"test\", \"create_time\": \"2018-06-26 11:23:58\"}, {\"remark_list\": [], \"id\": 5, \"content\": \"test\", \"create_time\": \"2018-06-26 17:48:50\"}, {\"remark_list\": [], \"id\": 6, \"content\": \"test\", \"create_time\": \"2018-06-26 17:49:05\"}, {\"remark_list\": [], \"id\": 7, \"content\": \"test\", \"create_time\": \"2018-06-26 17:49:23\"}, {\"remark_list\": [], \"id\": 8, \"content\": \"test\", \"create_time\": \"2018-06-26 17:49:42\"}, {\"remark_list\": [], \"id\": 9, \"content\": \"test\", \"create_time\": \"2018-06-26 17:50:00\"}, {\"remark_list\": [], \"id\": 10, \"content\": \"test\", \"create_time\": \"2018-06-26 17:58:42\"}, {\"remark_list\": [], \"id\": 11, \"content\": \"test\", \"create_time\": \"2018-06-26 18:01:38\"}, {\"remark_list\": [], \"id\": 12, \"content\": \"test\", \"create_time\": \"2018-06-26 18:03:48\"}, {\"remark_list\": [], \"id\": 13, \"content\": \"test\", \"create_time\": \"2018-06-26 18:05:49\"}, {\"remark_list\": [], \"id\": 14, \"content\": \"test\", \"create_time\": \"2018-06-27 17:43:33\"}, {\"remark_list\": [], \"id\": 15, \"content\": \"test\", \"create_time\": \"2018-06-27 17:47:53\"}, {\"remark_list\": [], \"id\": 16, \"content\": \"test\", \"create_time\": \"2018-06-27 17:48:05\"}, {\"remark_list\": [], \"id\": 17, \"content\": \"test\", \"create_time\": \"2018-06-27 17:50:09\"}, {\"remark_list\": [], \"id\": 18, \"content\": \"test\", \"create_time\": \"2018-06-27 17:50:22\"}, {\"remark_list\": [], \"id\": 19, \"content\": \"test\", \"create_time\": \"2018-06-27 17:53:36\"}, {\"remark_list\": [], \"id\": 20, \"content\": \"test\", \"create_time\": \"2018-06-27 17:53:40\"}, {\"remark_list\": [], \"id\": 21, \"content\": \"test\", \"create_time\": \"2018-06-27 17:55:51\"}, {\"remark_list\": [], \"id\": 22, \"content\": \"test\", \"create_time\": \"2018-06-27 17:56:04\"}, {\"remark_list\": [], \"id\": 23, \"content\": \"test\", \"create_time\": \"2018-06-27 17:57:38\"}, {\"remark_list\": [], \"id\": 24, \"content\": \"test\", \"create_time\": \"2018-06-27 17:58:18\"}, {\"remark_list\": [], \"id\": 25, \"content\": \"test\", \"create_time\": \"2018-06-27 17:59:37\"}, {\"remark_list\": [], \"id\": 26, \"content\": \"test\", \"create_time\": \"2018-06-27 18:02:13\"}, {\"remark_list\": [], \"id\": 27, \"content\": \"test\", \"create_time\": \"2018-06-27 18:02:21\"}, {\"remark_list\": [], \"id\": 28, \"content\": \"test\", \"create_time\": \"2018-06-27 18:03:31\"}, {\"remark_list\": [], \"id\": 29, \"content\": \"test\", \"create_time\": \"2018-06-27 18:05:59\"}, {\"remark_list\": [], \"id\": 30, \"content\": \"test\", \"create_time\": \"2018-06-27 18:06:36\"}, {\"remark_list\": [], \"id\": 31, \"content\": \"test\", \"create_time\": \"2018-06-27 18:07:27\"}, {\"remark_list\": [], \"id\": 32, \"content\": \"test\", \"create_time\": \"2018-06-27 18:09:03\"}, {\"remark_list\": [], \"id\": 33, \"content\": \"test\", \"create_time\": \"2018-06-27 18:09:18\"}, {\"remark_list\": [], \"id\": 34, \"content\": \"test\", \"create_time\": \"2018-06-27 18:09:53\"}, {\"remark_list\": [], \"id\": 35, \"content\": \"test\", \"create_time\": \"2018-06-27 18:11:40\"}, {\"remark_list\": [], \"id\": 36, \"content\": \"test\", \"create_time\": \"2018-06-27 18:12:01\"}, {\"remark_list\": [], \"id\": 37, \"content\": \"test\", \"create_time\": \"2018-06-27 18:14:22\"}, {\"remark_list\": [], \"id\": 38, \"content\": \"test\", \"create_time\": \"2018-06-27 18:14:59\"}, {\"remark_list\": [], \"id\": 39, \"content\": \"test\", \"create_time\": \"2018-06-27 18:15:28\"}, {\"remark_list\": [], \"id\": 40, \"content\": \"test\", \"create_time\": \"2018-06-29 16:08:32\"}, {\"remark_list\": [], \"id\": 41, \"content\": \"test\", \"create_time\": \"2018-06-29 16:09:05\"}, {\"remark_list\": [], \"id\": 42, \"content\": \"test\", \"create_time\": \"2018-06-29 16:14:58\"}, {\"remark_list\": [], \"id\": 43, \"content\": \"test\", \"create_time\": \"2018-06-29 16:21:59\"}, {\"remark_list\": [], \"id\": 44, \"content\": \"test\", \"create_time\": \"2018-06-29 16:26:14\"}, {\"remark_list\": [], \"id\": 45, \"content\": \"test\", \"create_time\": \"2018-06-29 16:26:25\"}, {\"remark_list\": [], \"id\": 46, \"content\": \"test\", \"create_time\": \"2018-06-29 16:32:28\"}, {\"remark_list\": [], \"id\": 47, \"content\": \"test\", \"create_time\": \"2018-06-29 16:34:19\"}, {\"remark_list\": [], \"id\": 48, \"content\": \"test\", \"create_time\": \"2018-06-29 16:36:22\"}, {\"remark_list\": [], \"id\": 49, \"content\": \"test\", \"create_time\": \"2018-06-29 16:36:32\"}, {\"remark_list\": [], \"id\": 50, \"content\": \"test\", \"create_time\": \"2018-06-29 16:37:12\"}, {\"remark_list\": [], \"id\": 51, \"content\": \"test\", \"create_time\": \"2018-06-29 16:38:44\"}, {\"remark_list\": [], \"id\": 52, \"content\": \"test\", \"create_time\": \"2018-06-29 16:40:53\"}, {\"remark_list\": [], \"id\": 53, \"content\": \"test\", \"create_time\": \"2018-06-29 16:42:32\"}, {\"remark_list\": [{\"id\": 1, \"content\": \"备注内容\", \"create_time\": \"2018-07-03 16:23:58\"}], \"id\": 54, \"content\": \"test\", \"create_time\": \"2018-07-03 15:53:25\"}, {\"remark_list\": [], \"id\": 55, \"content\": \"test\", \"create_time\": \"2018-07-03 17:11:03\"}, {\"remark_list\": [], \"id\": 56, \"content\": \"test\", \"create_time\": \"2018-07-03 17:11:07\"}, {\"remark_list\": [], \"id\": 57, \"content\": \"test\", \"create_time\": \"2018-07-03 17:11:08\"}, {\"remark_list\": [], \"id\": 58, \"content\": \"test\", \"create_time\": \"2018-07-03 17:35:55\"}, {\"remark_list\": [], \"id\": 59, \"content\": \"test\", \"create_time\": \"2018-07-03 17:38:22\"}, {\"remark_list\": [], \"id\": 60, \"content\": \"test\", \"create_time\": \"2018-07-03 17:47:38\"}, {\"remark_list\": [], \"id\": 61, \"content\": \"test\", \"create_time\": \"2018-07-03 17:50:05\"}, {\"remark_list\": [{\"id\": 6, \"content\": \"备注内容\", \"create_time\": \"2018-07-04 14:35:40\"}], \"id\": 62, \"content\": \"test\", \"create_time\": \"2018-07-03 17:50:16\"}, {\"remark_list\": [], \"id\": 63, \"content\": \"产品不错\", \"create_time\": \"2018-07-04 18:01:38\"}, {\"remark_list\": [], \"id\": 64, \"content\": \"test\", \"create_time\": \"2018-07-09 17:37:15\"}, {\"remark_list\": [], \"id\": 65, \"content\": \"test\", \"create_time\": \"2018-07-09 17:37:54\"}, {\"remark_list\": [], \"id\": 66, \"content\": \"test\", \"create_time\": \"2018-07-09 17:38:05\"}, {\"remark_list\": [], \"id\": 67, \"content\": \"test\", \"create_time\": \"2018-07-09 17:38:51\"}, {\"remark_list\": [], \"id\": 68, \"content\": \"test\", \"create_time\": \"2018-07-16 18:14:48\"}]\n"
     ]
    }
   ],
   "source": [
    "title=\"用户的反馈与备注列表\"\n",
    "\n",
    "r1 = requests.get(url+\"service/backgroud/customer_feedback_list/1\")\n",
    "print(str(r1._content, encoding=\"utf-8\"))  "
   ]
  },
  {
   "cell_type": "code",
   "execution_count": null,
   "metadata": {},
   "outputs": [],
   "source": []
  }
 ],
 "metadata": {
  "kernelspec": {
   "display_name": "Python 3",
   "language": "python",
   "name": "python3"
  },
  "language_info": {
   "codemirror_mode": {
    "name": "ipython",
    "version": 3
   },
   "file_extension": ".py",
   "mimetype": "text/x-python",
   "name": "python",
   "nbconvert_exporter": "python",
   "pygments_lexer": "ipython3",
   "version": "3.5.0"
  }
 },
 "nbformat": 4,
 "nbformat_minor": 2
}
