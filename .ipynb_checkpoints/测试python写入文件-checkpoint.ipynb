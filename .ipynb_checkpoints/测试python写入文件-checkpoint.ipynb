{
 "cells": [
  {
   "cell_type": "code",
   "execution_count": 1,
   "metadata": {},
   "outputs": [
    {
     "ename": "SyntaxError",
     "evalue": "Missing parentheses in call to 'print'. Did you mean print(u'文件路径不存在')? (<ipython-input-1-156496c7edc1>, line 5)",
     "output_type": "error",
     "traceback": [
      "\u001b[1;36m  File \u001b[1;32m\"<ipython-input-1-156496c7edc1>\"\u001b[1;36m, line \u001b[1;32m5\u001b[0m\n\u001b[1;33m    print u'文件路径不存在'\u001b[0m\n\u001b[1;37m                   ^\u001b[0m\n\u001b[1;31mSyntaxError\u001b[0m\u001b[1;31m:\u001b[0m Missing parentheses in call to 'print'. Did you mean print(u'文件路径不存在')?\n"
     ]
    }
   ],
   "source": [
    "import xlsxwriter,xlrd\n",
    "import sys,os.path\n",
    "# fname = ''\n",
    "# if not os.path.isfile(fname):\n",
    "#     print u'文件路径不存在'\n",
    "#     sys.exit()\n",
    "# data = xlrd.open_workbook(fname)            # 打开fname文件\n",
    "# data.sheet_names()                          # 获取xls文件中所有sheet的名称\n",
    "# table = data.sheet_by_index(0)              # 通过索引获取xls文件第0个sheet\n",
    "# nrows = table.nrows                         # 获取table工作表总行数\n",
    "# ncols = table.ncols                         # 获取table工作表总列数\n",
    "workbook = xlsxwriter.Workbook('D:\\mywork\\pig\\code\\webapp\\static\\data\\zm6.xlsx')  #创建一个excel文件\n",
    "worksheet = workbook.add_worksheet()        #创建一个工作表对象\n",
    "worksheet.write(0, 0, \"111111\")     "
   ]
  }
 ],
 "metadata": {
  "kernelspec": {
   "display_name": "Python 3",
   "language": "python",
   "name": "python3"
  },
  "language_info": {
   "codemirror_mode": {
    "name": "ipython",
    "version": 3
   },
   "file_extension": ".py",
   "mimetype": "text/x-python",
   "name": "python",
   "nbconvert_exporter": "python",
   "pygments_lexer": "ipython3",
   "version": "3.7.0"
  }
 },
 "nbformat": 4,
 "nbformat_minor": 2
}
