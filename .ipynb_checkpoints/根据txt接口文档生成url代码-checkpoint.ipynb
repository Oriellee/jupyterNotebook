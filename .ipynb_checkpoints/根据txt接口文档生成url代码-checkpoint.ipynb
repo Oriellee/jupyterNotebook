{
 "cells": [
  {
   "cell_type": "code",
   "execution_count": 2,
   "metadata": {},
   "outputs": [],
   "source": [
    "# import pandas as pd\n",
    "# from pandas import DataFrame as DataFrame\n",
    "# from xlrd import open_workbook\n",
    "# import numpy as np\n",
    "# import re\n",
    "# import xlrd\n",
    "\n",
    "# 转换字符串格式为驼峰式。\n",
    "def change_2_big(str):\n",
    "    list = str.split(\"_\")\n",
    "    for index in range(len(list)):\n",
    "        list[index] = list[index].lower().capitalize()\n",
    "    newstr = ''.join(list)\n",
    "    return newstr\n",
    "\n",
    "# 将接口数据转化为代码格式。\n",
    "def service_2_model(data):\n",
    "    urltxt = \"\"\n",
    "    for list in data:\n",
    "        newword = \"\"\n",
    "        bigword = \"\"\n",
    "        wordlist = list.split(\"/\")\n",
    "        if(wordlist[-1].find(\"(\") == -1):\n",
    "            newword = wordlist[-1]\n",
    "            bigword = change_2_big(wordlist[-1])\n",
    "        else:\n",
    "            newword = wordlist[-2]+wordlist[-1]\n",
    "            bigword = change_2_big(wordlist[-2])\n",
    "        urltxt+=\"url(r'^\"+newword+\"$', views.\"+bigword+\".as_view()),\\n\"\n",
    "    return urltxt\n",
    "\n",
    "# 将文件中的接口转化为数组。\n",
    "def read_txt_2_list(txt_path,search_name):\n",
    "    service_list = []\n",
    "    line_list = open(txt_path, 'r',encoding='UTF-8').readlines()\n",
    "    for line in line_list:\n",
    "        service_line = \"\"\n",
    "        if(line.find(search_name) != -1):\n",
    "            service_line = line.split(\":\")[1].strip()\n",
    "            service_list.append(service_line)\n",
    "    back_data = service_2_model(service_list)\n",
    "    return back_data"
   ]
  },
  {
   "cell_type": "code",
   "execution_count": null,
   "metadata": {},
   "outputs": [],
   "source": [
    "txt_path = \"C:\\Users\\oriel\\Desktop\\天鹏-巡检中心-接口文档.txt\"\n",
    "txt = read_txt_2_list(file_path,'server')\n",
    "print(txt)\n",
    "\n"
   ]
  }
 ],
 "metadata": {
  "kernelspec": {
   "display_name": "Python 3",
   "language": "python",
   "name": "python3"
  },
  "language_info": {
   "codemirror_mode": {
    "name": "ipython",
    "version": 3
   },
   "file_extension": ".py",
   "mimetype": "text/x-python",
   "name": "python",
   "nbconvert_exporter": "python",
   "pygments_lexer": "ipython3",
   "version": "3.7.0"
  }
 },
 "nbformat": 4,
 "nbformat_minor": 2
}
