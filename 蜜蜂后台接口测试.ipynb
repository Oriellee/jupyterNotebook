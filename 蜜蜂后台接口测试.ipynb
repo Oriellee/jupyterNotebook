{
 "cells": [
  {
   "cell_type": "code",
   "execution_count": 1,
   "metadata": {},
   "outputs": [],
   "source": [
    "import requests\n",
    "import json\n",
    "url='http://127.0.0.1:9999/'\n",
    "sc_token='b754c9e41f08fa305adfc296c0ba118e'"
   ]
  },
  {
   "cell_type": "code",
   "execution_count": 12,
   "metadata": {},
   "outputs": [
    {
     "name": "stdout",
     "output_type": "stream",
     "text": [
      "{\"data\": [{\"cusmanager\": null, \"role_id\": 1, \"user_id\": 9, \"level\": null, \"email\": null, \"username\": \"13581549297\", \"telephone\": \"13581549297\", \"realname\": null, \"update_time\": \"2018-06-29 15:33:19\", \"status\": 1, \"create_time\": \"2018-06-29 15:33:19\"}, {\"cusmanager\": null, \"role_id\": null, \"user_id\": 10, \"level\": null, \"email\": null, \"username\": \"admin\", \"telephone\": null, \"realname\": null, \"update_time\": \"2018-07-24 15:52:45\", \"status\": null, \"create_time\": \"2018-07-24 15:52:40\"}]}\n"
     ]
    }
   ],
   "source": [
    "title=\"客户列表\"\n",
    "\n",
    "r1 = requests.get(url+\"service/backgroud/cusmanager\")\n",
    "print(str(r1._content, encoding=\"utf-8\"))  "
   ]
  },
  {
   "cell_type": "code",
   "execution_count": 13,
   "metadata": {},
   "outputs": [
    {
     "name": "stdout",
     "output_type": "stream",
     "text": [
      "{\"data\": [{\"price\": \"5\", \"create_time\": \"2018-06-26 14:57:00\", \"expiry\": \"2018-06-26 06:56:52\", \"update_time\": \"2018-06-26 14:57:00\", \"status\": 1, \"id\": 1}]}\n"
     ]
    }
   ],
   "source": [
    "title=\"优惠券列表\"\n",
    "\n",
    "r1 = requests.get(url+\"service/backgroud/coupon_list\")\n",
    "print(str(r1._content, encoding=\"utf-8\"))  "
   ]
  },
  {
   "cell_type": "code",
   "execution_count": 14,
   "metadata": {},
   "outputs": [
    {
     "name": "stdout",
     "output_type": "stream",
     "text": [
      "{\"status\": 1}\n"
     ]
    }
   ],
   "source": [
    "title=\"赠送优惠券\"\n",
    "param = {\"user_id\":\"1\",\"coupon_id\":\"1\"}\n",
    "r1 = requests.post(url+\"service/backgroud/gift_coupons\",data=json.dumps(param))\n",
    "print(str(r1._content, encoding=\"utf-8\"))  "
   ]
  },
  {
   "cell_type": "code",
   "execution_count": 15,
   "metadata": {},
   "outputs": [
    {
     "name": "stdout",
     "output_type": "stream",
     "text": [
      "{\"data\": [{\"create_time\": \"2018-06-27 19:42:14\", \"message_num\": null, \"user_id\": 1, \"pay_money\": 10.0, \"invoice_money\": null, \"coupon_id\": null, \"bill_type\": null, \"is_complete\": \"驳回\", \"update_time\": \"2018-08-03 18:16:00\", \"status\": 1, \"dismiss_reason\": \"理由aaaaaaa\", \"id\": 1, \"payee\": null, \"pay_status\": null, \"remark\": null, \"order_id\": 6, \"pay_number\": null, \"is_invoice\": null, \"invoice_number\": null, \"pay_type\": null, \"title\": \"支付宝\"}, {\"create_time\": \"2018-06-27 19:42:14\", \"message_num\": null, \"user_id\": 1, \"pay_money\": 11.0, \"invoice_money\": null, \"coupon_id\": null, \"bill_type\": null, \"is_complete\": \"通过\", \"update_time\": \"2018-06-27 19:42:14\", \"status\": 1, \"dismiss_reason\": null, \"id\": 2, \"payee\": null, \"pay_status\": null, \"remark\": null, \"order_id\": 6, \"pay_number\": null, \"is_invoice\": null, \"invoice_number\": null, \"pay_type\": null, \"title\": \"微信\"}]}\n"
     ]
    }
   ],
   "source": [
    "title=\"获取支付列表\"\n",
    "# param = {\"user_id\":\"1\",\"coupon_id\":\"1\"}\n",
    "r1 = requests.get(url+\"service/backgroud/paylist/\")\n",
    "print(str(r1._content, encoding=\"utf-8\"))  "
   ]
  },
  {
   "cell_type": "code",
   "execution_count": 16,
   "metadata": {},
   "outputs": [
    {
     "name": "stdout",
     "output_type": "stream",
     "text": [
      "{\"data\": [{\"sex\": \"男\", \"front_pic\": \"/static/app/ad1.jpg\", \"user_id\": 1, \"industry\": \"行业\", \"commercial_approval_status\": \"2\", \"id\": 1, \"people_pic\": \"/static/app/ad1.jpg\", \"id_card\": \"350671111726272811\", \"back_pic\": \"/static/app/ad1.jpg\", \"approval_opinion\": \"驳回信息\", \"address\": \"地址\", \"name\": \"张三\", \"user_type\": null, \"commercial_apply_time\": \"2018-07-04 17:34:21\", \"legal_name\": \"法人姓名\", \"licence_pic\": \"/static/app/ad1.jpg\", \"licence_no\": \"43445252\", \"age\": \"18\", \"commercial_approval_time\": \"2018-08-03 18:15:34\", \"licence_term\": \"2018-11-11 00:00:00\"}]}\n"
     ]
    }
   ],
   "source": [
    "title=\"客户详情页\"\n",
    "# param = {\"user_id\":\"1\",\"coupon_id\":\"1\"}\n",
    "r1 = requests.get(url+\"service/backgroud/user_certification/1\")\n",
    "print(str(r1._content, encoding=\"utf-8\"))  "
   ]
  },
  {
   "cell_type": "code",
   "execution_count": 17,
   "metadata": {},
   "outputs": [
    {
     "name": "stdout",
     "output_type": "stream",
     "text": [
      "{\"status\": 1}\n"
     ]
    }
   ],
   "source": [
    "title=\"审批商户\"\n",
    "param = {\"id\":\"1\",\"commercial_approval_status\":\"2\",\"approval_opinion\":\"驳回信息\"}\n",
    "r1 = requests.post(url+\"service/backgroud/verify_user_certification\",data=json.dumps(param))\n",
    "print(str(r1._content, encoding=\"utf-8\"))  "
   ]
  },
  {
   "cell_type": "code",
   "execution_count": 18,
   "metadata": {},
   "outputs": [
    {
     "name": "stdout",
     "output_type": "stream",
     "text": [
      "{\"data\": []}\n"
     ]
    }
   ],
   "source": [
    "title=\"进行中的订单\"\n",
    "# param = {\"user_id\":\"1\",\"coupon_id\":\"1\"}\n",
    "r1 = requests.get(url+\"service/backgroud/bill_list\")\n",
    "print(str(r1._content, encoding=\"utf-8\"))  "
   ]
  },
  {
   "cell_type": "code",
   "execution_count": 19,
   "metadata": {},
   "outputs": [
    {
     "name": "stdout",
     "output_type": "stream",
     "text": [
      "{\"data\": {\"content_html_id\": null, \"tags\": \"1,2,3\", \"user_id\": 1, \"content_type\": \"图文\", \"send_date_begin\": \"2016-01-01 00:00:00\", \"send_time_range\": \"[{'begin': 1, 'end': '2'}, {'begin': 10, 'end': '20'}]\", \"id\": 13, \"wechat_pay_id\": \"-1\", \"cur_send_cnt\": 100, \"remark_list\": [{\"create_time\": \"2018-07-09 17:53:01\", \"update_time\": \"2018-07-09 17:53:01\", \"id\": 22, \"order_id\": 13, \"content\": \"备注内容\"}, {\"create_time\": \"2018-07-16 18:14:55\", \"update_time\": \"2018-07-16 18:14:55\", \"id\": 23, \"order_id\": 13, \"content\": \"备注内容\"}, {\"create_time\": \"2018-08-03 12:06:08\", \"update_time\": \"2018-08-03 12:06:08\", \"id\": 25, \"order_id\": 13, \"content\": \"hahahhahhahahahh\"}, {\"create_time\": \"2018-08-03 15:17:43\", \"update_time\": \"2018-08-03 15:17:43\", \"id\": 26, \"order_id\": 13, \"content\": \"hahahhahhahahahh\"}, {\"create_time\": \"2018-08-03 18:15:47\", \"update_time\": \"2018-08-03 18:15:47\", \"id\": 27, \"order_id\": 13, \"content\": \"hahahhahhahahahh\"}], \"return_id\": null, \"pay_method\": \"支付宝\", \"content_sms_id\": \"5\", \"order_status\": \"2\", \"create_time\": \"2018-06-27 17:50:10\", \"title\": \"活动1\", \"package_id\": \"2\", \"alipay_id\": \"543245642452\", \"status\": 1, \"send_date_end\": \"2016-01-01 00:00:00\", \"budget_fee\": null, \"user_coupon_id\": \"1\", \"update_time\": \"2018-06-27 17:50:10\", \"plan_send_cnt\": 100}}\n"
     ]
    }
   ],
   "source": [
    "title=\"订单活动详情页面\"\n",
    "# param = {\"user_id\":\"1\",\"coupon_id\":\"1\"}\n",
    "r1 = requests.get(url+\"service/backgroud/order_detail/13\")\n",
    "print(str(r1._content, encoding=\"utf-8\"))  "
   ]
  },
  {
   "cell_type": "code",
   "execution_count": 20,
   "metadata": {},
   "outputs": [
    {
     "name": "stdout",
     "output_type": "stream",
     "text": [
      "{\"status\": 1}\n"
     ]
    }
   ],
   "source": [
    "title=\"活动添加备注\"\n",
    "param = {\"order_id\":\"13\",\"content\":\"hahahhahhahahahh\"}\n",
    "r1 = requests.post(url+\"service/backgroud/add_bill_remark\",data=json.dumps(param))\n",
    "print(str(r1._content, encoding=\"utf-8\"))  "
   ]
  },
  {
   "cell_type": "code",
   "execution_count": 21,
   "metadata": {},
   "outputs": [
    {
     "name": "stdout",
     "output_type": "stream",
     "text": [
      "{\"status\": 1}\n"
     ]
    }
   ],
   "source": [
    "title=\"活动订单审核\"\n",
    "param = {\"id\":\"1\",\"is_complete\":\"驳回\",\"dismiss_reason\":\"理由aaaaaaa\"}\n",
    "r1 = requests.post(url+\"service/backgroud/verify_order\",data=json.dumps(param))\n",
    "print(str(r1._content, encoding=\"utf-8\"))  "
   ]
  },
  {
   "cell_type": "code",
   "execution_count": 22,
   "metadata": {},
   "outputs": [
    {
     "name": "stdout",
     "output_type": "stream",
     "text": [
      "{\"data\": [{\"user_id\": \"1\", \"create_time\": \"2018-06-26 18:03:48\", \"update_time\": \"2018-08-03 16:26:38\", \"status\": 1, \"reply\": \"哈哈哈哈哈哈哈哈\", \"id\": 12, \"content\": \"test\"}]}\n"
     ]
    }
   ],
   "source": [
    "title=\"反馈列表\"\n",
    "r1 = requests.get(url+\"service/backgroud/feedback_list/12\")\n",
    "print(str(r1._content, encoding=\"utf-8\"))  "
   ]
  },
  {
   "cell_type": "code",
   "execution_count": 23,
   "metadata": {},
   "outputs": [
    {
     "name": "stdout",
     "output_type": "stream",
     "text": [
      "{\"status\": 1}\n"
     ]
    }
   ],
   "source": [
    "title=\"反馈回复\"\n",
    "param = {\"id\":\"67\",\"reply\":\"测试测试测试\"}\n",
    "r1 = requests.post(url+\"service/backgroud/feedback_replay\",data=json.dumps(param))\n",
    "print(str(r1._content, encoding=\"utf-8\"))  "
   ]
  }
 ],
 "metadata": {
  "kernelspec": {
   "display_name": "Python 3",
   "language": "python",
   "name": "python3"
  },
  "language_info": {
   "codemirror_mode": {
    "name": "ipython",
    "version": 3
   },
   "file_extension": ".py",
   "mimetype": "text/x-python",
   "name": "python",
   "nbconvert_exporter": "python",
   "pygments_lexer": "ipython3",
   "version": "3.7.0"
  }
 },
 "nbformat": 4,
 "nbformat_minor": 2
}
