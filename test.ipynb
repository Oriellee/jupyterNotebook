{
 "cells": [
  {
   "cell_type": "code",
   "execution_count": 1,
   "metadata": {},
   "outputs": [
    {
     "name": "stdout",
     "output_type": "stream",
     "text": [
      "1 2 3\n",
      "1 2 4\n",
      "1 3 2\n",
      "1 3 4\n",
      "1 4 2\n",
      "1 4 3\n",
      "2 1 3\n",
      "2 1 4\n",
      "2 3 1\n",
      "2 3 4\n",
      "2 4 1\n",
      "2 4 3\n",
      "3 1 2\n",
      "3 1 4\n",
      "3 2 1\n",
      "3 2 4\n",
      "3 4 1\n",
      "3 4 2\n",
      "4 1 2\n",
      "4 1 3\n",
      "4 2 1\n",
      "4 2 3\n",
      "4 3 1\n",
      "4 3 2\n"
     ]
    }
   ],
   "source": [
    "for i in range(1,5):\n",
    "    for j in range(1,5):\n",
    "        for k in range(1,5):\n",
    "            if( i != k ) and (i != j) and (j != k):\n",
    "                print (i,j,k)"
   ]
  },
  {
   "cell_type": "code",
   "execution_count": 5,
   "metadata": {},
   "outputs": [
    {
     "name": "stdout",
     "output_type": "stream",
     "text": [
      "请输入3535345345\n",
      "35382953.45\n"
     ]
    }
   ],
   "source": [
    "i = int(input(\"请输入\"))\n",
    "arr = [1000000,600000,400000,200000,100000,0]\n",
    "rat = [0.01,0.015,0.03,0.05,0.075,0.1]\n",
    "r = 0\n",
    "for idx in range(0,6):\n",
    "    if i>arr[idx]:\n",
    "        r+=(i - arr[idx])*rat[idx]\n",
    "        i = arr[idx]\n",
    "print(r)"
   ]
  },
  {
   "cell_type": "code",
   "execution_count": 7,
   "metadata": {},
   "outputs": [
    {
     "name": "stdout",
     "output_type": "stream",
     "text": [
      "请输入：344\n",
      "请输入：3\n",
      "请输入：343444\n",
      "[3, 344, 343444]\n"
     ]
    }
   ],
   "source": [
    "l = []\n",
    "for i in range(0,3):\n",
    "    x = int(input(\"请输入：\"))\n",
    "    l.append(x)\n",
    "l.sort()\n",
    "print(l)"
   ]
  },
  {
   "cell_type": "code",
   "execution_count": 9,
   "metadata": {},
   "outputs": [
    {
     "name": "stdout",
     "output_type": "stream",
     "text": [
      "[1, 2, 3, 4, 5, 56]\n"
     ]
    }
   ],
   "source": [
    "a = [1,2,3,4,5,56]\n",
    "b = a[:]\n",
    "print(b)"
   ]
  },
  {
   "cell_type": "code",
   "execution_count": 21,
   "metadata": {},
   "outputs": [
    {
     "name": "stdout",
     "output_type": "stream",
     "text": [
      "0\n",
      "1\n",
      "1\n",
      "1 1 1\n",
      "2\n",
      "1\n",
      "2 1 2\n",
      "2\n",
      "2 2 4\n",
      "3\n",
      "1\n",
      "3 1 3\n",
      "2\n",
      "3 2 6\n",
      "3\n",
      "3 3 9\n",
      "4\n",
      "1\n",
      "4 1 4\n",
      "2\n",
      "4 2 8\n",
      "3\n",
      "4 3 12\n",
      "4\n",
      "4 4 16\n",
      "5\n",
      "1\n",
      "5 1 5\n",
      "2\n",
      "5 2 10\n",
      "3\n",
      "5 3 15\n",
      "4\n",
      "5 4 20\n",
      "5\n",
      "5 5 25\n",
      "6\n",
      "1\n",
      "6 1 6\n",
      "2\n",
      "6 2 12\n",
      "3\n",
      "6 3 18\n",
      "4\n",
      "6 4 24\n",
      "5\n",
      "6 5 30\n",
      "6\n",
      "6 6 36\n",
      "7\n",
      "1\n",
      "7 1 7\n",
      "2\n",
      "7 2 14\n",
      "3\n",
      "7 3 21\n",
      "4\n",
      "7 4 28\n",
      "5\n",
      "7 5 35\n",
      "6\n",
      "7 6 42\n",
      "7\n",
      "7 7 49\n",
      "8\n",
      "1\n",
      "8 1 8\n",
      "2\n",
      "8 2 16\n",
      "3\n",
      "8 3 24\n",
      "4\n",
      "8 4 32\n",
      "5\n",
      "8 5 40\n",
      "6\n",
      "8 6 48\n",
      "7\n",
      "8 7 56\n",
      "8\n",
      "8 8 64\n",
      "9\n",
      "1\n",
      "9 1 9\n",
      "2\n",
      "9 2 18\n",
      "3\n",
      "9 3 27\n",
      "4\n",
      "9 4 36\n",
      "5\n",
      "9 5 45\n",
      "6\n",
      "9 6 54\n",
      "7\n",
      "9 7 63\n",
      "8\n",
      "9 8 72\n",
      "9\n",
      "9 9 81\n"
     ]
    }
   ],
   "source": [
    "for i in range(0,10):\n",
    "    print(i)\n",
    "    for j in range(1,i+1):\n",
    "        print(j)\n",
    "        print(i,j,i*j)\n",
    "        "
   ]
  },
  {
   "cell_type": "code",
   "execution_count": 26,
   "metadata": {},
   "outputs": [
    {
     "name": "stdout",
     "output_type": "stream",
     "text": [
      "1\n",
      "2018-07-30 15:00:10\n",
      "3\n",
      "2018-07-30 15:00:12\n",
      "4\n",
      "2018-07-30 15:00:14\n",
      "5\n",
      "2018-07-30 15:00:16\n",
      "6\n",
      "2018-07-30 15:00:18\n",
      "7\n",
      "2018-07-30 15:00:20\n",
      "8\n",
      "2018-07-30 15:00:22\n",
      "9\n",
      "2018-07-30 15:00:24\n",
      "0\n",
      "2018-07-30 15:00:26\n"
     ]
    }
   ],
   "source": [
    "import time\n",
    "a = [1,3,4,5,6,7,8,9,0]\n",
    "for i in a:\n",
    "    print(i)\n",
    "    print(time.strftime('%Y-%m-%d %H:%M:%S',time.localtime(time.time())))\n",
    "    time.sleep(2)"
   ]
  }
 ],
 "metadata": {
  "kernelspec": {
   "display_name": "Python 3",
   "language": "python",
   "name": "python3"
  },
  "language_info": {
   "codemirror_mode": {
    "name": "ipython",
    "version": 3
   },
   "file_extension": ".py",
   "mimetype": "text/x-python",
   "name": "python",
   "nbconvert_exporter": "python",
   "pygments_lexer": "ipython3",
   "version": "3.5.0"
  }
 },
 "nbformat": 4,
 "nbformat_minor": 2
}
