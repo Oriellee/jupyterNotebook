{
 "cells": [
  {
   "cell_type": "code",
   "execution_count": 1,
   "metadata": {},
   "outputs": [],
   "source": [
    "import requests\n",
    "import json\n",
    "url='http://127.0.0.1:1000/'\n",
    "# url='http://36.152.17.185:18506/'\n",
    "\n",
    "sc_token='928f0d42780e69cd72eda1e6f48fa783'"
   ]
  },
  {
   "cell_type": "code",
   "execution_count": 3,
   "metadata": {},
   "outputs": [
    {
     "name": "stdout",
     "output_type": "stream",
     "text": [
      "b'{\"status\": 3}'\n"
     ]
    }
   ],
   "source": [
    "title=\"登录\"\n",
    "\n",
    "login_param = {\"username\":\"test1\",\"\":\"\",\"relocation\":\"\",\"password\":\"0192023a7bbd73250516f069df18b500\"}\n",
    "r1 = requests.post(url+\"service/app/login\",data=json.dumps(login_param))\n",
    "print(r1.content)\n",
    "    "
   ]
  },
  {
   "cell_type": "code",
   "execution_count": 4,
   "metadata": {},
   "outputs": [],
   "source": [
    "title=\"登出\"\n",
    "headers = {\"sc-token\":sc_token}\n",
    "r1 = requests.get(url+\"service/app/logout\",headers=headers)\n",
    "\n"
   ]
  },
  {
   "cell_type": "code",
   "execution_count": 39,
   "metadata": {},
   "outputs": [
    {
     "name": "stdout",
     "output_type": "stream",
     "text": [
      "{\"status\": \"1\"}\n"
     ]
    }
   ],
   "source": [
    "title=\"提交反馈\"\n",
    "login_param = {\"content\":\"test\",}\n",
    "headers = {\"sc-token\":sc_token}\n",
    "r1 = requests.post(url+\"service/app/problem_feedback\",data=json.dumps(login_param),headers=headers)\n",
    "print(str(r1._content, encoding=\"utf-8\"))    "
   ]
  },
  {
   "cell_type": "code",
   "execution_count": null,
   "metadata": {},
   "outputs": [],
   "source": []
  },
  {
   "cell_type": "code",
   "execution_count": 6,
   "metadata": {},
   "outputs": [
    {
     "name": "stdout",
     "output_type": "stream",
     "text": [
      "b'{\"status\": \"1\"}'\n"
     ]
    }
   ],
   "source": [
    "title=\"资质认证资料\"\n",
    "login_param = {\n",
    "\n",
    "\"name\":\"张三\",\n",
    "\n",
    "\"age\":\"18\",\n",
    "\"sex\":\"男\",\n",
    "\"id_card\":\"350671111726272811\",\n",
    "\"front_pic\":\"/static/app/ad1.jpg\",\n",
    "\"back_pic\":\"/static/app/ad1.jpg\",\n",
    "\"people_pic\":\"/static/app/ad1.jpg\",\n",
    "\"legal_name\":\"法人姓名\",\n",
    "\"industry\":\"行业\",\n",
    "\"address\":\"地址\",\n",
    "\"licence_no\":\"43445252\",\n",
    "\"licence_term\":\"2018-11-11\",\n",
    "\"licence_pic\":\"/static/app/ad1.jpg\",\n",
    "}\n",
    "headers = {\"sc-token\":sc_token}\n",
    "r1 = requests.post(url+\"service/app/certification\",data=json.dumps(login_param),headers=headers)\n",
    "print(r1.content)"
   ]
  },
  {
   "cell_type": "code",
   "execution_count": 165,
   "metadata": {},
   "outputs": [
    {
     "name": "stdout",
     "output_type": "stream",
     "text": [
      "b'{\"advert\": [{\"ad_href\": \"https://www.baidu.com/\", \"ad_img_url\": \"http://127.0.0.1:8082/static/data/testpic.jpg\", \"id\": 2}, {\"ad_href\": \"https://www.baidu.com/\", \"ad_img_url\": \"http://127.0.0.1:8082/static/data/432179.jpg\", \"id\": 3}, {\"ad_href\": \"https://www.baidu.com/\", \"ad_img_url\": \"http://127.0.0.1:8082/static/data/testpic.jpg\", \"id\": 4}, {\"ad_href\": \"https://www.baidu.com/\", \"ad_img_url\": \"http://127.0.0.1:8082/static/data/432179.jpg\", \"id\": 5}]}'\n"
     ]
    }
   ],
   "source": [
    "title=\"优惠广告查询\"\n",
    "\n",
    "headers = {\"sc-token\":sc_token}\n",
    "r1 = requests.get(url+\"service/app/coupon_ad\",headers=headers)\n",
    "print(r1.content)"
   ]
  },
  {
   "cell_type": "code",
   "execution_count": null,
   "metadata": {},
   "outputs": [],
   "source": [
    "# title=\"当前可用优惠券查询\"\n",
    "\n",
    "headers = {\"sc-token\":sc_token}\n",
    "r1 = requests.get(url+\"service/app/coupon\",headers=headers)\n",
    "print(r1.content)"
   ]
  },
  {
   "cell_type": "code",
   "execution_count": 56,
   "metadata": {},
   "outputs": [
    {
     "name": "stdout",
     "output_type": "stream",
     "text": [
      "b'{\"id\": 9}'\n"
     ]
    }
   ],
   "source": [
    "title=\"提交活动\"\n",
    "param = {\n",
    "\n",
    "\"title\":\"活动1\" ,\n",
    "\"content_type\":\"图文\",\n",
    "\"send_date_begin\":\"2016-01-01\",\n",
    "\"send_date_end\":\"2016-01-01\",\n",
    "\"send_time_range\":[{\"begin\":1,\"end\":\"2\"},{\"begin\":10,\"end\":\"20\"}],\n",
    "\"pay_method\":\"支付宝\",\n",
    "\"total_pay\":178.00,\n",
    "\"plan_send_cnt\":\"100\",\n",
    "\"cur_send_cnt\":\"100\",\n",
    "\"tags\":[1,2,3],\n",
    "\"user_coupon_id\":'1',\n",
    "\"package_id\":\"2\",\n",
    "\"wechat_pay_id\":\"\",\n",
    "\"alipay_id\":\"543245642452\",\n",
    "\"content_sms\":{\"title\":\"乒乓美报名了\",\"content\":\"abcdefg\",\"organizer\":\"王先生\"},\n",
    "\"content_html\":{\"url\":\"192.168.1.23:80/static/html/123456.html\" },\n",
    "\"locations\":[{\"name\":\"中关村\",\"lng\":127.77777,\"lat\":33.123344,\"radius\":500},\n",
    "             {\"name\":\"中关村\",\"lng\":127.77777,\"lat\":33.123344,\"radius\":500}],\n",
    "    \n",
    "    \n",
    "}\n",
    "headers = {\"sc-token\":sc_token}\n",
    "r1 = requests.post(url+\"service/app/ordersummit\",data=json.dumps(param),headers=headers)\n",
    "print(r1.content)"
   ]
  },
  {
   "cell_type": "code",
   "execution_count": 148,
   "metadata": {},
   "outputs": [
    {
     "name": "stdout",
     "output_type": "stream",
     "text": [
      "{\"order\": {\"locations\": [{\"lng\": \"127.77777\", \"lat\": \"33.123344\", \"radius\": \"500\", \"name\": \"中关村\"}, {\"lng\": \"127.77777\", \"lat\": \"33.123344\", \"radius\": \"500\", \"name\": \"中关村\"}], \"coupon\": \"5\", \"send_date_begin\": \"2016-01-01 00:00:00\", \"update_time\": \"2018-06-27 11:39:30\", \"cur_send_cnt\": 100, \"id\": 9, \"wechat_pay_id\": \"-1\", \"order_status\": \"2\", \"status\": \"2\", \"tags\": [{\"parent\": \"0\", \"id\": 1, \"desc\": \"教育\"}, {\"parent\": \"0\", \"id\": 2, \"desc\": \"旅游\"}, {\"parent\": \"0\", \"id\": 3, \"desc\": \"金融\"}], \"alipay_id\": \"543245642452\", \"content_sms_id\": \"1\", \"user_coupon_id\": \"1\", \"content_type\": \"图文\", \"content_sms\": {\"title\": \"乒乓美报名了\", \"content\": \"abcdefg\"}, \"send_time_range\": \"[{'end': '2', 'begin': 1}, {'end': '20', 'begin': 10}]\", \"title\": \"活动1\", \"plan_send_cnt\": 100, \"package_id\": \"2\", \"budget_fee\": null, \"content_html_id\": null, \"user_id\": 1, \"return_id\": null, \"total_pay\": 0, \"send_date_end\": \"2016-01-01 00:00:00\", \"pay_method\": \"支付宝\", \"create_time\": \"2018-06-27 11:39:30\"}}\n"
     ]
    }
   ],
   "source": [
    "title=\"获取单个活动信息\"\n",
    "\n",
    "headers = {\"sc-token\":sc_token}\n",
    "r1 = requests.get(url+\"service/app/order/9\",headers=headers)\n",
    "print(str(r1._content, encoding=\"utf-8\"))"
   ]
  },
  {
   "cell_type": "code",
   "execution_count": 80,
   "metadata": {},
   "outputs": [
    {
     "name": "stdout",
     "output_type": "stream",
     "text": [
      "{\"distance_conf\": [0.5, 1, 1.5, 2, 3, 5, 7, 10, 15]}\n"
     ]
    }
   ],
   "source": [
    "title=\"可用距离查询\"\n",
    "\n",
    "headers = {\"sc-token\":sc_token}\n",
    "r1 = requests.get(url+\"service/app/distanceconf\",headers=headers)\n",
    "print(str(r1._content, encoding=\"utf-8\"))"
   ]
  },
  {
   "cell_type": "code",
   "execution_count": 111,
   "metadata": {},
   "outputs": [
    {
     "name": "stdout",
     "output_type": "stream",
     "text": [
      "{\"package_list \": [{\"type\": \"文字套餐\", \"send_cnd\": 200, \"price\": 188, \"id\": \"1\"}]}\n"
     ]
    }
   ],
   "source": [
    "title=\"文字套餐查询\"\n",
    "\n",
    "headers = {\"sc-token\":sc_token}\n",
    "r1 = requests.get(url+\"service/app/packagelist/text\",headers=headers)\n",
    "print(str(r1._content, encoding=\"utf-8\"))"
   ]
  },
  {
   "cell_type": "code",
   "execution_count": 82,
   "metadata": {},
   "outputs": [
    {
     "name": "stdout",
     "output_type": "stream",
     "text": [
      "{\"package_list \": [{\"price\": 188, \"type\": \" 图文套餐\", \"send_cnd\": 200, \"id\": \"1\"}]}\n"
     ]
    }
   ],
   "source": [
    "title=\"图文套餐查询\"\n",
    "\n",
    "headers = {\"sc-token\":sc_token}\n",
    "r1 = requests.get(url+\"service/app/packagelist/html\",headers=headers)\n",
    "print(str(r1._content, encoding=\"utf-8\"))"
   ]
  },
  {
   "cell_type": "code",
   "execution_count": 12,
   "metadata": {},
   "outputs": [
    {
     "name": "stdout",
     "output_type": "stream",
     "text": [
      "{\"tags\": [{\"id\": 1, \"parent\": \"0\", \"desc\": \"球类项目\", \"child_items\": [{\"id\": 100001, \"parent\": \"1\", \"desc\": \"足球\"}, {\"id\": 100002, \"parent\": \"1\", \"desc\": \"羽毛球\"}, {\"id\": 100003, \"parent\": \"1\", \"desc\": \"高尔夫球\"}, {\"id\": 100004, \"parent\": \"1\", \"desc\": \"篮球\"}, {\"id\": 100005, \"parent\": \"1\", \"desc\": \"网球\"}, {\"id\": 100006, \"parent\": \"1\", \"desc\": \"台球\"}, {\"id\": 100007, \"parent\": \"1\", \"desc\": \"排球\"}, {\"id\": 100008, \"parent\": \"1\", \"desc\": \"棒球\"}, {\"id\": 100009, \"parent\": \"1\", \"desc\": \"门球\"}, {\"id\": 100010, \"parent\": \"1\", \"desc\": \"水球\"}, {\"id\": 100011, \"parent\": \"1\", \"desc\": \"冰球\"}, {\"id\": 100012, \"parent\": \"1\", \"desc\": \"地掷球\"}, {\"id\": 100013, \"parent\": \"1\", \"desc\": \"手球\"}, {\"id\": 100014, \"parent\": \"1\", \"desc\": \"垒球\"}, {\"id\": 100015, \"parent\": \"1\", \"desc\": \"藤球\"}, {\"id\": 100016, \"parent\": \"1\", \"desc\": \"曲棍球\"}, {\"id\": 100017, \"parent\": \"1\", \"desc\": \"软式网球\"}, {\"id\": 100018, \"parent\": \"1\", \"desc\": \"毽球\"}, {\"id\": 100019, \"parent\": \"1\", \"desc\": \"乒乓球\"}, {\"id\": 100020, \"parent\": \"1\", \"desc\": \"保龄球\"}]}, {\"id\": 2, \"parent\": \"0\", \"desc\": \"竞技项目\", \"child_items\": [{\"id\": 100021, \"parent\": \"2\", \"desc\": \"田径\"}, {\"id\": 100022, \"parent\": \"2\", \"desc\": \"射箭\"}, {\"id\": 100023, \"parent\": \"2\", \"desc\": \"赛艇\"}, {\"id\": 100024, \"parent\": \"2\", \"desc\": \"游泳\"}, {\"id\": 100025, \"parent\": \"2\", \"desc\": \"体操\"}, {\"id\": 100026, \"parent\": \"2\", \"desc\": \"皮划艇\"}, {\"id\": 100027, \"parent\": \"2\", \"desc\": \"跳水\"}, {\"id\": 100028, \"parent\": \"2\", \"desc\": \"艺术体操\"}, {\"id\": 100029, \"parent\": \"2\", \"desc\": \"帆船\"}, {\"id\": 100030, \"parent\": \"2\", \"desc\": \"花样游泳\"}, {\"id\": 100031, \"parent\": \"2\", \"desc\": \"击剑\"}, {\"id\": 100032, \"parent\": \"2\", \"desc\": \"帆板\"}, {\"id\": 100033, \"parent\": \"2\", \"desc\": \"射击\"}, {\"id\": 100034, \"parent\": \"2\", \"desc\": \"拳击\"}, {\"id\": 100035, \"parent\": \"2\", \"desc\": \"马术\"}, {\"id\": 100036, \"parent\": \"2\", \"desc\": \"举重\"}, {\"id\": 100037, \"parent\": \"2\", \"desc\": \"国际摔跤\"}, {\"id\": 100038, \"parent\": \"2\", \"desc\": \"现代五项\"}, {\"id\": 100039, \"parent\": \"2\", \"desc\": \"自行车\"}, {\"id\": 100040, \"parent\": \"2\", \"desc\": \"柔道\"}]}, {\"id\": 3, \"parent\": \"0\", \"desc\": \"冬季运动项目\", \"child_items\": [{\"id\": 100041, \"parent\": \"3\", \"desc\": \"高山滑雪\"}, {\"id\": 100042, \"parent\": \"3\", \"desc\": \"速度滑冰冰上溜石\"}, {\"id\": 100043, \"parent\": \"3\", \"desc\": \"越野滑雪\"}, {\"id\": 100044, \"parent\": \"3\", \"desc\": \"花样滑冰\"}, {\"id\": 100045, \"parent\": \"3\", \"desc\": \"现代冬季两项\"}, {\"id\": 100046, \"parent\": \"3\", \"desc\": \"跳台滑雪\"}, {\"id\": 100047, \"parent\": \"3\", \"desc\": \"冰上舞蹈\"}]}, {\"id\": 4, \"parent\": \"0\", \"desc\": \"流行运动项目\", \"child_items\": [{\"id\": 100048, \"parent\": \"4\", \"desc\": \"滑水\"}, {\"id\": 100049, \"parent\": \"4\", \"desc\": \"高尔夫球\"}, {\"id\": 100050, \"parent\": \"4\", \"desc\": \"轮滑\"}, {\"id\": 100051, \"parent\": \"4\", \"desc\": \"冲浪\"}, {\"id\": 100052, \"parent\": \"4\", \"desc\": \"台球\"}, {\"id\": 100053, \"parent\": \"4\", \"desc\": \"钓鱼\"}, {\"id\": 100054, \"parent\": \"4\", \"desc\": \"保龄球\"}, {\"id\": 100055, \"parent\": \"4\", \"desc\": \"攀岩\"}]}, {\"id\": 5, \"parent\": \"0\", \"desc\": \"其他运动项目\", \"child_items\": [{\"id\": 100056, \"parent\": \"5\", \"desc\": \"铁人三项\"}, {\"id\": 100057, \"parent\": \"5\", \"desc\": \"摩托车\"}, {\"id\": 100058, \"parent\": \"5\", \"desc\": \"无线电测向\"}, {\"id\": 100059, \"parent\": \"5\", \"desc\": \"技巧\"}, {\"id\": 100060, \"parent\": \"5\", \"desc\": \"摩托艇\"}, {\"id\": 100061, \"parent\": \"5\", \"desc\": \"登山\"}, {\"id\": 100062, \"parent\": \"5\", \"desc\": \"健美\"}, {\"id\": 100063, \"parent\": \"5\", \"desc\": \"跳伞定向\"}, {\"id\": 100064, \"parent\": \"5\", \"desc\": \"体育舞蹈\"}, {\"id\": 100065, \"parent\": \"5\", \"desc\": \"滑翔\"}, {\"id\": 100066, \"parent\": \"5\", \"desc\": \"伤残人运动\"}, {\"id\": 100067, \"parent\": \"5\", \"desc\": \"健美操\"}, {\"id\": 100068, \"parent\": \"5\", \"desc\": \"信鸽\"}, {\"id\": 100069, \"parent\": \"5\", \"desc\": \"广播体操\"}, {\"id\": 100070, \"parent\": \"5\", \"desc\": \"围棋\"}, {\"id\": 100071, \"parent\": \"5\", \"desc\": \"蹼泳\"}, {\"id\": 100072, \"parent\": \"5\", \"desc\": \"国际象棋\"}, {\"id\": 100073, \"parent\": \"5\", \"desc\": \"桥牌\"}, {\"id\": 100074, \"parent\": \"5\", \"desc\": \"航海模型\"}, {\"id\": 100075, \"parent\": \"5\", \"desc\": \"航空模型\"}, {\"id\": 100076, \"parent\": \"5\", \"desc\": \"汽车赛\"}]}]}\n"
     ]
    }
   ],
   "source": [
    "title=\"获取标签（项目和赛事）列表\"\n",
    "\n",
    "headers = {\"sc-token\":sc_token}\n",
    "r1 = requests.get(url+\"service/app/gettoptags\",headers=headers)\n",
    "print(str(r1._content, encoding=\"utf-8\"))"
   ]
  },
  {
   "cell_type": "code",
   "execution_count": 11,
   "metadata": {},
   "outputs": [
    {
     "name": "stdout",
     "output_type": "stream",
     "text": [
      "{\"tags\": []}\n"
     ]
    }
   ],
   "source": [
    "title=\"搜索项目或赛事\"\n",
    "param = {\n",
    "    \"level\":2,\n",
    "    \"title\":\"游戏\"\n",
    "}\n",
    "headers = {\"sc-token\":sc_token}\n",
    "r1 = requests.post(url+\"service/app/searchtags\",headers=headers,data=json.dumps(param))\n",
    "print(str(r1._content, encoding=\"utf-8\"))"
   ]
  },
  {
   "cell_type": "code",
   "execution_count": 14,
   "metadata": {},
   "outputs": [
    {
     "name": "stdout",
     "output_type": "stream",
     "text": [
      "{\"tags\": [{\"desc\": \"学前教育\", \"id\": 100001, \"parent\": \"1\"}, {\"desc\": \"中小学教育\", \"id\": 100002, \"parent\": \"1\"}, {\"desc\": \"大学考试\", \"id\": 100003, \"parent\": \"1\"}, {\"desc\": \"职业教育\", \"id\": 100004, \"parent\": \"1\"}, {\"desc\": \"学历教育\", \"id\": 100005, \"parent\": \"1\"}, {\"desc\": \"语言培训\", \"id\": 100006, \"parent\": \"1\"}, {\"desc\": \"IT培训\", \"id\": 100007, \"parent\": \"1\"}, {\"desc\": \"公务员考试\", \"id\": 100008, \"parent\": \"1\"}, {\"desc\": \"出国留学\", \"id\": 100009, \"parent\": \"1\"}]}\n"
     ]
    }
   ],
   "source": [
    "title=\"获取下一级标签\"\n",
    "\n",
    "headers = {\"sc-token\":sc_token}\n",
    "r1 = requests.get(url+\"service/app/getchildtags/1\",headers=headers)\n",
    "print(str(r1._content, encoding=\"utf-8\"))"
   ]
  },
  {
   "cell_type": "code",
   "execution_count": 91,
   "metadata": {},
   "outputs": [
    {
     "name": "stdout",
     "output_type": "stream",
     "text": [
      "b'{\"status \": 1, \"id\": 4}'\n"
     ]
    }
   ],
   "source": [
    "title=\"保存标签模板\"\n",
    "param = {\n",
    "\"tags\":[1,2,3,4],\n",
    "\"name\":\"我的模板1\"\n",
    "    \n",
    "}\n",
    "headers = {\"sc-token\":sc_token}\n",
    "r1 = requests.post(url+\"service/app/savetagtemplet\",data=json.dumps(param),headers=headers)\n",
    "print(r1.content)"
   ]
  },
  {
   "cell_type": "code",
   "execution_count": 98,
   "metadata": {},
   "outputs": [
    {
     "name": "stdout",
     "output_type": "stream",
     "text": [
      "{\"tags\": [{\"id\": 1, \"desc\": \"标签1\", \"parent\": \"0\"}, {\"id\": 2, \"desc\": \"标签2\", \"parent\": \"1\"}]}\n"
     ]
    }
   ],
   "source": [
    "title=\"获取模板标签\"\n",
    "\n",
    "headers = {\"sc-token\":sc_token}\n",
    "r1 = requests.get(url+\"service/app/gettagtemplet/4\",headers=headers)\n",
    "print(str(r1._content, encoding=\"utf-8\"))"
   ]
  },
  {
   "cell_type": "code",
   "execution_count": 101,
   "metadata": {},
   "outputs": [
    {
     "name": "stdout",
     "output_type": "stream",
     "text": [
      "{\"title\": \"XX俱乐部\", \"content\": \"XX俱乐部欢迎你\"}\n"
     ]
    }
   ],
   "source": [
    "title=\"获取推荐文字模板\"\n",
    "\n",
    "headers = {\"sc-token\":sc_token}\n",
    "r1 = requests.get(url+\"service/app/packagelist/get_sms_template\",headers=headers)\n",
    "print(str(r1._content, encoding=\"utf-8\"))"
   ]
  },
  {
   "cell_type": "code",
   "execution_count": 108,
   "metadata": {},
   "outputs": [
    {
     "name": "stdout",
     "output_type": "stream",
     "text": [
      "{\"count\": 10000, \"money\": 2.0}\n"
     ]
    }
   ],
   "source": [
    "title=\"发送条数与预算金额联动查询\"\n",
    "param = {\n",
    "\"money\":100,\n",
    "\"count\":200\n",
    "    \n",
    "}\n",
    "headers = {\"sc-token\":sc_token}\n",
    "r1 = requests.post(url+\"service/app/count_money\",data=json.dumps(param),headers=headers)\n",
    "print(str(r1._content, encoding=\"utf-8\"))"
   ]
  },
  {
   "cell_type": "code",
   "execution_count": 14,
   "metadata": {},
   "outputs": [
    {
     "name": "stdout",
     "output_type": "stream",
     "text": [
      "{\"total_coupon\": 5, \"pic_count\": 54, \"people_count\": 0, \"char_count\": 0, \"table\": [{\"date\": \"2016-01-01 00:00:00\", \"money\": 7, \"title\": \"活动1\", \"send_count\": 100, \"content_type\": \"图文\"}, {\"date\": \"2016-01-01 00:00:00\", \"money\": 0, \"title\": \"活动1\", \"send_count\": 100, \"content_type\": \"图文\"}, {\"date\": \"2016-01-01 00:00:00\", \"money\": 0, \"title\": \"活动1\", \"send_count\": 100, \"content_type\": \"图文\"}, {\"date\": \"2016-01-01 00:00:00\", \"money\": 0, \"title\": \"活动1\", \"send_count\": 100, \"content_type\": \"图文\"}, {\"date\": \"2016-01-01 00:00:00\", \"money\": 0, \"title\": \"活动1\", \"send_count\": 100, \"content_type\": \"图文\"}, {\"date\": \"2016-01-01 00:00:00\", \"money\": 0, \"title\": \"活动1\", \"send_count\": 100, \"content_type\": \"图文\"}, {\"date\": \"2016-01-01 00:00:00\", \"money\": 0, \"title\": \"活动1\", \"send_count\": 100, \"content_type\": \"图文\"}, {\"date\": \"2016-01-01 00:00:00\", \"money\": 0, \"title\": \"活动1\", \"send_count\": 100, \"content_type\": \"图文\"}, {\"date\": \"2016-01-01 00:00:00\", \"money\": 0, \"title\": \"活动1\", \"send_count\": 100, \"content_type\": \"图文\"}, {\"date\": \"2016-01-01 00:00:00\", \"money\": 0, \"title\": \"活动1\", \"send_count\": 100, \"content_type\": \"图文\"}, {\"date\": \"2016-01-01 00:00:00\", \"money\": 0, \"title\": \"活动1\", \"send_count\": 100, \"content_type\": \"图文\"}, {\"date\": \"2016-01-01 00:00:00\", \"money\": 0, \"title\": \"活动1\", \"send_count\": 100, \"content_type\": \"图文\"}, {\"date\": \"2016-01-01 00:00:00\", \"money\": 0, \"title\": \"活动1\", \"send_count\": 100, \"content_type\": \"图文\"}, {\"date\": \"2016-01-01 00:00:00\", \"money\": 0, \"title\": \"活动1\", \"send_count\": 100, \"content_type\": \"图文\"}, {\"date\": \"2016-01-01 00:00:00\", \"money\": 0, \"title\": \"活动1\", \"send_count\": 100, \"content_type\": \"图文\"}, {\"date\": \"2016-01-01 00:00:00\", \"money\": 0, \"title\": \"活动1\", \"send_count\": 100, \"content_type\": \"图文\"}, {\"date\": \"2016-01-01 00:00:00\", \"money\": 0, \"title\": \"活动1\", \"send_count\": 100, \"content_type\": \"图文\"}, {\"date\": \"2016-01-01 00:00:00\", \"money\": 0, \"title\": \"活动1\", \"send_count\": 100, \"content_type\": \"图文\"}, {\"date\": \"2016-01-01 00:00:00\", \"money\": 0, \"title\": \"活动1\", \"send_count\": 100, \"content_type\": \"图文\"}, {\"date\": \"2016-01-01 00:00:00\", \"money\": 0, \"title\": \"活动1\", \"send_count\": 100, \"content_type\": \"图文\"}, {\"date\": \"2016-01-01 00:00:00\", \"money\": 0, \"title\": \"活动1\", \"send_count\": 100, \"content_type\": \"图文\"}, {\"date\": \"2016-01-01 00:00:00\", \"money\": 0, \"title\": \"活动1\", \"send_count\": 100, \"content_type\": \"图文\"}, {\"date\": \"2016-01-01 00:00:00\", \"money\": 0, \"title\": \"活动1\", \"send_count\": 100, \"content_type\": \"图文\"}, {\"date\": \"2016-01-01 00:00:00\", \"money\": 0, \"title\": \"活动1\", \"send_count\": 100, \"content_type\": \"图文\"}, {\"date\": \"2016-01-01 00:00:00\", \"money\": 0, \"title\": \"活动1\", \"send_count\": 100, \"content_type\": \"图文\"}, {\"date\": \"2016-01-01 00:00:00\", \"money\": 0, \"title\": \"活动1\", \"send_count\": 100, \"content_type\": \"图文\"}, {\"date\": \"2016-01-01 00:00:00\", \"money\": 0, \"title\": \"活动1\", \"send_count\": 100, \"content_type\": \"图文\"}, {\"date\": \"2016-01-01 00:00:00\", \"money\": 0, \"title\": \"活动1\", \"send_count\": 100, \"content_type\": \"图文\"}, {\"date\": \"2016-01-01 00:00:00\", \"money\": 0, \"title\": \"活动1\", \"send_count\": 100, \"content_type\": \"图文\"}, {\"date\": \"2016-01-01 00:00:00\", \"money\": 0, \"title\": \"活动1\", \"send_count\": 100, \"content_type\": \"图文\"}, {\"date\": \"2016-01-01 00:00:00\", \"money\": 0, \"title\": \"活动1\", \"send_count\": 100, \"content_type\": \"图文\"}, {\"date\": \"2016-01-01 00:00:00\", \"money\": 0, \"title\": \"活动1\", \"send_count\": 100, \"content_type\": \"图文\"}, {\"date\": \"2016-01-01 00:00:00\", \"money\": 0, \"title\": \"活动1\", \"send_count\": 100, \"content_type\": \"图文\"}, {\"date\": \"2016-01-01 00:00:00\", \"money\": 0, \"title\": \"活动1\", \"send_count\": 100, \"content_type\": \"图文\"}, {\"date\": \"2016-01-01 00:00:00\", \"money\": 0, \"title\": \"活动1\", \"send_count\": 100, \"content_type\": \"图文\"}, {\"date\": \"2016-01-01 00:00:00\", \"money\": 0, \"title\": \"活动1\", \"send_count\": 100, \"content_type\": \"图文\"}, {\"date\": \"2016-01-01 00:00:00\", \"money\": 0, \"title\": \"活动1\", \"send_count\": 100, \"content_type\": \"图文\"}, {\"date\": \"2016-01-01 00:00:00\", \"money\": 0, \"title\": \"活动1\", \"send_count\": 100, \"content_type\": \"图文\"}, {\"date\": \"2016-01-01 00:00:00\", \"money\": 0, \"title\": \"活动1\", \"send_count\": 100, \"content_type\": \"图文\"}, {\"date\": \"2016-01-01 00:00:00\", \"money\": 0, \"title\": \"活动1\", \"send_count\": 100, \"content_type\": \"图文\"}, {\"date\": \"2016-01-01 00:00:00\", \"money\": 0, \"title\": \"活动1\", \"send_count\": 100, \"content_type\": \"图文\"}, {\"date\": \"2016-01-01 00:00:00\", \"money\": 0, \"title\": \"活动1\", \"send_count\": 100, \"content_type\": \"图文\"}, {\"date\": \"2016-01-01 00:00:00\", \"money\": 0, \"title\": \"活动1\", \"send_count\": 100, \"content_type\": \"图文\"}, {\"date\": \"2016-01-01 00:00:00\", \"money\": 0, \"title\": \"活动1\", \"send_count\": 100, \"content_type\": \"图文\"}, {\"date\": \"2016-01-01 00:00:00\", \"money\": 0, \"title\": \"活动1\", \"send_count\": 100, \"content_type\": \"图文\"}, {\"date\": \"2016-01-01 00:00:00\", \"money\": 0, \"title\": \"活动1\", \"send_count\": 100, \"content_type\": \"图文\"}, {\"date\": \"2016-01-01 00:00:00\", \"money\": 0, \"title\": \"活动1\", \"send_count\": 100, \"content_type\": \"图文\"}, {\"date\": \"2016-01-01 00:00:00\", \"money\": 0, \"title\": \"活动1\", \"send_count\": 100, \"content_type\": \"图文\"}, {\"date\": \"2016-01-01 00:00:00\", \"money\": 0, \"title\": \"活动1\", \"send_count\": 100, \"content_type\": \"图文\"}, {\"date\": \"2016-01-01 00:00:00\", \"money\": 0, \"title\": \"活动1\", \"send_count\": 100, \"content_type\": \"图文\"}, {\"date\": \"2016-01-01 00:00:00\", \"money\": 0, \"title\": \"活动1\", \"send_count\": 100, \"content_type\": \"图文\"}, {\"date\": \"2016-01-01 00:00:00\", \"money\": 0, \"title\": \"活动1\", \"send_count\": 100, \"content_type\": \"图文\"}, {\"date\": \"2016-01-01 00:00:00\", \"money\": 0, \"title\": \"活动1\", \"send_count\": 100, \"content_type\": \"图文\"}, {\"date\": \"2016-01-01 00:00:00\", \"money\": 0, \"title\": \"活动1\", \"send_count\": null, \"content_type\": \"图文\"}], \"total_pay\": 7, \"line\": {\"value\": [\"111\", \"123\", \"431\"], \"data\": [\"0816\", \"0817\", \"0818\"]}, \"activite_count\": 54}\n"
     ]
    }
   ],
   "source": [
    "title=\"商家统计数据\"\n",
    "\n",
    "headers = {\"sc-token\":sc_token}\n",
    "r1 = requests.get(url+\"service/app/statistic/statistic_data\",headers=headers)\n",
    "print(str(r1._content, encoding=\"utf-8\"))"
   ]
  },
  {
   "cell_type": "code",
   "execution_count": 16,
   "metadata": {},
   "outputs": [
    {
     "name": "stdout",
     "output_type": "stream",
     "text": [
      "{\"cur_page\": 2, \"next_page\": 3, \"total_page_cnt\": 18, \"order_list\": [{\"package_id\": \"2\", \"order_status\": \"2\", \"total_pay\": 0, \"send_date_end\": \"2016-01-01 00:00:00\", \"status\": \"2\", \"content_type\": \"图文\", \"send_date_begin\": \"2016-01-01 00:00:00\", \"cur_send_cnt\": 100, \"update_time\": \"2018-06-27 11:39:30\", \"create_time\": \"2018-06-27 11:39:30\", \"budget_fee\": null, \"wechat_pay_id\": \"-1\", \"vip_discount\": 0, \"tags\": [{\"id\": 1, \"parent\": \"0\", \"desc\": \"球类项目\"}, {\"id\": 2, \"parent\": \"0\", \"desc\": \"竞技项目\"}, {\"id\": 3, \"parent\": \"0\", \"desc\": \"冬季运动项目\"}], \"id\": 9, \"return_id\": null, \"content_html_id\": null, \"package_choice\": {\"id\": 2, \"title\": \"套餐188\", \"send_cnd\": 188}, \"send_time_range\": [{\"end\": \"2\", \"begin\": 1}, {\"end\": \"20\", \"begin\": 10}], \"title\": \"活动1\", \"user_id\": 1, \"content_sms_id\": \"1\", \"user_coupon_id\": \"1\", \"pay_method\": \"支付宝\", \"content_sms\": {\"content\": \"abcdefg\", \"title\": \"乒乓美报名了\"}, \"locations\": [{\"name\": \"中关村\", \"lng\": \"127.77777\", \"lat\": \"33.123344\", \"radius\": \"500\"}, {\"name\": \"中关村\", \"lng\": \"127.77777\", \"lat\": \"33.123344\", \"radius\": \"500\"}], \"coupon\": \"5\", \"alipay_id\": \"543245642452\", \"plan_send_cnt\": 100}, {\"package_id\": \"2\", \"order_status\": \"2\", \"total_pay\": 0, \"send_date_end\": \"2016-01-01 00:00:00\", \"status\": \"2\", \"content_type\": \"图文\", \"send_date_begin\": \"2016-01-01 00:00:00\", \"cur_send_cnt\": 100, \"update_time\": \"2018-06-27 17:43:34\", \"create_time\": \"2018-06-27 17:43:34\", \"budget_fee\": null, \"wechat_pay_id\": \"-1\", \"vip_discount\": 0, \"tags\": [{\"id\": 1, \"parent\": \"0\", \"desc\": \"球类项目\"}, {\"id\": 2, \"parent\": \"0\", \"desc\": \"竞技项目\"}, {\"id\": 3, \"parent\": \"0\", \"desc\": \"冬季运动项目\"}], \"id\": 10, \"return_id\": null, \"content_html_id\": null, \"package_choice\": {\"id\": 2, \"title\": \"套餐188\", \"send_cnd\": 188}, \"send_time_range\": [{\"end\": \"2\", \"begin\": 1}, {\"end\": \"20\", \"begin\": 10}], \"title\": \"活动1\", \"user_id\": 1, \"content_sms_id\": \"2\", \"user_coupon_id\": \"1\", \"pay_method\": \"支付宝\", \"content_sms\": {\"content\": \"abcdefg\", \"title\": \"乒乓美报名了\"}, \"locations\": [{\"name\": \"中关村\", \"lng\": \"127.77777\", \"lat\": \"33.123344\", \"radius\": \"500\"}, {\"name\": \"中关村\", \"lng\": \"127.77777\", \"lat\": \"33.123344\", \"radius\": \"500\"}], \"coupon\": \"5\", \"alipay_id\": \"543245642452\", \"plan_send_cnt\": 100}, {\"package_id\": \"2\", \"order_status\": \"2\", \"total_pay\": 0, \"send_date_end\": \"2016-01-01 00:00:00\", \"status\": \"2\", \"content_type\": \"图文\", \"send_date_begin\": \"2016-01-01 00:00:00\", \"cur_send_cnt\": 100, \"update_time\": \"2018-06-27 17:47:54\", \"create_time\": \"2018-06-27 17:47:54\", \"budget_fee\": null, \"wechat_pay_id\": \"-1\", \"vip_discount\": 0, \"tags\": [{\"id\": 1, \"parent\": \"0\", \"desc\": \"球类项目\"}, {\"id\": 2, \"parent\": \"0\", \"desc\": \"竞技项目\"}, {\"id\": 3, \"parent\": \"0\", \"desc\": \"冬季运动项目\"}], \"id\": 11, \"return_id\": null, \"content_html_id\": null, \"package_choice\": {\"id\": 2, \"title\": \"套餐188\", \"send_cnd\": 188}, \"send_time_range\": [{\"end\": \"2\", \"begin\": 1}, {\"end\": \"20\", \"begin\": 10}], \"title\": \"活动1\", \"user_id\": 1, \"content_sms_id\": \"3\", \"user_coupon_id\": \"1\", \"pay_method\": \"支付宝\", \"content_sms\": {\"content\": \"abcdefg\", \"title\": \"乒乓美报名了\"}, \"locations\": [{\"name\": \"中关村\", \"lng\": \"127.77777\", \"lat\": \"33.123344\", \"radius\": \"500\"}, {\"name\": \"中关村\", \"lng\": \"127.77777\", \"lat\": \"33.123344\", \"radius\": \"500\"}], \"coupon\": \"5\", \"alipay_id\": \"543245642452\", \"plan_send_cnt\": 100}]}\n"
     ]
    }
   ],
   "source": [
    "title=\"获取列表活动\"\n",
    "param = {\n",
    "\"type\":1,\n",
    "\"per_page\":3,\n",
    "\"page\":2\n",
    "}\n",
    "headers = {\"sc-token\":sc_token}\n",
    "r1 = requests.post(url+\"service/app/orderlist\",data=json.dumps(param),headers=headers)\n",
    "print(str(r1._content, encoding=\"utf-8\"))"
   ]
  },
  {
   "cell_type": "code",
   "execution_count": 178,
   "metadata": {},
   "outputs": [
    {
     "name": "stdout",
     "output_type": "stream",
     "text": [
      "{\"bill_list\": [{\"title\": \"退款\", \"user_id\": 1, \"date\": \"2018-06-27 19:49:16\", \"money\": 3.0, \"id\": 1}, {\"title\": \"退款\", \"user_id\": 1, \"date\": \"2018-06-27 19:49:16\", \"money\": 7.0, \"id\": 2}, {\"title\": \"支付宝\", \"user_id\": 1, \"date\": \"2018-06-27 19:42:14\", \"money\": 10.0, \"id\": 1}, {\"title\": null, \"user_id\": 1, \"date\": \"2018-06-28 11:37:25\", \"money\": 11.0, \"id\": 1}, {\"title\": \"微信\", \"user_id\": 1, \"date\": \"2018-06-27 19:42:14\", \"money\": 11.0, \"id\": 2}]}\n"
     ]
    }
   ],
   "source": [
    "title=\"近期账单查询\"\n",
    "param = {\n",
    "\"type\":4,\n",
    "\"count\":5\n",
    "}\n",
    "headers = {\"sc-token\":sc_token}\n",
    "r1 = requests.post(url+\"service/app/lastest_bill\",data=json.dumps(param),headers=headers)\n",
    "print(str(r1._content, encoding=\"utf-8\"))"
   ]
  },
  {
   "cell_type": "code",
   "execution_count": 166,
   "metadata": {},
   "outputs": [
    {
     "name": "stdout",
     "output_type": "stream",
     "text": [
      "{\"path\": \"111.jpeg\"}\n"
     ]
    }
   ],
   "source": [
    "title=\"上传图片\"\n",
    "files = {'file': open('/home/larry/Desktop/111.jpeg' , 'rb')}\n",
    "\n",
    "headers = {\"sc-token\":sc_token}\n",
    "r1 = requests.post(url+\"service/app/upload_pic\",files=files,headers=headers)\n",
    "print(str(r1._content, encoding=\"utf-8\"))"
   ]
  },
  {
   "cell_type": "code",
   "execution_count": 32,
   "metadata": {},
   "outputs": [
    {
     "name": "stdout",
     "output_type": "stream",
     "text": [
      "{\"status\": 1}\n"
     ]
    }
   ],
   "source": [
    "title=\"发送邮件\"\n",
    "param = {\n",
    "\"type\":2,\n",
    "\"per_page\":3,\n",
    "\"page\":2\n",
    "}\n",
    "headers = {\"sc-token\":sc_token}\n",
    "r1 = requests.post(url+\"service/app/email_code\",data=json.dumps(param),headers=headers)\n",
    "print(str(r1._content, encoding=\"utf-8\"))"
   ]
  },
  {
   "cell_type": "code",
   "execution_count": 42,
   "metadata": {},
   "outputs": [
    {
     "name": "stdout",
     "output_type": "stream",
     "text": [
      "{\"status\": 2, \"status_code\": \"\"}\n"
     ]
    }
   ],
   "source": [
    "title=\"发送短信验证码\"\n",
    "param = {\n",
    "\"telephone\":\"17621199487\"\n",
    "}\n",
    "headers = {\"sc-token\":sc_token}\n",
    "r1 = requests.post(url+\"service/app/sms_code\",data=json.dumps(param),headers=headers)\n",
    "print(str(r1._content, encoding=\"utf-8\"))"
   ]
  },
  {
   "cell_type": "code",
   "execution_count": 37,
   "metadata": {},
   "outputs": [
    {
     "name": "stdout",
     "output_type": "stream",
     "text": [
      "{\"status\": 2}\n"
     ]
    }
   ],
   "source": [
    "title=\"注册\"\n",
    "param = {\n",
    "\"username\":\"admin\",\n",
    "\"password\":\"0192023a7bbd73250516f069df18b500\",\n",
    "\"telephone\":\"13581549297\",\n",
    "\"sms_code\":\"677509\"\n",
    "}\n",
    "headers = {\"sc-token\":sc_token}\n",
    "r1 = requests.post(url+\"service/app/register\",data=json.dumps(param),headers=headers)\n",
    "print(str(r1._content, encoding=\"utf-8\"))"
   ]
  },
  {
   "cell_type": "code",
   "execution_count": 38,
   "metadata": {},
   "outputs": [
    {
     "name": "stdout",
     "output_type": "stream",
     "text": [
      "{\"status\": 2}\n"
     ]
    }
   ],
   "source": [
    "title=\"修改密码\"\n",
    "param = {\n",
    "\"old_password\":\"0192023a7bbd73250516f069df18b500\",\n",
    "\"new_password\":\"0192023a7bbd73250516f069df18b501\",\n",
    "\"telephone\":\"17621199487\",\n",
    "\"sms_code\":\"383238\"\n",
    "}\n",
    "headers = {\"sc-token\":sc_token}\n",
    "r1 = requests.post(url+\"service/app/change_password\",data=json.dumps(param),headers=headers)\n",
    "print(str(r1._content, encoding=\"utf-8\"))"
   ]
  },
  {
   "cell_type": "code",
   "execution_count": 39,
   "metadata": {},
   "outputs": [
    {
     "name": "stdout",
     "output_type": "stream",
     "text": [
      "{\"status\": 2}\n"
     ]
    }
   ],
   "source": [
    "title=\"修改绑定手机\"\n",
    "param = {\n",
    "\"old_code\":\"993938\",\n",
    "\"new_telephone\":\"17621199487\",\n",
    "\"new_code\":\"993938\"\n",
    "}\n",
    "headers = {\"sc-token\":sc_token}\n",
    "r1 = requests.post(url+\"service/app/change_telephone\",data=json.dumps(param),headers=headers)\n",
    "print(str(r1._content, encoding=\"utf-8\"))"
   ]
  },
  {
   "cell_type": "code",
   "execution_count": 40,
   "metadata": {},
   "outputs": [
    {
     "name": "stdout",
     "output_type": "stream",
     "text": [
      "{\"status\": 3}\n"
     ]
    }
   ],
   "source": [
    "title=\"修改绑定邮箱\"\n",
    "param = {\n",
    "\"email\":\"19238476@qq.com\",\n",
    "\"mail_code\":\"571611\",\n",
    "\"phone_code\":\"993938\",\n",
    "}\n",
    "headers = {\"sc-token\":sc_token}\n",
    "r1 = requests.post(url+\"service/app/change_mailbox\",data=json.dumps(param),headers=headers)\n",
    "print(str(r1._content, encoding=\"utf-8\"))"
   ]
  },
  {
   "cell_type": "code",
   "execution_count": 36,
   "metadata": {},
   "outputs": [
    {
     "name": "stdout",
     "output_type": "stream",
     "text": [
      "{\"list\": [{\"name\": \"我的模板1\", \"id\": 4, \"tags\": [\"教育\", \"旅游\", \"金融\", \"汽车\"]}, {\"name\": \"我的模板2\", \"id\": 5, \"tags\": [\"教育\", \"旅游\", \"金融\", \"汽车\"]}, {\"name\": \"我的模板2\", \"id\": 6, \"tags\": [\"教育\", \"旅游\", \"金融\", \"汽车\"]}, {\"name\": \"我的模板2\", \"id\": 7, \"tags\": [\"教育\", \"旅游\", \"金融\", \"汽车\"]}, {\"name\": \"我的模板2\", \"id\": 8, \"tags\": [\"教育\", \"旅游\", \"金融\", \"汽车\"]}, {\"name\": \"我的模板2\", \"id\": 9, \"tags\": [\"教育\", \"旅游\", \"金融\", \"汽车\"]}, {\"name\": \"我的模板2\", \"id\": 10, \"tags\": [\"教育\", \"旅游\", \"金融\", \"汽车\"]}, {\"name\": \"我的模板2\", \"id\": 11, \"tags\": [\"教育\", \"旅游\", \"金融\", \"汽车\"]}, {\"name\": \"我的模板2\", \"id\": 12, \"tags\": [\"教育\", \"旅游\", \"金融\", \"汽车\"]}, {\"name\": \"我的模板2\", \"id\": 13, \"tags\": [\"教育\", \"旅游\", \"金融\", \"汽车\"]}, {\"name\": \"我的模板2\", \"id\": 14, \"tags\": [\"教育\", \"旅游\", \"金融\", \"汽车\"]}, {\"name\": \"我的模板2\", \"id\": 15, \"tags\": [\"教育\", \"旅游\", \"金融\", \"汽车\"]}, {\"name\": \"我的模板2\", \"id\": 16, \"tags\": [\"教育\", \"旅游\", \"金融\", \"汽车\"]}, {\"name\": \"我的模板2\", \"id\": 17, \"tags\": [\"教育\", \"旅游\", \"金融\", \"汽车\"]}, {\"name\": \"我的模板2\", \"id\": 18, \"tags\": [\"教育\", \"旅游\", \"金融\", \"汽车\"]}, {\"name\": \"我的模板2\", \"id\": 19, \"tags\": [\"教育\", \"旅游\", \"金融\", \"汽车\"]}, {\"name\": \"我的模板2\", \"id\": 20, \"tags\": [\"教育\", \"旅游\", \"金融\", \"汽车\"]}, {\"name\": \"我的模板2\", \"id\": 21, \"tags\": [\"教育\", \"旅游\", \"金融\", \"汽车\"]}, {\"name\": \"我的模板2\", \"id\": 22, \"tags\": [\"教育\", \"旅游\", \"金融\", \"汽车\"]}, {\"name\": \"我的模板2\", \"id\": 23, \"tags\": [\"教育\", \"旅游\", \"金融\", \"汽车\"]}, {\"name\": \"我的模板2\", \"id\": 24, \"tags\": [\"教育\", \"旅游\", \"金融\", \"汽车\"]}, {\"name\": \"我的模板2\", \"id\": 25, \"tags\": [\"教育\", \"旅游\", \"金融\", \"汽车\"]}, {\"name\": \"我的模板2\", \"id\": 26, \"tags\": [\"教育\", \"旅游\", \"金融\", \"汽车\"]}, {\"name\": \"我的模板2\", \"id\": 27, \"tags\": [\"教育\", \"旅游\", \"金融\", \"汽车\"]}, {\"name\": \"我的模板2\", \"id\": 28, \"tags\": [\"教育\", \"旅游\", \"金融\", \"汽车\"]}]}\n"
     ]
    }
   ],
   "source": [
    "title=\"我的标签模板列表\"\n",
    "\n",
    "headers = {\"sc-token\":sc_token}\n",
    "r1 = requests.get(url+\"service/app/user_tag_templet_list\",headers=headers)\n",
    "print(str(r1._content, encoding=\"utf-8\"))"
   ]
  },
  {
   "cell_type": "code",
   "execution_count": 10,
   "metadata": {},
   "outputs": [
    {
     "name": "stdout",
     "output_type": "stream",
     "text": [
      "{\"user_info\": {\"telephone\": \"17283222212\", \"mail\": \"392139432@qq.com\", \"level\": \"黄金会员\", \"name\": \"张三\", \"usertype\": \"组织者\"}, \"account_info\": {\"balance\": 1000, \"coupon\": 10, \"score\": 8888}}\n"
     ]
    }
   ],
   "source": [
    "title=\"获取个人详情\"\n",
    "\n",
    "headers = {\"sc-token\":sc_token}\n",
    "r1 = requests.get(url+\"service/app/get_user_info\",headers=headers)\n",
    "print(str(r1._content, encoding=\"utf-8\"))"
   ]
  },
  {
   "cell_type": "code",
   "execution_count": 11,
   "metadata": {},
   "outputs": [
    {
     "name": "stdout",
     "output_type": "stream",
     "text": [
      "{\"list\": [{\"parent\": 0, \"child_items\": [{\"parent\": \"1\", \"id\": 100001, \"desc\": \"学前教育\"}, {\"parent\": \"1\", \"id\": 100002, \"desc\": \"中小学教育\"}], \"id\": 1, \"desc\": \"运动爱好者\"}]}\n"
     ]
    }
   ],
   "source": [
    "title=\"获取项目与赛事（按项目推荐）\"\n",
    "\n",
    "headers = {\"sc-token\":sc_token}\n",
    "r1 = requests.get(url+\"service/app/get_projects\",headers=headers)\n",
    "print(str(r1._content, encoding=\"utf-8\"))"
   ]
  },
  {
   "cell_type": "code",
   "execution_count": 12,
   "metadata": {},
   "outputs": [
    {
     "name": "stdout",
     "output_type": "stream",
     "text": [
      "{\"tags\": [{\"id\": 1, \"desc\": \"运动爱好者\", \"parent\": 0}, {\"id\": 2, \"desc\": \"90后\", \"parent\": 0}, {\"id\": 3, \"desc\": \"乒乓球爱好者\", \"parent\": 0}]}\n"
     ]
    }
   ],
   "source": [
    "title=\"获取底层标签\"\n",
    "param = {\n",
    "\"projectids\":[1,2,3,4]\n",
    "}\n",
    "headers = {\"sc-token\":sc_token}\n",
    "r1 = requests.post(url+\"service/app/get_bottom_tags\",data=json.dumps(param),headers=headers)\n",
    "print(str(r1._content, encoding=\"utf-8\"))"
   ]
  },
  {
   "cell_type": "code",
   "execution_count": 13,
   "metadata": {},
   "outputs": [
    {
     "name": "stdout",
     "output_type": "stream",
     "text": [
      "{\"status\": \"1\"}\n"
     ]
    }
   ],
   "source": [
    "title=\"删除个人模板\"\n",
    "\n",
    "headers = {\"sc-token\":sc_token}\n",
    "r1 = requests.get(url+\"service/app/delete_user_templet/4\",data=json.dumps(param),headers=headers)\n",
    "print(str(r1._content, encoding=\"utf-8\"))"
   ]
  },
  {
   "cell_type": "code",
   "execution_count": 33,
   "metadata": {},
   "outputs": [
    {
     "name": "stdout",
     "output_type": "stream",
     "text": [
      "{\"list\": [{\"title\": \"模板1\", \"id\": 1}]}\n"
     ]
    }
   ],
   "source": [
    "title=\"获取图文信息模板列表\"\n",
    "\n",
    "headers = {\"sc-token\":sc_token}\n",
    "r1 = requests.get(url+\"service/app/get_templet_list\",data=json.dumps(param),headers=headers)\n",
    "print(str(r1._content, encoding=\"utf-8\"))"
   ]
  },
  {
   "cell_type": "code",
   "execution_count": 22,
   "metadata": {},
   "outputs": [
    {
     "name": "stdout",
     "output_type": "stream",
     "text": [
      "{\"id\": 1, \"content\": {\"content\": \"文本正文\", \"italic\": \"1\", \"sender\": \"发送者1\", \"bold\": \"1\", \"color\": \"#ffffff\", \"font_size\": \"10\", \"location\": {\"adress\": \"地点名字\", \"lng\": \"120.10569961509707\", \"lat\": \"31.433718543835663\"}, \"pic_path\": \"\", \"underline\": \"1\", \"title\": \"标题\", \"link\": \"https://www.baidu.com\"}}\n"
     ]
    }
   ],
   "source": [
    "title=\"获取图文信息模板（json格式)\"\n",
    "\n",
    "headers = {\"sc-token\":sc_token}\n",
    "r1 = requests.get(url+\"service/app/get_json_templet/1\",headers=headers)\n",
    "print(str(r1._content, encoding=\"utf-8\"))"
   ]
  },
  {
   "cell_type": "code",
   "execution_count": 21,
   "metadata": {},
   "outputs": [
    {
     "name": "stdout",
     "output_type": "stream",
     "text": [
      "{\"status\": \"1\"}\n"
     ]
    }
   ],
   "source": [
    "title=\"编辑图文信息模板（json格式)\"\n",
    "param = {\n",
    "\"id\":\"1\",\n",
    "    \"content\":{\"sender\":\"发送者1\",\"title\":\"标题\",\"content\":\"文本正文\",\"font_size\":\"10\",\"bold\":\"1\",\"italic\":\"1\",\"underline\":\"1\",\"color\":\"#ffffff\",\"pic_path\":\"\",\"location\":{\"adress\":\"地点名字\",\"lng\":\"120.10569961509707\",\"lat\":\"31.433718543835663\"},\"link\":\"https://www.baidu.com\"}\n",
    "}\n",
    "headers = {\"sc-token\":sc_token}\n",
    "r1 = requests.post(url+\"service/app/edit_json_templet\",data=json.dumps(param),headers=headers)\n",
    "print(str(r1._content, encoding=\"utf-8\"))"
   ]
  },
  {
   "cell_type": "code",
   "execution_count": 34,
   "metadata": {},
   "outputs": [
    {
     "name": "stdout",
     "output_type": "stream",
     "text": [
      "{\"url\": \"/service/app/get_json_templet/1\"}\n"
     ]
    }
   ],
   "source": [
    "title=\"获取第一条模板url\"\n",
    "\n",
    "headers = {\"sc-token\":sc_token}\n",
    "r1 = requests.get(url+\"service/app/get_first_temp_url\",headers=headers)\n",
    "print(str(r1._content, encoding=\"utf-8\"))"
   ]
  },
  {
   "cell_type": "code",
   "execution_count": null,
   "metadata": {},
   "outputs": [],
   "source": []
  }
 ],
 "metadata": {
  "kernelspec": {
   "display_name": "Python 3",
   "language": "python",
   "name": "python3"
  },
  "language_info": {
   "codemirror_mode": {
    "name": "ipython",
    "version": 3
   },
   "file_extension": ".py",
   "mimetype": "text/x-python",
   "name": "python",
   "nbconvert_exporter": "python",
   "pygments_lexer": "ipython3",
   "version": "3.7.0"
  }
 },
 "nbformat": 4,
 "nbformat_minor": 2
}
