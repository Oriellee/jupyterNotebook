{
 "cells": [
  {
   "cell_type": "code",
   "execution_count": 4,
   "metadata": {},
   "outputs": [],
   "source": [
    "import pandas as pd\n",
    "from pandas import DataFrame as DataFrame\n",
    "from xlrd import open_workbook\n",
    "import numpy as np\n",
    "import re\n",
    "def df_2_create_sql(db_name,tbl_name,df):\n",
    "    create= \"CREATE TABLE IF NOT EXISTS `{}`.`{}` \\n(\\n\".format(db_name,tbl_name)\n",
    "    for r in df.values:\n",
    "        pk = \"\"\n",
    "        increase = \"\"\n",
    "#         if pd.isnull(r[3])==False:\n",
    "#             if r[3].find(\"主键\") !=-1:\n",
    "#                 pk = \"PRIMARY KEY\"\n",
    "#             if r[3].find(\"自增长\")!=-1:\n",
    "#                 increase = \"AUTO_INCREMENT\"\n",
    "        create += \"    `{}` {}  {} {} COMMENT '{}',\\n\".format(r[0],r[2],pk,increase,r[1])\n",
    "    create=create.rstrip(\",\\n\")\n",
    "\n",
    "    create +=\"\\n);\\n\"\n",
    "    return create\n",
    "\n",
    "\n",
    "def excel_2_create_sql(db_name,excel_file,sheet_list=[]):\n",
    "    if sheet_list==[]:\n",
    "        sheet_list=open_workbook(excel_file).sheet_names()\n",
    "    rettxt = \"\"\n",
    "    for sheet in sheet_list:\n",
    "#         if sheet.find(\"cfg_\")!=0 and sheet.find(\"tbl_\")!=0:\n",
    "#             continue\n",
    "        df = pd.read_excel(excel_file,sheet,usecols=[1,2,3,4],skiprows=[0,1,2,3])\n",
    "        rettxt = rettxt + df_2_create_sql(db_name,sheet,df)\n",
    "    return rettxt"
   ]
  },
  {
   "cell_type": "code",
   "execution_count": 7,
   "metadata": {},
   "outputs": [
    {
     "name": "stdout",
     "output_type": "stream",
     "text": [
      "CREATE TABLE IF NOT EXISTS `cAuth`.`概述` \n",
      "(\n",
      ");\n",
      "CREATE TABLE IF NOT EXISTS `cAuth`.`movie_details` \n",
      "(\n",
      "    `title` VARCHAR(100)    COMMENT '电影名称',\n",
      "    `cover` VARCHAR(500)    COMMENT '图片链接',\n",
      "    `type` VARCHAR(100)    COMMENT '电影类型',\n",
      "    `releaseTime` VARCHAR(100)    COMMENT '上映时间及地区',\n",
      "    `time` VARCHAR(100)    COMMENT '电影时长',\n",
      "    `addr` VARCHAR(100)    COMMENT '上映地区',\n",
      "    `rate` VARCHAR(100)    COMMENT '评分',\n",
      "    `introduction` VARCHAR(2000)    COMMENT '电影简介',\n",
      "    `movieId` BIGINT    COMMENT '电影id'\n",
      ");\n",
      "CREATE TABLE IF NOT EXISTS `cAuth`.`movie_starts` \n",
      "(\n",
      "    `name` VARCHAR(100)    COMMENT '姓名',\n",
      "    `cover` VARCHAR(500)    COMMENT '图片链接',\n",
      "    `type` VARCHAR(100)    COMMENT '影人类型',\n",
      "    `movieName` VARCHAR(100)    COMMENT '电影名称',\n",
      "    `movieId` BIGINT    COMMENT '电影id'\n",
      ");\n",
      "\n"
     ]
    }
   ],
   "source": [
    "# 读取文件，并将文件中的数据转化为sql语句。\n",
    "db_name = \"cAuth\"\n",
    "excel_file = r\"D:/myopus/WeChat/doubanmovie/data/数据字典.xlsx\"\n",
    "txt = excel_2_create_sql(db_name,excel_file)\n",
    "print(txt)\n"
   ]
  },
  {
   "cell_type": "code",
   "execution_count": null,
   "metadata": {},
   "outputs": [],
   "source": []
  }
 ],
 "metadata": {
  "kernelspec": {
   "display_name": "Python 3",
   "language": "python",
   "name": "python3"
  },
  "language_info": {
   "codemirror_mode": {
    "name": "ipython",
    "version": 3
   },
   "file_extension": ".py",
   "mimetype": "text/x-python",
   "name": "python",
   "nbconvert_exporter": "python",
   "pygments_lexer": "ipython3",
   "version": "3.7.0"
  }
 },
 "nbformat": 4,
 "nbformat_minor": 2
}
